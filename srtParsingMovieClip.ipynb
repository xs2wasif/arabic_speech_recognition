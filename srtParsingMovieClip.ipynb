{
    "cells": [
        {
            "cell_type": "code",
            "execution_count": 12,
            "source": [
                "import pysrt\r\n",
                "import moviepy.editor as mp\r\n",
                "\r\n",
                "from datetime import datetime\r\n",
                "\r\n",
                "import numpy\r\n",
                "\r\n",
                "import pandas"
            ],
            "outputs": [],
            "metadata": {}
        },
        {
            "cell_type": "code",
            "execution_count": 8,
            "source": [
                "subs = pysrt.open(r\"C:\\Users\\koool\\Desktop\\subtitles\\bw.srt\")\r\n",
                "my_clip = mp.VideoFileClip(r\"D:\\01_movies\\Black Widow (2021) [2160p] [4K] [WEB] [HDR] [5.1] [YTS.MX]\\Black.Widow.2021.2160p.4K.WEB.x265.10bit.HDR.AAC5.1-[YTS.MX].mkv\")"
            ],
            "outputs": [],
            "metadata": {}
        },
        {
            "cell_type": "code",
            "execution_count": 14,
            "source": [
                "type(subs[0].start.to_time().strftime(\"%H:%M:%S\"))\r\n",
                "\r\n",
                "print(subs[0].start.to_time().strftime(\"%H:%M:%S\"))"
            ],
            "outputs": [
                {
                    "output_type": "stream",
                    "name": "stdout",
                    "text": [
                        "00:01:06\n"
                    ]
                }
            ],
            "metadata": {}
        },
        {
            "cell_type": "code",
            "execution_count": 21,
            "source": [
                "for i,sub in enumerate(subs):\r\n",
                "        clip = my_clip.subclip(sub.start.to_time().strftime(\"%H:%M:%S\"),sub.end.to_time().strftime(\"%H:%M:%S.%f\"))\r\n",
                "        clip.audio.write_audiofile(r\"C:\\Users\\koool\\Desktop\\subtitles\\audio_clips\\bw\"+str(i)+\".mp3\")"
            ],
            "outputs": [
                {
                    "output_type": "stream",
                    "name": "stderr",
                    "text": [
                        "chunk: 100%|██████████| 1/1 [07:09<00:00, 429.39s/it, now=None]"
                    ]
                },
                {
                    "output_type": "stream",
                    "name": "stdout",
                    "text": [
                        "MoviePy - Writing audio in C:\\Users\\koool\\Desktop\\subtitles\\audio_clips\\bw0.mp3\n"
                    ]
                },
                {
                    "output_type": "stream",
                    "name": "stderr",
                    "text": [
                        "chunk: 100%|██████████| 1/1 [07:10<00:00, 430.03s/it, now=None]"
                    ]
                },
                {
                    "output_type": "stream",
                    "name": "stdout",
                    "text": [
                        "MoviePy - Done.\n"
                    ]
                },
                {
                    "output_type": "stream",
                    "name": "stderr",
                    "text": [
                        "chunk: 100%|██████████| 1/1 [07:12<00:00, 432.24s/it, now=None]"
                    ]
                },
                {
                    "output_type": "stream",
                    "name": "stdout",
                    "text": [
                        "MoviePy - Writing audio in C:\\Users\\koool\\Desktop\\subtitles\\audio_clips\\bw1.mp3\n"
                    ]
                },
                {
                    "output_type": "stream",
                    "name": "stderr",
                    "text": [
                        "chunk: 100%|██████████| 1/1 [07:12<00:00, 432.87s/it, now=None]"
                    ]
                },
                {
                    "output_type": "stream",
                    "name": "stdout",
                    "text": [
                        "MoviePy - Done.\n"
                    ]
                },
                {
                    "output_type": "stream",
                    "name": "stderr",
                    "text": [
                        "chunk: 100%|██████████| 1/1 [07:14<00:00, 434.92s/it, now=None]"
                    ]
                },
                {
                    "output_type": "stream",
                    "name": "stdout",
                    "text": [
                        "MoviePy - Writing audio in C:\\Users\\koool\\Desktop\\subtitles\\audio_clips\\bw2.mp3\n"
                    ]
                },
                {
                    "output_type": "stream",
                    "name": "stderr",
                    "text": [
                        "chunk: 100%|██████████| 1/1 [07:15<00:00, 435.53s/it, now=None]"
                    ]
                },
                {
                    "output_type": "stream",
                    "name": "stdout",
                    "text": [
                        "MoviePy - Done.\n"
                    ]
                },
                {
                    "output_type": "stream",
                    "name": "stderr",
                    "text": [
                        "chunk: 100%|██████████| 1/1 [07:21<00:00, 441.69s/it, now=None]"
                    ]
                },
                {
                    "output_type": "stream",
                    "name": "stdout",
                    "text": [
                        "MoviePy - Writing audio in C:\\Users\\koool\\Desktop\\subtitles\\audio_clips\\bw3.mp3\n"
                    ]
                },
                {
                    "output_type": "stream",
                    "name": "stderr",
                    "text": [
                        "chunk: 100%|██████████| 1/1 [07:22<00:00, 442.28s/it, now=None]"
                    ]
                },
                {
                    "output_type": "stream",
                    "name": "stdout",
                    "text": [
                        "MoviePy - Done.\n"
                    ]
                },
                {
                    "output_type": "stream",
                    "name": "stderr",
                    "text": [
                        "chunk: 100%|██████████| 1/1 [07:26<00:00, 446.39s/it, now=None]"
                    ]
                },
                {
                    "output_type": "stream",
                    "name": "stdout",
                    "text": [
                        "MoviePy - Writing audio in C:\\Users\\koool\\Desktop\\subtitles\\audio_clips\\bw4.mp3\n"
                    ]
                },
                {
                    "output_type": "stream",
                    "name": "stderr",
                    "text": [
                        "chunk: 100%|██████████| 1/1 [07:26<00:00, 447.00s/it, now=None]"
                    ]
                },
                {
                    "output_type": "stream",
                    "name": "stdout",
                    "text": [
                        "MoviePy - Done.\n"
                    ]
                },
                {
                    "output_type": "stream",
                    "name": "stderr",
                    "text": [
                        "chunk: 100%|██████████| 1/1 [07:29<00:00, 449.27s/it, now=None]"
                    ]
                },
                {
                    "output_type": "stream",
                    "name": "stdout",
                    "text": [
                        "MoviePy - Writing audio in C:\\Users\\koool\\Desktop\\subtitles\\audio_clips\\bw5.mp3\n"
                    ]
                },
                {
                    "output_type": "stream",
                    "name": "stderr",
                    "text": [
                        "chunk: 100%|██████████| 1/1 [07:29<00:00, 449.84s/it, now=None]"
                    ]
                },
                {
                    "output_type": "stream",
                    "name": "stdout",
                    "text": [
                        "MoviePy - Done.\n"
                    ]
                },
                {
                    "output_type": "stream",
                    "name": "stderr",
                    "text": [
                        "chunk: 100%|██████████| 1/1 [07:34<00:00, 454.52s/it, now=None]"
                    ]
                },
                {
                    "output_type": "stream",
                    "name": "stdout",
                    "text": [
                        "MoviePy - Writing audio in C:\\Users\\koool\\Desktop\\subtitles\\audio_clips\\bw6.mp3\n"
                    ]
                },
                {
                    "output_type": "stream",
                    "name": "stderr",
                    "text": [
                        "chunk: 100%|██████████| 1/1 [07:35<00:00, 455.13s/it, now=None]"
                    ]
                },
                {
                    "output_type": "stream",
                    "name": "stdout",
                    "text": [
                        "MoviePy - Done.\n"
                    ]
                },
                {
                    "output_type": "stream",
                    "name": "stderr",
                    "text": [
                        "chunk: 100%|██████████| 1/1 [07:39<00:00, 459.82s/it, now=None]"
                    ]
                },
                {
                    "output_type": "stream",
                    "name": "stdout",
                    "text": [
                        "MoviePy - Writing audio in C:\\Users\\koool\\Desktop\\subtitles\\audio_clips\\bw7.mp3\n"
                    ]
                },
                {
                    "output_type": "stream",
                    "name": "stderr",
                    "text": [
                        "chunk: 100%|██████████| 1/1 [07:40<00:00, 460.41s/it, now=None]"
                    ]
                },
                {
                    "output_type": "stream",
                    "name": "stdout",
                    "text": [
                        "MoviePy - Done.\n"
                    ]
                },
                {
                    "output_type": "stream",
                    "name": "stderr",
                    "text": [
                        "chunk: 100%|██████████| 1/1 [07:50<00:00, 470.06s/it, now=None]"
                    ]
                },
                {
                    "output_type": "stream",
                    "name": "stdout",
                    "text": [
                        "MoviePy - Writing audio in C:\\Users\\koool\\Desktop\\subtitles\\audio_clips\\bw8.mp3\n"
                    ]
                },
                {
                    "output_type": "stream",
                    "name": "stderr",
                    "text": [
                        "chunk: 100%|██████████| 1/1 [07:50<00:00, 470.67s/it, now=None]"
                    ]
                },
                {
                    "output_type": "stream",
                    "name": "stdout",
                    "text": [
                        "MoviePy - Done.\n"
                    ]
                },
                {
                    "output_type": "stream",
                    "name": "stderr",
                    "text": [
                        "chunk: 100%|██████████| 1/1 [07:53<00:00, 473.59s/it, now=None]"
                    ]
                },
                {
                    "output_type": "stream",
                    "name": "stdout",
                    "text": [
                        "MoviePy - Writing audio in C:\\Users\\koool\\Desktop\\subtitles\\audio_clips\\bw9.mp3\n"
                    ]
                },
                {
                    "output_type": "stream",
                    "name": "stderr",
                    "text": [
                        "chunk: 100%|██████████| 1/1 [07:54<00:00, 474.21s/it, now=None]"
                    ]
                },
                {
                    "output_type": "stream",
                    "name": "stdout",
                    "text": [
                        "MoviePy - Done.\n"
                    ]
                },
                {
                    "output_type": "stream",
                    "name": "stderr",
                    "text": [
                        "chunk: 100%|██████████| 1/1 [08:03<00:00, 483.56s/it, now=None]"
                    ]
                },
                {
                    "output_type": "stream",
                    "name": "stdout",
                    "text": [
                        "MoviePy - Writing audio in C:\\Users\\koool\\Desktop\\subtitles\\audio_clips\\bw10.mp3\n"
                    ]
                },
                {
                    "output_type": "stream",
                    "name": "stderr",
                    "text": [
                        "chunk: 100%|██████████| 1/1 [08:04<00:00, 484.20s/it, now=None]"
                    ]
                },
                {
                    "output_type": "stream",
                    "name": "stdout",
                    "text": [
                        "MoviePy - Done.\n"
                    ]
                },
                {
                    "output_type": "stream",
                    "name": "stderr",
                    "text": [
                        "chunk: 100%|██████████| 1/1 [08:07<00:00, 487.81s/it, now=None]"
                    ]
                },
                {
                    "output_type": "stream",
                    "name": "stdout",
                    "text": [
                        "MoviePy - Writing audio in C:\\Users\\koool\\Desktop\\subtitles\\audio_clips\\bw11.mp3\n"
                    ]
                },
                {
                    "output_type": "stream",
                    "name": "stderr",
                    "text": [
                        "chunk: 100%|██████████| 1/1 [08:08<00:00, 488.57s/it, now=None]"
                    ]
                },
                {
                    "output_type": "stream",
                    "name": "stdout",
                    "text": [
                        "MoviePy - Done.\n"
                    ]
                },
                {
                    "output_type": "stream",
                    "name": "stderr",
                    "text": [
                        "chunk: 100%|██████████| 1/1 [08:10<00:00, 490.99s/it, now=None]"
                    ]
                },
                {
                    "output_type": "stream",
                    "name": "stdout",
                    "text": [
                        "MoviePy - Writing audio in C:\\Users\\koool\\Desktop\\subtitles\\audio_clips\\bw12.mp3\n"
                    ]
                },
                {
                    "output_type": "stream",
                    "name": "stderr",
                    "text": [
                        "chunk: 100%|██████████| 1/1 [08:11<00:00, 491.63s/it, now=None]"
                    ]
                },
                {
                    "output_type": "stream",
                    "name": "stdout",
                    "text": [
                        "MoviePy - Done.\n"
                    ]
                },
                {
                    "output_type": "stream",
                    "name": "stderr",
                    "text": [
                        "chunk: 100%|██████████| 1/1 [08:26<00:00, 506.32s/it, now=None]"
                    ]
                },
                {
                    "output_type": "stream",
                    "name": "stdout",
                    "text": [
                        "MoviePy - Writing audio in C:\\Users\\koool\\Desktop\\subtitles\\audio_clips\\bw13.mp3\n"
                    ]
                },
                {
                    "output_type": "stream",
                    "name": "stderr",
                    "text": [
                        "chunk: 100%|██████████| 1/1 [08:26<00:00, 506.97s/it, now=None]"
                    ]
                },
                {
                    "output_type": "stream",
                    "name": "stdout",
                    "text": [
                        "MoviePy - Done.\n"
                    ]
                },
                {
                    "output_type": "stream",
                    "name": "stderr",
                    "text": [
                        "chunk: 100%|██████████| 1/1 [08:39<00:00, 519.26s/it, now=None]"
                    ]
                },
                {
                    "output_type": "stream",
                    "name": "stdout",
                    "text": [
                        "MoviePy - Writing audio in C:\\Users\\koool\\Desktop\\subtitles\\audio_clips\\bw14.mp3\n"
                    ]
                },
                {
                    "output_type": "stream",
                    "name": "stderr",
                    "text": [
                        "chunk: 100%|██████████| 1/1 [08:39<00:00, 519.98s/it, now=None]"
                    ]
                },
                {
                    "output_type": "stream",
                    "name": "stdout",
                    "text": [
                        "MoviePy - Done.\n"
                    ]
                },
                {
                    "output_type": "stream",
                    "name": "stderr",
                    "text": [
                        "chunk: 100%|██████████| 1/1 [08:48<00:00, 528.66s/it, now=None]"
                    ]
                },
                {
                    "output_type": "stream",
                    "name": "stdout",
                    "text": [
                        "MoviePy - Writing audio in C:\\Users\\koool\\Desktop\\subtitles\\audio_clips\\bw15.mp3\n"
                    ]
                },
                {
                    "output_type": "stream",
                    "name": "stderr",
                    "text": [
                        "chunk: 100%|██████████| 1/1 [08:49<00:00, 529.27s/it, now=None]"
                    ]
                },
                {
                    "output_type": "stream",
                    "name": "stdout",
                    "text": [
                        "MoviePy - Done.\n"
                    ]
                },
                {
                    "output_type": "stream",
                    "name": "stderr",
                    "text": [
                        "chunk: 100%|██████████| 1/1 [08:52<00:00, 532.98s/it, now=None]"
                    ]
                },
                {
                    "output_type": "stream",
                    "name": "stdout",
                    "text": [
                        "MoviePy - Writing audio in C:\\Users\\koool\\Desktop\\subtitles\\audio_clips\\bw16.mp3\n"
                    ]
                },
                {
                    "output_type": "stream",
                    "name": "stderr",
                    "text": [
                        "chunk: 100%|██████████| 1/1 [08:53<00:00, 533.64s/it, now=None]"
                    ]
                },
                {
                    "output_type": "stream",
                    "name": "stdout",
                    "text": [
                        "MoviePy - Done.\n"
                    ]
                },
                {
                    "output_type": "stream",
                    "name": "stderr",
                    "text": [
                        "chunk: 100%|██████████| 1/1 [09:02<00:00, 542.61s/it, now=None]"
                    ]
                },
                {
                    "output_type": "stream",
                    "name": "stdout",
                    "text": [
                        "MoviePy - Writing audio in C:\\Users\\koool\\Desktop\\subtitles\\audio_clips\\bw17.mp3\n"
                    ]
                },
                {
                    "output_type": "stream",
                    "name": "stderr",
                    "text": [
                        "chunk: 100%|██████████| 1/1 [09:03<00:00, 543.30s/it, now=None]"
                    ]
                },
                {
                    "output_type": "stream",
                    "name": "stdout",
                    "text": [
                        "MoviePy - Done.\n"
                    ]
                },
                {
                    "output_type": "stream",
                    "name": "stderr",
                    "text": [
                        "chunk: 100%|██████████| 1/1 [09:18<00:00, 558.72s/it, now=None]"
                    ]
                },
                {
                    "output_type": "stream",
                    "name": "stdout",
                    "text": [
                        "MoviePy - Writing audio in C:\\Users\\koool\\Desktop\\subtitles\\audio_clips\\bw18.mp3\n"
                    ]
                },
                {
                    "output_type": "stream",
                    "name": "stderr",
                    "text": [
                        "chunk: 100%|██████████| 1/1 [09:19<00:00, 559.55s/it, now=None]"
                    ]
                },
                {
                    "output_type": "stream",
                    "name": "stdout",
                    "text": [
                        "MoviePy - Done.\n"
                    ]
                },
                {
                    "output_type": "stream",
                    "name": "stderr",
                    "text": [
                        "chunk: 100%|██████████| 1/1 [09:28<00:00, 568.17s/it, now=None]"
                    ]
                },
                {
                    "output_type": "stream",
                    "name": "stdout",
                    "text": [
                        "MoviePy - Writing audio in C:\\Users\\koool\\Desktop\\subtitles\\audio_clips\\bw19.mp3\n"
                    ]
                },
                {
                    "output_type": "stream",
                    "name": "stderr",
                    "text": [
                        "chunk: 100%|██████████| 1/1 [09:28<00:00, 568.87s/it, now=None]"
                    ]
                },
                {
                    "output_type": "stream",
                    "name": "stdout",
                    "text": [
                        "MoviePy - Done.\n"
                    ]
                },
                {
                    "output_type": "stream",
                    "name": "stderr",
                    "text": [
                        "chunk: 100%|██████████| 1/1 [09:33<00:00, 573.28s/it, now=None]"
                    ]
                },
                {
                    "output_type": "stream",
                    "name": "stdout",
                    "text": [
                        "MoviePy - Writing audio in C:\\Users\\koool\\Desktop\\subtitles\\audio_clips\\bw20.mp3\n"
                    ]
                },
                {
                    "output_type": "stream",
                    "name": "stderr",
                    "text": [
                        "chunk: 100%|██████████| 1/1 [09:34<00:00, 574.40s/it, now=None]"
                    ]
                },
                {
                    "output_type": "stream",
                    "name": "stdout",
                    "text": [
                        "MoviePy - Done.\n"
                    ]
                },
                {
                    "output_type": "stream",
                    "name": "stderr",
                    "text": [
                        "chunk: 100%|██████████| 1/1 [09:44<00:00, 584.92s/it, now=None]"
                    ]
                },
                {
                    "output_type": "stream",
                    "name": "stdout",
                    "text": [
                        "MoviePy - Writing audio in C:\\Users\\koool\\Desktop\\subtitles\\audio_clips\\bw21.mp3\n"
                    ]
                },
                {
                    "output_type": "stream",
                    "name": "stderr",
                    "text": [
                        "chunk: 100%|██████████| 1/1 [09:45<00:00, 585.79s/it, now=None]"
                    ]
                },
                {
                    "output_type": "stream",
                    "name": "stdout",
                    "text": [
                        "MoviePy - Done.\n"
                    ]
                },
                {
                    "output_type": "stream",
                    "name": "stderr",
                    "text": [
                        "chunk: 100%|██████████| 1/1 [09:50<00:00, 590.24s/it, now=None]"
                    ]
                },
                {
                    "output_type": "stream",
                    "name": "stdout",
                    "text": [
                        "MoviePy - Writing audio in C:\\Users\\koool\\Desktop\\subtitles\\audio_clips\\bw22.mp3\n"
                    ]
                },
                {
                    "output_type": "stream",
                    "name": "stderr",
                    "text": [
                        "chunk: 100%|██████████| 1/1 [09:51<00:00, 591.39s/it, now=None]"
                    ]
                },
                {
                    "output_type": "stream",
                    "name": "stdout",
                    "text": [
                        "MoviePy - Done.\n"
                    ]
                },
                {
                    "output_type": "stream",
                    "name": "stderr",
                    "text": [
                        "chunk: 100%|██████████| 1/1 [10:09<00:00, 609.43s/it, now=None]"
                    ]
                },
                {
                    "output_type": "stream",
                    "name": "stdout",
                    "text": [
                        "MoviePy - Writing audio in C:\\Users\\koool\\Desktop\\subtitles\\audio_clips\\bw23.mp3\n"
                    ]
                },
                {
                    "output_type": "stream",
                    "name": "stderr",
                    "text": [
                        "chunk: 100%|██████████| 1/1 [10:10<00:00, 610.15s/it, now=None]"
                    ]
                },
                {
                    "output_type": "stream",
                    "name": "stdout",
                    "text": [
                        "MoviePy - Done.\n"
                    ]
                },
                {
                    "output_type": "stream",
                    "name": "stderr",
                    "text": [
                        "chunk: 100%|██████████| 1/1 [10:16<00:00, 616.89s/it, now=None]"
                    ]
                },
                {
                    "output_type": "stream",
                    "name": "stdout",
                    "text": [
                        "MoviePy - Writing audio in C:\\Users\\koool\\Desktop\\subtitles\\audio_clips\\bw24.mp3\n"
                    ]
                },
                {
                    "output_type": "stream",
                    "name": "stderr",
                    "text": [
                        "chunk: 100%|██████████| 1/1 [10:17<00:00, 617.70s/it, now=None]"
                    ]
                },
                {
                    "output_type": "stream",
                    "name": "stdout",
                    "text": [
                        "MoviePy - Done.\n"
                    ]
                },
                {
                    "output_type": "stream",
                    "name": "stderr",
                    "text": [
                        "chunk: 100%|██████████| 1/1 [10:25<00:00, 625.45s/it, now=None]"
                    ]
                },
                {
                    "output_type": "stream",
                    "name": "stdout",
                    "text": [
                        "MoviePy - Writing audio in C:\\Users\\koool\\Desktop\\subtitles\\audio_clips\\bw25.mp3\n"
                    ]
                },
                {
                    "output_type": "stream",
                    "name": "stderr",
                    "text": [
                        "chunk: 100%|██████████| 1/1 [10:26<00:00, 626.06s/it, now=None]"
                    ]
                },
                {
                    "output_type": "stream",
                    "name": "stdout",
                    "text": [
                        "MoviePy - Done.\n"
                    ]
                },
                {
                    "output_type": "stream",
                    "name": "stderr",
                    "text": [
                        "chunk: 100%|██████████| 1/1 [10:35<00:00, 635.01s/it, now=None]"
                    ]
                },
                {
                    "output_type": "stream",
                    "name": "stdout",
                    "text": [
                        "MoviePy - Writing audio in C:\\Users\\koool\\Desktop\\subtitles\\audio_clips\\bw26.mp3\n"
                    ]
                },
                {
                    "output_type": "stream",
                    "name": "stderr",
                    "text": [
                        "chunk: 100%|██████████| 1/1 [10:35<00:00, 635.92s/it, now=None]"
                    ]
                },
                {
                    "output_type": "stream",
                    "name": "stdout",
                    "text": [
                        "MoviePy - Done.\n"
                    ]
                },
                {
                    "output_type": "stream",
                    "name": "stderr",
                    "text": [
                        "chunk: 100%|██████████| 1/1 [10:43<00:00, 643.58s/it, now=None]"
                    ]
                },
                {
                    "output_type": "stream",
                    "name": "stdout",
                    "text": [
                        "MoviePy - Writing audio in C:\\Users\\koool\\Desktop\\subtitles\\audio_clips\\bw27.mp3\n"
                    ]
                },
                {
                    "output_type": "stream",
                    "name": "stderr",
                    "text": [
                        "chunk: 100%|██████████| 1/1 [10:44<00:00, 644.27s/it, now=None]"
                    ]
                },
                {
                    "output_type": "stream",
                    "name": "stdout",
                    "text": [
                        "MoviePy - Done.\n"
                    ]
                },
                {
                    "output_type": "stream",
                    "name": "stderr",
                    "text": [
                        "chunk: 100%|██████████| 1/1 [10:56<00:00, 656.04s/it, now=None]"
                    ]
                },
                {
                    "output_type": "stream",
                    "name": "stdout",
                    "text": [
                        "MoviePy - Writing audio in C:\\Users\\koool\\Desktop\\subtitles\\audio_clips\\bw28.mp3\n"
                    ]
                },
                {
                    "output_type": "stream",
                    "name": "stderr",
                    "text": [
                        "chunk: 100%|██████████| 1/1 [10:56<00:00, 656.73s/it, now=None]"
                    ]
                },
                {
                    "output_type": "stream",
                    "name": "stdout",
                    "text": [
                        "MoviePy - Done.\n"
                    ]
                },
                {
                    "output_type": "stream",
                    "name": "stderr",
                    "text": [
                        "chunk: 100%|██████████| 1/1 [11:04<00:00, 664.19s/it, now=None]"
                    ]
                },
                {
                    "output_type": "stream",
                    "name": "stdout",
                    "text": [
                        "MoviePy - Writing audio in C:\\Users\\koool\\Desktop\\subtitles\\audio_clips\\bw29.mp3\n"
                    ]
                },
                {
                    "output_type": "stream",
                    "name": "stderr",
                    "text": [
                        "chunk: 100%|██████████| 1/1 [11:04<00:00, 664.79s/it, now=None]"
                    ]
                },
                {
                    "output_type": "stream",
                    "name": "stdout",
                    "text": [
                        "MoviePy - Done.\n"
                    ]
                },
                {
                    "output_type": "stream",
                    "name": "stderr",
                    "text": [
                        "chunk: 100%|██████████| 1/1 [11:08<00:00, 668.36s/it, now=None]"
                    ]
                },
                {
                    "output_type": "stream",
                    "name": "stdout",
                    "text": [
                        "MoviePy - Writing audio in C:\\Users\\koool\\Desktop\\subtitles\\audio_clips\\bw30.mp3\n"
                    ]
                },
                {
                    "output_type": "stream",
                    "name": "stderr",
                    "text": [
                        "chunk: 100%|██████████| 1/1 [11:08<00:00, 668.93s/it, now=None]"
                    ]
                },
                {
                    "output_type": "stream",
                    "name": "stdout",
                    "text": [
                        "MoviePy - Done.\n"
                    ]
                },
                {
                    "output_type": "stream",
                    "name": "stderr",
                    "text": [
                        "chunk: 100%|██████████| 1/1 [11:14<00:00, 674.68s/it, now=None]"
                    ]
                },
                {
                    "output_type": "stream",
                    "name": "stdout",
                    "text": [
                        "MoviePy - Writing audio in C:\\Users\\koool\\Desktop\\subtitles\\audio_clips\\bw31.mp3\n"
                    ]
                },
                {
                    "output_type": "stream",
                    "name": "stderr",
                    "text": [
                        "chunk: 100%|██████████| 1/1 [11:15<00:00, 675.31s/it, now=None]"
                    ]
                },
                {
                    "output_type": "stream",
                    "name": "stdout",
                    "text": [
                        "MoviePy - Done.\n"
                    ]
                },
                {
                    "output_type": "stream",
                    "name": "stderr",
                    "text": [
                        "chunk: 100%|██████████| 1/1 [11:29<00:00, 689.97s/it, now=None]"
                    ]
                },
                {
                    "output_type": "stream",
                    "name": "stdout",
                    "text": [
                        "MoviePy - Writing audio in C:\\Users\\koool\\Desktop\\subtitles\\audio_clips\\bw32.mp3\n"
                    ]
                },
                {
                    "output_type": "stream",
                    "name": "stderr",
                    "text": [
                        "chunk: 100%|██████████| 1/1 [11:30<00:00, 690.60s/it, now=None]"
                    ]
                },
                {
                    "output_type": "stream",
                    "name": "stdout",
                    "text": [
                        "MoviePy - Done.\n"
                    ]
                },
                {
                    "output_type": "stream",
                    "name": "stderr",
                    "text": [
                        "chunk: 100%|██████████| 1/1 [11:34<00:00, 694.89s/it, now=None]"
                    ]
                },
                {
                    "output_type": "stream",
                    "name": "stdout",
                    "text": [
                        "MoviePy - Writing audio in C:\\Users\\koool\\Desktop\\subtitles\\audio_clips\\bw33.mp3\n"
                    ]
                },
                {
                    "output_type": "stream",
                    "name": "stderr",
                    "text": [
                        "chunk: 100%|██████████| 1/1 [11:35<00:00, 695.53s/it, now=None]"
                    ]
                },
                {
                    "output_type": "stream",
                    "name": "stdout",
                    "text": [
                        "MoviePy - Done.\n"
                    ]
                },
                {
                    "output_type": "stream",
                    "name": "stderr",
                    "text": [
                        "chunk: 100%|██████████| 1/1 [11:39<00:00, 699.85s/it, now=None]"
                    ]
                },
                {
                    "output_type": "stream",
                    "name": "stdout",
                    "text": [
                        "MoviePy - Writing audio in C:\\Users\\koool\\Desktop\\subtitles\\audio_clips\\bw34.mp3\n"
                    ]
                },
                {
                    "output_type": "stream",
                    "name": "stderr",
                    "text": [
                        "chunk: 100%|██████████| 1/1 [11:40<00:00, 700.67s/it, now=None]"
                    ]
                },
                {
                    "output_type": "stream",
                    "name": "stdout",
                    "text": [
                        "MoviePy - Done.\n"
                    ]
                },
                {
                    "output_type": "stream",
                    "name": "stderr",
                    "text": [
                        "chunk: 100%|██████████| 1/1 [11:46<00:00, 706.36s/it, now=None]"
                    ]
                },
                {
                    "output_type": "stream",
                    "name": "stdout",
                    "text": [
                        "MoviePy - Writing audio in C:\\Users\\koool\\Desktop\\subtitles\\audio_clips\\bw35.mp3\n"
                    ]
                },
                {
                    "output_type": "stream",
                    "name": "stderr",
                    "text": [
                        "chunk: 100%|██████████| 1/1 [11:47<00:00, 707.08s/it, now=None]"
                    ]
                },
                {
                    "output_type": "stream",
                    "name": "stdout",
                    "text": [
                        "MoviePy - Done.\n"
                    ]
                },
                {
                    "output_type": "stream",
                    "name": "stderr",
                    "text": [
                        "chunk: 100%|██████████| 1/1 [11:49<00:00, 709.54s/it, now=None]"
                    ]
                },
                {
                    "output_type": "stream",
                    "name": "stdout",
                    "text": [
                        "MoviePy - Writing audio in C:\\Users\\koool\\Desktop\\subtitles\\audio_clips\\bw36.mp3\n"
                    ]
                },
                {
                    "output_type": "stream",
                    "name": "stderr",
                    "text": [
                        "chunk: 100%|██████████| 1/1 [11:50<00:00, 710.14s/it, now=None]"
                    ]
                },
                {
                    "output_type": "stream",
                    "name": "stdout",
                    "text": [
                        "MoviePy - Done.\n"
                    ]
                },
                {
                    "output_type": "stream",
                    "name": "stderr",
                    "text": [
                        "chunk: 100%|██████████| 1/1 [11:52<00:00, 712.64s/it, now=None]"
                    ]
                },
                {
                    "output_type": "stream",
                    "name": "stdout",
                    "text": [
                        "MoviePy - Writing audio in C:\\Users\\koool\\Desktop\\subtitles\\audio_clips\\bw37.mp3\n"
                    ]
                },
                {
                    "output_type": "stream",
                    "name": "stderr",
                    "text": [
                        "chunk: 100%|██████████| 1/1 [11:53<00:00, 713.26s/it, now=None]"
                    ]
                },
                {
                    "output_type": "stream",
                    "name": "stdout",
                    "text": [
                        "MoviePy - Done.\n"
                    ]
                },
                {
                    "output_type": "stream",
                    "name": "stderr",
                    "text": [
                        "chunk: 100%|██████████| 1/1 [12:02<00:00, 722.32s/it, now=None]"
                    ]
                },
                {
                    "output_type": "stream",
                    "name": "stdout",
                    "text": [
                        "MoviePy - Writing audio in C:\\Users\\koool\\Desktop\\subtitles\\audio_clips\\bw38.mp3\n"
                    ]
                },
                {
                    "output_type": "stream",
                    "name": "stderr",
                    "text": [
                        "chunk: 100%|██████████| 1/1 [12:02<00:00, 722.93s/it, now=None]"
                    ]
                },
                {
                    "output_type": "stream",
                    "name": "stdout",
                    "text": [
                        "MoviePy - Done.\n"
                    ]
                },
                {
                    "output_type": "stream",
                    "name": "stderr",
                    "text": [
                        "chunk: 100%|██████████| 1/1 [12:11<00:00, 731.82s/it, now=None]"
                    ]
                },
                {
                    "output_type": "stream",
                    "name": "stdout",
                    "text": [
                        "MoviePy - Writing audio in C:\\Users\\koool\\Desktop\\subtitles\\audio_clips\\bw39.mp3\n"
                    ]
                },
                {
                    "output_type": "stream",
                    "name": "stderr",
                    "text": [
                        "chunk: 100%|██████████| 1/1 [12:12<00:00, 732.46s/it, now=None]"
                    ]
                },
                {
                    "output_type": "stream",
                    "name": "stdout",
                    "text": [
                        "MoviePy - Done.\n"
                    ]
                },
                {
                    "output_type": "stream",
                    "name": "stderr",
                    "text": [
                        "chunk: 100%|██████████| 1/1 [12:16<00:00, 736.85s/it, now=None]"
                    ]
                },
                {
                    "output_type": "stream",
                    "name": "stdout",
                    "text": [
                        "MoviePy - Writing audio in C:\\Users\\koool\\Desktop\\subtitles\\audio_clips\\bw40.mp3\n"
                    ]
                },
                {
                    "output_type": "stream",
                    "name": "stderr",
                    "text": [
                        "chunk: 100%|██████████| 1/1 [12:17<00:00, 737.46s/it, now=None]"
                    ]
                },
                {
                    "output_type": "stream",
                    "name": "stdout",
                    "text": [
                        "MoviePy - Done.\n"
                    ]
                },
                {
                    "output_type": "stream",
                    "name": "stderr",
                    "text": [
                        "chunk: 100%|██████████| 1/1 [12:20<00:00, 740.03s/it, now=None]"
                    ]
                },
                {
                    "output_type": "stream",
                    "name": "stdout",
                    "text": [
                        "MoviePy - Writing audio in C:\\Users\\koool\\Desktop\\subtitles\\audio_clips\\bw41.mp3\n"
                    ]
                },
                {
                    "output_type": "stream",
                    "name": "stderr",
                    "text": [
                        "chunk: 100%|██████████| 1/1 [12:20<00:00, 740.62s/it, now=None]"
                    ]
                },
                {
                    "output_type": "stream",
                    "name": "stdout",
                    "text": [
                        "MoviePy - Done.\n"
                    ]
                },
                {
                    "output_type": "stream",
                    "name": "stderr",
                    "text": [
                        "chunk: 100%|██████████| 1/1 [12:22<00:00, 742.96s/it, now=None]"
                    ]
                },
                {
                    "output_type": "stream",
                    "name": "stdout",
                    "text": [
                        "MoviePy - Writing audio in C:\\Users\\koool\\Desktop\\subtitles\\audio_clips\\bw42.mp3\n"
                    ]
                },
                {
                    "output_type": "stream",
                    "name": "stderr",
                    "text": [
                        "chunk: 100%|██████████| 1/1 [12:23<00:00, 743.56s/it, now=None]"
                    ]
                },
                {
                    "output_type": "stream",
                    "name": "stdout",
                    "text": [
                        "MoviePy - Done.\n"
                    ]
                },
                {
                    "output_type": "stream",
                    "name": "stderr",
                    "text": [
                        "chunk: 100%|██████████| 1/1 [12:27<00:00, 747.89s/it, now=None]"
                    ]
                },
                {
                    "output_type": "stream",
                    "name": "stdout",
                    "text": [
                        "MoviePy - Writing audio in C:\\Users\\koool\\Desktop\\subtitles\\audio_clips\\bw43.mp3\n"
                    ]
                },
                {
                    "output_type": "stream",
                    "name": "stderr",
                    "text": [
                        "chunk: 100%|██████████| 1/1 [12:28<00:00, 748.52s/it, now=None]"
                    ]
                },
                {
                    "output_type": "stream",
                    "name": "stdout",
                    "text": [
                        "MoviePy - Done.\n"
                    ]
                },
                {
                    "output_type": "stream",
                    "name": "stderr",
                    "text": [
                        "chunk: 100%|██████████| 1/1 [12:32<00:00, 752.92s/it, now=None]"
                    ]
                },
                {
                    "output_type": "stream",
                    "name": "stdout",
                    "text": [
                        "MoviePy - Writing audio in C:\\Users\\koool\\Desktop\\subtitles\\audio_clips\\bw44.mp3\n"
                    ]
                },
                {
                    "output_type": "stream",
                    "name": "stderr",
                    "text": [
                        "chunk: 100%|██████████| 1/1 [12:33<00:00, 753.58s/it, now=None]"
                    ]
                },
                {
                    "output_type": "stream",
                    "name": "stdout",
                    "text": [
                        "MoviePy - Done.\n"
                    ]
                },
                {
                    "output_type": "stream",
                    "name": "stderr",
                    "text": [
                        "chunk: 100%|██████████| 1/1 [12:40<00:00, 760.36s/it, now=None]"
                    ]
                },
                {
                    "output_type": "stream",
                    "name": "stdout",
                    "text": [
                        "MoviePy - Writing audio in C:\\Users\\koool\\Desktop\\subtitles\\audio_clips\\bw45.mp3\n"
                    ]
                },
                {
                    "output_type": "stream",
                    "name": "stderr",
                    "text": [
                        "chunk: 100%|██████████| 1/1 [12:40<00:00, 761.00s/it, now=None]"
                    ]
                },
                {
                    "output_type": "stream",
                    "name": "stdout",
                    "text": [
                        "MoviePy - Done.\n"
                    ]
                },
                {
                    "output_type": "stream",
                    "name": "stderr",
                    "text": [
                        "chunk: 100%|██████████| 1/1 [12:45<00:00, 765.36s/it, now=None]"
                    ]
                },
                {
                    "output_type": "stream",
                    "name": "stdout",
                    "text": [
                        "MoviePy - Writing audio in C:\\Users\\koool\\Desktop\\subtitles\\audio_clips\\bw46.mp3\n"
                    ]
                },
                {
                    "output_type": "stream",
                    "name": "stderr",
                    "text": [
                        "chunk: 100%|██████████| 1/1 [12:45<00:00, 765.99s/it, now=None]"
                    ]
                },
                {
                    "output_type": "stream",
                    "name": "stdout",
                    "text": [
                        "MoviePy - Done.\n"
                    ]
                },
                {
                    "output_type": "stream",
                    "name": "stderr",
                    "text": [
                        "chunk: 100%|██████████| 1/1 [12:50<00:00, 770.40s/it, now=None]"
                    ]
                },
                {
                    "output_type": "stream",
                    "name": "stdout",
                    "text": [
                        "MoviePy - Writing audio in C:\\Users\\koool\\Desktop\\subtitles\\audio_clips\\bw47.mp3\n"
                    ]
                },
                {
                    "output_type": "stream",
                    "name": "stderr",
                    "text": [
                        "chunk: 100%|██████████| 1/1 [12:51<00:00, 771.04s/it, now=None]"
                    ]
                },
                {
                    "output_type": "stream",
                    "name": "stdout",
                    "text": [
                        "MoviePy - Done.\n"
                    ]
                },
                {
                    "output_type": "stream",
                    "name": "stderr",
                    "text": [
                        "chunk: 100%|██████████| 1/1 [13:00<00:00, 780.08s/it, now=None]"
                    ]
                },
                {
                    "output_type": "stream",
                    "name": "stdout",
                    "text": [
                        "MoviePy - Writing audio in C:\\Users\\koool\\Desktop\\subtitles\\audio_clips\\bw48.mp3\n"
                    ]
                },
                {
                    "output_type": "stream",
                    "name": "stderr",
                    "text": [
                        "chunk: 100%|██████████| 1/1 [13:00<00:00, 780.73s/it, now=None]"
                    ]
                },
                {
                    "output_type": "stream",
                    "name": "stdout",
                    "text": [
                        "MoviePy - Done.\n"
                    ]
                },
                {
                    "output_type": "stream",
                    "name": "stderr",
                    "text": [
                        "chunk: 100%|██████████| 1/1 [13:05<00:00, 785.20s/it, now=None]"
                    ]
                },
                {
                    "output_type": "stream",
                    "name": "stdout",
                    "text": [
                        "MoviePy - Writing audio in C:\\Users\\koool\\Desktop\\subtitles\\audio_clips\\bw49.mp3\n"
                    ]
                },
                {
                    "output_type": "stream",
                    "name": "stderr",
                    "text": [
                        "chunk: 100%|██████████| 1/1 [13:05<00:00, 785.86s/it, now=None]"
                    ]
                },
                {
                    "output_type": "stream",
                    "name": "stdout",
                    "text": [
                        "MoviePy - Done.\n"
                    ]
                },
                {
                    "output_type": "stream",
                    "name": "stderr",
                    "text": [
                        "chunk: 100%|██████████| 1/1 [13:08<00:00, 788.78s/it, now=None]"
                    ]
                },
                {
                    "output_type": "stream",
                    "name": "stdout",
                    "text": [
                        "MoviePy - Writing audio in C:\\Users\\koool\\Desktop\\subtitles\\audio_clips\\bw50.mp3\n"
                    ]
                },
                {
                    "output_type": "stream",
                    "name": "stderr",
                    "text": [
                        "chunk: 100%|██████████| 1/1 [13:09<00:00, 789.54s/it, now=None]"
                    ]
                },
                {
                    "output_type": "stream",
                    "name": "stdout",
                    "text": [
                        "MoviePy - Done.\n"
                    ]
                },
                {
                    "output_type": "stream",
                    "name": "stderr",
                    "text": [
                        "chunk: 100%|██████████| 1/1 [13:13<00:00, 793.59s/it, now=None]"
                    ]
                },
                {
                    "output_type": "stream",
                    "name": "stdout",
                    "text": [
                        "MoviePy - Writing audio in C:\\Users\\koool\\Desktop\\subtitles\\audio_clips\\bw51.mp3\n"
                    ]
                },
                {
                    "output_type": "stream",
                    "name": "stderr",
                    "text": [
                        "chunk: 100%|██████████| 1/1 [13:14<00:00, 794.27s/it, now=None]"
                    ]
                },
                {
                    "output_type": "stream",
                    "name": "stdout",
                    "text": [
                        "MoviePy - Done.\n"
                    ]
                },
                {
                    "output_type": "stream",
                    "name": "stderr",
                    "text": [
                        "chunk: 100%|██████████| 1/1 [13:16<00:00, 796.92s/it, now=None]"
                    ]
                },
                {
                    "output_type": "stream",
                    "name": "stdout",
                    "text": [
                        "MoviePy - Writing audio in C:\\Users\\koool\\Desktop\\subtitles\\audio_clips\\bw52.mp3\n"
                    ]
                },
                {
                    "output_type": "stream",
                    "name": "stderr",
                    "text": [
                        "chunk: 100%|██████████| 1/1 [13:17<00:00, 797.56s/it, now=None]"
                    ]
                },
                {
                    "output_type": "stream",
                    "name": "stdout",
                    "text": [
                        "MoviePy - Done.\n"
                    ]
                },
                {
                    "output_type": "stream",
                    "name": "stderr",
                    "text": [
                        "chunk: 100%|██████████| 1/1 [13:22<00:00, 802.07s/it, now=None]"
                    ]
                },
                {
                    "output_type": "stream",
                    "name": "stdout",
                    "text": [
                        "MoviePy - Writing audio in C:\\Users\\koool\\Desktop\\subtitles\\audio_clips\\bw53.mp3\n"
                    ]
                },
                {
                    "output_type": "stream",
                    "name": "stderr",
                    "text": [
                        "chunk: 100%|██████████| 1/1 [13:22<00:00, 802.76s/it, now=None]"
                    ]
                },
                {
                    "output_type": "stream",
                    "name": "stdout",
                    "text": [
                        "MoviePy - Done.\n"
                    ]
                },
                {
                    "output_type": "stream",
                    "name": "stderr",
                    "text": [
                        "chunk: 100%|██████████| 1/1 [13:27<00:00, 807.34s/it, now=None]"
                    ]
                },
                {
                    "output_type": "stream",
                    "name": "stdout",
                    "text": [
                        "MoviePy - Writing audio in C:\\Users\\koool\\Desktop\\subtitles\\audio_clips\\bw54.mp3\n"
                    ]
                },
                {
                    "output_type": "stream",
                    "name": "stderr",
                    "text": [
                        "chunk: 100%|██████████| 1/1 [13:28<00:00, 808.01s/it, now=None]"
                    ]
                },
                {
                    "output_type": "stream",
                    "name": "stdout",
                    "text": [
                        "MoviePy - Done.\n"
                    ]
                },
                {
                    "output_type": "stream",
                    "name": "stderr",
                    "text": [
                        "chunk: 100%|██████████| 1/1 [13:31<00:00, 811.22s/it, now=None]"
                    ]
                },
                {
                    "output_type": "stream",
                    "name": "stdout",
                    "text": [
                        "MoviePy - Writing audio in C:\\Users\\koool\\Desktop\\subtitles\\audio_clips\\bw55.mp3\n"
                    ]
                },
                {
                    "output_type": "stream",
                    "name": "stderr",
                    "text": [
                        "chunk: 100%|██████████| 1/1 [13:31<00:00, 811.87s/it, now=None]"
                    ]
                },
                {
                    "output_type": "stream",
                    "name": "stdout",
                    "text": [
                        "MoviePy - Done.\n"
                    ]
                },
                {
                    "output_type": "stream",
                    "name": "stderr",
                    "text": [
                        "chunk: 100%|██████████| 1/1 [13:35<00:00, 815.76s/it, now=None]"
                    ]
                },
                {
                    "output_type": "stream",
                    "name": "stdout",
                    "text": [
                        "MoviePy - Writing audio in C:\\Users\\koool\\Desktop\\subtitles\\audio_clips\\bw56.mp3\n"
                    ]
                },
                {
                    "output_type": "stream",
                    "name": "stderr",
                    "text": [
                        "chunk: 100%|██████████| 1/1 [13:36<00:00, 816.41s/it, now=None]"
                    ]
                },
                {
                    "output_type": "stream",
                    "name": "stdout",
                    "text": [
                        "MoviePy - Done.\n"
                    ]
                },
                {
                    "output_type": "stream",
                    "name": "stderr",
                    "text": [
                        "chunk: 100%|██████████| 1/1 [13:39<00:00, 819.47s/it, now=None]"
                    ]
                },
                {
                    "output_type": "stream",
                    "name": "stdout",
                    "text": [
                        "MoviePy - Writing audio in C:\\Users\\koool\\Desktop\\subtitles\\audio_clips\\bw57.mp3\n"
                    ]
                },
                {
                    "output_type": "stream",
                    "name": "stderr",
                    "text": [
                        "chunk: 100%|██████████| 1/1 [13:40<00:00, 820.20s/it, now=None]"
                    ]
                },
                {
                    "output_type": "stream",
                    "name": "stdout",
                    "text": [
                        "MoviePy - Done.\n"
                    ]
                },
                {
                    "output_type": "stream",
                    "name": "stderr",
                    "text": [
                        "chunk: 100%|██████████| 1/1 [13:42<00:00, 822.49s/it, now=None]"
                    ]
                },
                {
                    "output_type": "stream",
                    "name": "stdout",
                    "text": [
                        "MoviePy - Writing audio in C:\\Users\\koool\\Desktop\\subtitles\\audio_clips\\bw58.mp3\n"
                    ]
                },
                {
                    "output_type": "stream",
                    "name": "stderr",
                    "text": [
                        "chunk: 100%|██████████| 1/1 [13:43<00:00, 823.17s/it, now=None]"
                    ]
                },
                {
                    "output_type": "stream",
                    "name": "stdout",
                    "text": [
                        "MoviePy - Done.\n"
                    ]
                },
                {
                    "output_type": "stream",
                    "name": "stderr",
                    "text": [
                        "chunk: 100%|██████████| 1/1 [13:45<00:00, 825.95s/it, now=None]"
                    ]
                },
                {
                    "output_type": "stream",
                    "name": "stdout",
                    "text": [
                        "MoviePy - Writing audio in C:\\Users\\koool\\Desktop\\subtitles\\audio_clips\\bw59.mp3\n"
                    ]
                },
                {
                    "output_type": "stream",
                    "name": "stderr",
                    "text": [
                        "chunk: 100%|██████████| 1/1 [13:46<00:00, 826.66s/it, now=None]"
                    ]
                },
                {
                    "output_type": "stream",
                    "name": "stdout",
                    "text": [
                        "MoviePy - Done.\n"
                    ]
                },
                {
                    "output_type": "stream",
                    "name": "stderr",
                    "text": [
                        "chunk: 100%|██████████| 1/1 [13:51<00:00, 831.59s/it, now=None]"
                    ]
                },
                {
                    "output_type": "stream",
                    "name": "stdout",
                    "text": [
                        "MoviePy - Writing audio in C:\\Users\\koool\\Desktop\\subtitles\\audio_clips\\bw60.mp3\n"
                    ]
                },
                {
                    "output_type": "stream",
                    "name": "stderr",
                    "text": [
                        "chunk: 100%|██████████| 1/1 [13:52<00:00, 832.30s/it, now=None]"
                    ]
                },
                {
                    "output_type": "stream",
                    "name": "stdout",
                    "text": [
                        "MoviePy - Done.\n"
                    ]
                },
                {
                    "output_type": "stream",
                    "name": "stderr",
                    "text": [
                        "chunk: 100%|██████████| 1/1 [13:59<00:00, 839.81s/it, now=None]"
                    ]
                },
                {
                    "output_type": "stream",
                    "name": "stdout",
                    "text": [
                        "MoviePy - Writing audio in C:\\Users\\koool\\Desktop\\subtitles\\audio_clips\\bw61.mp3\n"
                    ]
                },
                {
                    "output_type": "stream",
                    "name": "stderr",
                    "text": [
                        "chunk: 100%|██████████| 1/1 [14:00<00:00, 840.51s/it, now=None]"
                    ]
                },
                {
                    "output_type": "stream",
                    "name": "stdout",
                    "text": [
                        "MoviePy - Done.\n"
                    ]
                },
                {
                    "output_type": "stream",
                    "name": "stderr",
                    "text": [
                        "chunk: 100%|██████████| 1/1 [14:03<00:00, 843.13s/it, now=None]"
                    ]
                },
                {
                    "output_type": "stream",
                    "name": "stdout",
                    "text": [
                        "MoviePy - Writing audio in C:\\Users\\koool\\Desktop\\subtitles\\audio_clips\\bw62.mp3\n"
                    ]
                },
                {
                    "output_type": "stream",
                    "name": "stderr",
                    "text": [
                        "chunk: 100%|██████████| 1/1 [14:03<00:00, 843.87s/it, now=None]"
                    ]
                },
                {
                    "output_type": "stream",
                    "name": "stdout",
                    "text": [
                        "MoviePy - Done.\n"
                    ]
                },
                {
                    "output_type": "stream",
                    "name": "stderr",
                    "text": [
                        "chunk: 100%|██████████| 1/1 [14:08<00:00, 848.14s/it, now=None]"
                    ]
                },
                {
                    "output_type": "stream",
                    "name": "stdout",
                    "text": [
                        "MoviePy - Writing audio in C:\\Users\\koool\\Desktop\\subtitles\\audio_clips\\bw63.mp3\n"
                    ]
                },
                {
                    "output_type": "stream",
                    "name": "stderr",
                    "text": [
                        "chunk: 100%|██████████| 1/1 [14:09<00:00, 849.22s/it, now=None]"
                    ]
                },
                {
                    "output_type": "stream",
                    "name": "stdout",
                    "text": [
                        "MoviePy - Done.\n"
                    ]
                },
                {
                    "output_type": "stream",
                    "name": "stderr",
                    "text": [
                        "chunk: 100%|██████████| 1/1 [14:16<00:00, 856.40s/it, now=None]"
                    ]
                },
                {
                    "output_type": "stream",
                    "name": "stdout",
                    "text": [
                        "MoviePy - Writing audio in C:\\Users\\koool\\Desktop\\subtitles\\audio_clips\\bw64.mp3\n"
                    ]
                },
                {
                    "output_type": "stream",
                    "name": "stderr",
                    "text": [
                        "chunk: 100%|██████████| 1/1 [14:17<00:00, 857.08s/it, now=None]"
                    ]
                },
                {
                    "output_type": "stream",
                    "name": "stdout",
                    "text": [
                        "MoviePy - Done.\n"
                    ]
                },
                {
                    "output_type": "stream",
                    "name": "stderr",
                    "text": [
                        "chunk: 100%|██████████| 1/1 [14:23<00:00, 863.47s/it, now=None]"
                    ]
                },
                {
                    "output_type": "stream",
                    "name": "stdout",
                    "text": [
                        "MoviePy - Writing audio in C:\\Users\\koool\\Desktop\\subtitles\\audio_clips\\bw65.mp3\n"
                    ]
                },
                {
                    "output_type": "stream",
                    "name": "stderr",
                    "text": [
                        "chunk: 100%|██████████| 1/1 [14:24<00:00, 864.15s/it, now=None]"
                    ]
                },
                {
                    "output_type": "stream",
                    "name": "stdout",
                    "text": [
                        "MoviePy - Done.\n"
                    ]
                },
                {
                    "output_type": "stream",
                    "name": "stderr",
                    "text": [
                        "chunk: 100%|██████████| 1/1 [14:29<00:00, 869.10s/it, now=None]"
                    ]
                },
                {
                    "output_type": "stream",
                    "name": "stdout",
                    "text": [
                        "MoviePy - Writing audio in C:\\Users\\koool\\Desktop\\subtitles\\audio_clips\\bw66.mp3\n"
                    ]
                },
                {
                    "output_type": "stream",
                    "name": "stderr",
                    "text": [
                        "chunk: 100%|██████████| 1/1 [14:29<00:00, 869.90s/it, now=None]"
                    ]
                },
                {
                    "output_type": "stream",
                    "name": "stdout",
                    "text": [
                        "MoviePy - Done.\n"
                    ]
                },
                {
                    "output_type": "stream",
                    "name": "stderr",
                    "text": [
                        "chunk: 100%|██████████| 1/1 [14:34<00:00, 874.76s/it, now=None]"
                    ]
                },
                {
                    "output_type": "stream",
                    "name": "stdout",
                    "text": [
                        "MoviePy - Writing audio in C:\\Users\\koool\\Desktop\\subtitles\\audio_clips\\bw67.mp3\n"
                    ]
                },
                {
                    "output_type": "stream",
                    "name": "stderr",
                    "text": [
                        "chunk: 100%|██████████| 1/1 [14:35<00:00, 875.48s/it, now=None]"
                    ]
                },
                {
                    "output_type": "stream",
                    "name": "stdout",
                    "text": [
                        "MoviePy - Done.\n"
                    ]
                },
                {
                    "output_type": "stream",
                    "name": "stderr",
                    "text": [
                        "chunk: 100%|██████████| 1/1 [14:37<00:00, 877.94s/it, now=None]"
                    ]
                },
                {
                    "output_type": "stream",
                    "name": "stdout",
                    "text": [
                        "MoviePy - Writing audio in C:\\Users\\koool\\Desktop\\subtitles\\audio_clips\\bw68.mp3\n"
                    ]
                },
                {
                    "output_type": "stream",
                    "name": "stderr",
                    "text": [
                        "chunk: 100%|██████████| 1/1 [14:38<00:00, 878.68s/it, now=None]"
                    ]
                },
                {
                    "output_type": "stream",
                    "name": "stdout",
                    "text": [
                        "MoviePy - Done.\n"
                    ]
                },
                {
                    "output_type": "stream",
                    "name": "stderr",
                    "text": [
                        "chunk: 100%|██████████| 1/1 [14:44<00:00, 884.22s/it, now=None]"
                    ]
                },
                {
                    "output_type": "stream",
                    "name": "stdout",
                    "text": [
                        "MoviePy - Writing audio in C:\\Users\\koool\\Desktop\\subtitles\\audio_clips\\bw69.mp3\n"
                    ]
                },
                {
                    "output_type": "stream",
                    "name": "stderr",
                    "text": [
                        "chunk: 100%|██████████| 1/1 [14:45<00:00, 885.04s/it, now=None]"
                    ]
                },
                {
                    "output_type": "stream",
                    "name": "stdout",
                    "text": [
                        "MoviePy - Done.\n"
                    ]
                },
                {
                    "output_type": "stream",
                    "name": "stderr",
                    "text": [
                        "chunk: 100%|██████████| 1/1 [14:47<00:00, 887.45s/it, now=None]"
                    ]
                },
                {
                    "output_type": "stream",
                    "name": "stdout",
                    "text": [
                        "MoviePy - Writing audio in C:\\Users\\koool\\Desktop\\subtitles\\audio_clips\\bw70.mp3\n"
                    ]
                },
                {
                    "output_type": "stream",
                    "name": "stderr",
                    "text": [
                        "chunk: 100%|██████████| 1/1 [14:48<00:00, 888.25s/it, now=None]"
                    ]
                },
                {
                    "output_type": "stream",
                    "name": "stdout",
                    "text": [
                        "MoviePy - Done.\n"
                    ]
                },
                {
                    "output_type": "stream",
                    "name": "stderr",
                    "text": [
                        "chunk: 100%|██████████| 1/1 [14:50<00:00, 890.90s/it, now=None]"
                    ]
                },
                {
                    "output_type": "stream",
                    "name": "stdout",
                    "text": [
                        "MoviePy - Writing audio in C:\\Users\\koool\\Desktop\\subtitles\\audio_clips\\bw71.mp3\n"
                    ]
                },
                {
                    "output_type": "stream",
                    "name": "stderr",
                    "text": [
                        "chunk: 100%|██████████| 1/1 [14:51<00:00, 891.60s/it, now=None]"
                    ]
                },
                {
                    "output_type": "stream",
                    "name": "stdout",
                    "text": [
                        "MoviePy - Done.\n"
                    ]
                },
                {
                    "output_type": "stream",
                    "name": "stderr",
                    "text": [
                        "chunk: 100%|██████████| 1/1 [14:58<00:00, 898.49s/it, now=None]"
                    ]
                },
                {
                    "output_type": "stream",
                    "name": "stdout",
                    "text": [
                        "MoviePy - Writing audio in C:\\Users\\koool\\Desktop\\subtitles\\audio_clips\\bw72.mp3\n"
                    ]
                },
                {
                    "output_type": "stream",
                    "name": "stderr",
                    "text": [
                        "chunk: 100%|██████████| 1/1 [14:59<00:00, 899.15s/it, now=None]"
                    ]
                },
                {
                    "output_type": "stream",
                    "name": "stdout",
                    "text": [
                        "MoviePy - Done.\n"
                    ]
                },
                {
                    "output_type": "stream",
                    "name": "stderr",
                    "text": [
                        "chunk: 100%|██████████| 1/1 [15:03<00:00, 903.42s/it, now=None]"
                    ]
                },
                {
                    "output_type": "stream",
                    "name": "stdout",
                    "text": [
                        "MoviePy - Writing audio in C:\\Users\\koool\\Desktop\\subtitles\\audio_clips\\bw73.mp3\n"
                    ]
                },
                {
                    "output_type": "stream",
                    "name": "stderr",
                    "text": [
                        "chunk: 100%|██████████| 1/1 [15:04<00:00, 904.09s/it, now=None]"
                    ]
                },
                {
                    "output_type": "stream",
                    "name": "stdout",
                    "text": [
                        "MoviePy - Done.\n"
                    ]
                },
                {
                    "output_type": "stream",
                    "name": "stderr",
                    "text": [
                        "chunk: 100%|██████████| 1/1 [15:06<00:00, 906.66s/it, now=None]"
                    ]
                },
                {
                    "output_type": "stream",
                    "name": "stdout",
                    "text": [
                        "MoviePy - Writing audio in C:\\Users\\koool\\Desktop\\subtitles\\audio_clips\\bw74.mp3\n"
                    ]
                },
                {
                    "output_type": "stream",
                    "name": "stderr",
                    "text": [
                        "chunk: 100%|██████████| 1/1 [15:07<00:00, 907.31s/it, now=None]"
                    ]
                },
                {
                    "output_type": "stream",
                    "name": "stdout",
                    "text": [
                        "MoviePy - Done.\n"
                    ]
                },
                {
                    "output_type": "stream",
                    "name": "stderr",
                    "text": [
                        "chunk: 100%|██████████| 1/1 [15:09<00:00, 909.89s/it, now=None]"
                    ]
                },
                {
                    "output_type": "stream",
                    "name": "stdout",
                    "text": [
                        "MoviePy - Writing audio in C:\\Users\\koool\\Desktop\\subtitles\\audio_clips\\bw75.mp3\n"
                    ]
                },
                {
                    "output_type": "stream",
                    "name": "stderr",
                    "text": [
                        "chunk: 100%|██████████| 1/1 [15:10<00:00, 910.60s/it, now=None]"
                    ]
                },
                {
                    "output_type": "stream",
                    "name": "stdout",
                    "text": [
                        "MoviePy - Done.\n"
                    ]
                },
                {
                    "output_type": "stream",
                    "name": "stderr",
                    "text": [
                        "chunk: 100%|██████████| 1/1 [15:17<00:00, 917.50s/it, now=None]"
                    ]
                },
                {
                    "output_type": "stream",
                    "name": "stdout",
                    "text": [
                        "MoviePy - Writing audio in C:\\Users\\koool\\Desktop\\subtitles\\audio_clips\\bw76.mp3\n"
                    ]
                },
                {
                    "output_type": "stream",
                    "name": "stderr",
                    "text": [
                        "chunk: 100%|██████████| 1/1 [15:18<00:00, 918.16s/it, now=None]"
                    ]
                },
                {
                    "output_type": "stream",
                    "name": "stdout",
                    "text": [
                        "MoviePy - Done.\n"
                    ]
                },
                {
                    "output_type": "stream",
                    "name": "stderr",
                    "text": [
                        "chunk: 100%|██████████| 1/1 [15:27<00:00, 927.57s/it, now=None]"
                    ]
                },
                {
                    "output_type": "stream",
                    "name": "stdout",
                    "text": [
                        "MoviePy - Writing audio in C:\\Users\\koool\\Desktop\\subtitles\\audio_clips\\bw77.mp3\n"
                    ]
                },
                {
                    "output_type": "stream",
                    "name": "stderr",
                    "text": [
                        "chunk: 100%|██████████| 1/1 [15:28<00:00, 928.28s/it, now=None]"
                    ]
                },
                {
                    "output_type": "stream",
                    "name": "stdout",
                    "text": [
                        "MoviePy - Done.\n"
                    ]
                },
                {
                    "output_type": "stream",
                    "name": "stderr",
                    "text": [
                        "chunk: 100%|██████████| 1/1 [15:32<00:00, 932.96s/it, now=None]"
                    ]
                },
                {
                    "output_type": "stream",
                    "name": "stdout",
                    "text": [
                        "MoviePy - Writing audio in C:\\Users\\koool\\Desktop\\subtitles\\audio_clips\\bw78.mp3\n"
                    ]
                },
                {
                    "output_type": "stream",
                    "name": "stderr",
                    "text": [
                        "chunk: 100%|██████████| 1/1 [15:33<00:00, 933.61s/it, now=None]"
                    ]
                },
                {
                    "output_type": "stream",
                    "name": "stdout",
                    "text": [
                        "MoviePy - Done.\n"
                    ]
                },
                {
                    "output_type": "stream",
                    "name": "stderr",
                    "text": [
                        "chunk: 100%|██████████| 1/1 [15:38<00:00, 938.10s/it, now=None]"
                    ]
                },
                {
                    "output_type": "stream",
                    "name": "stdout",
                    "text": [
                        "MoviePy - Writing audio in C:\\Users\\koool\\Desktop\\subtitles\\audio_clips\\bw79.mp3\n"
                    ]
                },
                {
                    "output_type": "stream",
                    "name": "stderr",
                    "text": [
                        "chunk: 100%|██████████| 1/1 [15:38<00:00, 938.88s/it, now=None]"
                    ]
                },
                {
                    "output_type": "stream",
                    "name": "stdout",
                    "text": [
                        "MoviePy - Done.\n"
                    ]
                },
                {
                    "output_type": "stream",
                    "name": "stderr",
                    "text": [
                        "chunk: 100%|██████████| 1/1 [15:43<00:00, 943.62s/it, now=None]"
                    ]
                },
                {
                    "output_type": "stream",
                    "name": "stdout",
                    "text": [
                        "MoviePy - Writing audio in C:\\Users\\koool\\Desktop\\subtitles\\audio_clips\\bw80.mp3\n"
                    ]
                },
                {
                    "output_type": "stream",
                    "name": "stderr",
                    "text": [
                        "chunk: 100%|██████████| 1/1 [15:44<00:00, 944.32s/it, now=None]"
                    ]
                },
                {
                    "output_type": "stream",
                    "name": "stdout",
                    "text": [
                        "MoviePy - Done.\n"
                    ]
                },
                {
                    "output_type": "stream",
                    "name": "stderr",
                    "text": [
                        "chunk: 100%|██████████| 1/1 [15:53<00:00, 953.39s/it, now=None]"
                    ]
                },
                {
                    "output_type": "stream",
                    "name": "stdout",
                    "text": [
                        "MoviePy - Writing audio in C:\\Users\\koool\\Desktop\\subtitles\\audio_clips\\bw81.mp3\n"
                    ]
                },
                {
                    "output_type": "stream",
                    "name": "stderr",
                    "text": [
                        "chunk: 100%|██████████| 1/1 [15:54<00:00, 954.03s/it, now=None]"
                    ]
                },
                {
                    "output_type": "stream",
                    "name": "stdout",
                    "text": [
                        "MoviePy - Done.\n"
                    ]
                },
                {
                    "output_type": "stream",
                    "name": "stderr",
                    "text": [
                        "chunk: 100%|██████████| 1/1 [16:00<00:00, 960.82s/it, now=None]"
                    ]
                },
                {
                    "output_type": "stream",
                    "name": "stdout",
                    "text": [
                        "MoviePy - Writing audio in C:\\Users\\koool\\Desktop\\subtitles\\audio_clips\\bw82.mp3\n"
                    ]
                },
                {
                    "output_type": "stream",
                    "name": "stderr",
                    "text": [
                        "chunk: 100%|██████████| 1/1 [16:01<00:00, 961.51s/it, now=None]"
                    ]
                },
                {
                    "output_type": "stream",
                    "name": "stdout",
                    "text": [
                        "MoviePy - Done.\n"
                    ]
                },
                {
                    "output_type": "stream",
                    "name": "stderr",
                    "text": [
                        "chunk: 100%|██████████| 1/1 [16:05<00:00, 965.92s/it, now=None]"
                    ]
                },
                {
                    "output_type": "stream",
                    "name": "stdout",
                    "text": [
                        "MoviePy - Writing audio in C:\\Users\\koool\\Desktop\\subtitles\\audio_clips\\bw83.mp3\n"
                    ]
                },
                {
                    "output_type": "stream",
                    "name": "stderr",
                    "text": [
                        "chunk: 100%|██████████| 1/1 [16:06<00:00, 966.54s/it, now=None]"
                    ]
                },
                {
                    "output_type": "stream",
                    "name": "stdout",
                    "text": [
                        "MoviePy - Done.\n"
                    ]
                },
                {
                    "output_type": "stream",
                    "name": "stderr",
                    "text": [
                        "chunk: 100%|██████████| 1/1 [16:09<00:00, 969.09s/it, now=None]"
                    ]
                },
                {
                    "output_type": "stream",
                    "name": "stdout",
                    "text": [
                        "MoviePy - Writing audio in C:\\Users\\koool\\Desktop\\subtitles\\audio_clips\\bw84.mp3\n"
                    ]
                },
                {
                    "output_type": "stream",
                    "name": "stderr",
                    "text": [
                        "chunk: 100%|██████████| 1/1 [16:09<00:00, 969.80s/it, now=None]"
                    ]
                },
                {
                    "output_type": "stream",
                    "name": "stdout",
                    "text": [
                        "MoviePy - Done.\n"
                    ]
                },
                {
                    "output_type": "stream",
                    "name": "stderr",
                    "text": [
                        "chunk: 100%|██████████| 1/1 [16:13<00:00, 973.89s/it, now=None]"
                    ]
                },
                {
                    "output_type": "stream",
                    "name": "stdout",
                    "text": [
                        "MoviePy - Writing audio in C:\\Users\\koool\\Desktop\\subtitles\\audio_clips\\bw85.mp3\n"
                    ]
                },
                {
                    "output_type": "stream",
                    "name": "stderr",
                    "text": [
                        "chunk: 100%|██████████| 1/1 [16:14<00:00, 974.54s/it, now=None]"
                    ]
                },
                {
                    "output_type": "stream",
                    "name": "stdout",
                    "text": [
                        "MoviePy - Done.\n"
                    ]
                },
                {
                    "output_type": "stream",
                    "name": "stderr",
                    "text": [
                        "chunk: 100%|██████████| 1/1 [16:17<00:00, 977.26s/it, now=None]"
                    ]
                },
                {
                    "output_type": "stream",
                    "name": "stdout",
                    "text": [
                        "MoviePy - Writing audio in C:\\Users\\koool\\Desktop\\subtitles\\audio_clips\\bw86.mp3\n"
                    ]
                },
                {
                    "output_type": "stream",
                    "name": "stderr",
                    "text": [
                        "chunk: 100%|██████████| 1/1 [16:17<00:00, 977.88s/it, now=None]"
                    ]
                },
                {
                    "output_type": "stream",
                    "name": "stdout",
                    "text": [
                        "MoviePy - Done.\n"
                    ]
                },
                {
                    "output_type": "stream",
                    "name": "stderr",
                    "text": [
                        "chunk: 100%|██████████| 1/1 [16:21<00:00, 981.02s/it, now=None]"
                    ]
                },
                {
                    "output_type": "stream",
                    "name": "stdout",
                    "text": [
                        "MoviePy - Writing audio in C:\\Users\\koool\\Desktop\\subtitles\\audio_clips\\bw87.mp3\n"
                    ]
                },
                {
                    "output_type": "stream",
                    "name": "stderr",
                    "text": [
                        "chunk: 100%|██████████| 1/1 [16:21<00:00, 981.72s/it, now=None]"
                    ]
                },
                {
                    "output_type": "stream",
                    "name": "stdout",
                    "text": [
                        "MoviePy - Done.\n"
                    ]
                },
                {
                    "output_type": "stream",
                    "name": "stderr",
                    "text": [
                        "chunk: 100%|██████████| 1/1 [16:26<00:00, 986.60s/it, now=None]"
                    ]
                },
                {
                    "output_type": "stream",
                    "name": "stdout",
                    "text": [
                        "MoviePy - Writing audio in C:\\Users\\koool\\Desktop\\subtitles\\audio_clips\\bw88.mp3\n"
                    ]
                },
                {
                    "output_type": "stream",
                    "name": "stderr",
                    "text": [
                        "chunk: 100%|██████████| 1/1 [16:27<00:00, 987.22s/it, now=None]"
                    ]
                },
                {
                    "output_type": "stream",
                    "name": "stdout",
                    "text": [
                        "MoviePy - Done.\n"
                    ]
                },
                {
                    "output_type": "stream",
                    "name": "stderr",
                    "text": [
                        "chunk: 100%|██████████| 1/1 [16:42<00:00, 1002.58s/it, now=None]"
                    ]
                },
                {
                    "output_type": "stream",
                    "name": "stdout",
                    "text": [
                        "MoviePy - Writing audio in C:\\Users\\koool\\Desktop\\subtitles\\audio_clips\\bw89.mp3\n"
                    ]
                },
                {
                    "output_type": "stream",
                    "name": "stderr",
                    "text": [
                        "chunk: 100%|██████████| 1/1 [16:43<00:00, 1003.33s/it, now=None]"
                    ]
                },
                {
                    "output_type": "stream",
                    "name": "stdout",
                    "text": [
                        "MoviePy - Done.\n"
                    ]
                },
                {
                    "output_type": "stream",
                    "name": "stderr",
                    "text": [
                        "chunk: 100%|██████████| 1/1 [16:47<00:00, 1007.07s/it, now=None]"
                    ]
                },
                {
                    "output_type": "stream",
                    "name": "stdout",
                    "text": [
                        "MoviePy - Writing audio in C:\\Users\\koool\\Desktop\\subtitles\\audio_clips\\bw90.mp3\n"
                    ]
                },
                {
                    "output_type": "stream",
                    "name": "stderr",
                    "text": [
                        "chunk: 100%|██████████| 1/1 [16:47<00:00, 1007.71s/it, now=None]"
                    ]
                },
                {
                    "output_type": "stream",
                    "name": "stdout",
                    "text": [
                        "MoviePy - Done.\n"
                    ]
                },
                {
                    "output_type": "stream",
                    "name": "stderr",
                    "text": [
                        "chunk: 100%|██████████| 1/1 [16:51<00:00, 1011.37s/it, now=None]"
                    ]
                },
                {
                    "output_type": "stream",
                    "name": "stdout",
                    "text": [
                        "MoviePy - Writing audio in C:\\Users\\koool\\Desktop\\subtitles\\audio_clips\\bw91.mp3\n"
                    ]
                },
                {
                    "output_type": "stream",
                    "name": "stderr",
                    "text": [
                        "chunk: 100%|██████████| 1/1 [16:51<00:00, 1011.95s/it, now=None]"
                    ]
                },
                {
                    "output_type": "stream",
                    "name": "stdout",
                    "text": [
                        "MoviePy - Done.\n"
                    ]
                },
                {
                    "output_type": "stream",
                    "name": "stderr",
                    "text": [
                        "chunk: 100%|██████████| 1/1 [16:56<00:00, 1016.13s/it, now=None]"
                    ]
                },
                {
                    "output_type": "stream",
                    "name": "stdout",
                    "text": [
                        "MoviePy - Writing audio in C:\\Users\\koool\\Desktop\\subtitles\\audio_clips\\bw92.mp3\n"
                    ]
                },
                {
                    "output_type": "stream",
                    "name": "stderr",
                    "text": [
                        "chunk: 100%|██████████| 1/1 [16:56<00:00, 1016.72s/it, now=None]"
                    ]
                },
                {
                    "output_type": "stream",
                    "name": "stdout",
                    "text": [
                        "MoviePy - Done.\n"
                    ]
                },
                {
                    "output_type": "stream",
                    "name": "stderr",
                    "text": [
                        "chunk: 100%|██████████| 1/1 [17:00<00:00, 1020.28s/it, now=None]"
                    ]
                },
                {
                    "output_type": "stream",
                    "name": "stdout",
                    "text": [
                        "MoviePy - Writing audio in C:\\Users\\koool\\Desktop\\subtitles\\audio_clips\\bw93.mp3\n"
                    ]
                },
                {
                    "output_type": "stream",
                    "name": "stderr",
                    "text": [
                        "chunk: 100%|██████████| 1/1 [17:00<00:00, 1020.93s/it, now=None]"
                    ]
                },
                {
                    "output_type": "stream",
                    "name": "stdout",
                    "text": [
                        "MoviePy - Done.\n"
                    ]
                },
                {
                    "output_type": "stream",
                    "name": "stderr",
                    "text": [
                        "chunk: 100%|██████████| 1/1 [17:03<00:00, 1023.32s/it, now=None]"
                    ]
                },
                {
                    "output_type": "stream",
                    "name": "stdout",
                    "text": [
                        "MoviePy - Writing audio in C:\\Users\\koool\\Desktop\\subtitles\\audio_clips\\bw94.mp3\n"
                    ]
                },
                {
                    "output_type": "stream",
                    "name": "stderr",
                    "text": [
                        "chunk: 100%|██████████| 1/1 [17:03<00:00, 1023.92s/it, now=None]"
                    ]
                },
                {
                    "output_type": "stream",
                    "name": "stdout",
                    "text": [
                        "MoviePy - Done.\n"
                    ]
                },
                {
                    "output_type": "stream",
                    "name": "stderr",
                    "text": [
                        "chunk: 100%|██████████| 1/1 [17:06<00:00, 1026.11s/it, now=None]"
                    ]
                },
                {
                    "output_type": "stream",
                    "name": "stdout",
                    "text": [
                        "MoviePy - Writing audio in C:\\Users\\koool\\Desktop\\subtitles\\audio_clips\\bw95.mp3\n"
                    ]
                },
                {
                    "output_type": "stream",
                    "name": "stderr",
                    "text": [
                        "chunk: 100%|██████████| 1/1 [17:06<00:00, 1026.77s/it, now=None]"
                    ]
                },
                {
                    "output_type": "stream",
                    "name": "stdout",
                    "text": [
                        "MoviePy - Done.\n"
                    ]
                },
                {
                    "output_type": "stream",
                    "name": "stderr",
                    "text": [
                        "chunk: 100%|██████████| 1/1 [17:08<00:00, 1028.99s/it, now=None]"
                    ]
                },
                {
                    "output_type": "stream",
                    "name": "stdout",
                    "text": [
                        "MoviePy - Writing audio in C:\\Users\\koool\\Desktop\\subtitles\\audio_clips\\bw96.mp3\n"
                    ]
                },
                {
                    "output_type": "stream",
                    "name": "stderr",
                    "text": [
                        "chunk: 100%|██████████| 1/1 [17:09<00:00, 1029.70s/it, now=None]"
                    ]
                },
                {
                    "output_type": "stream",
                    "name": "stdout",
                    "text": [
                        "MoviePy - Done.\n"
                    ]
                },
                {
                    "output_type": "stream",
                    "name": "stderr",
                    "text": [
                        "chunk: 100%|██████████| 1/1 [17:11<00:00, 1031.85s/it, now=None]"
                    ]
                },
                {
                    "output_type": "stream",
                    "name": "stdout",
                    "text": [
                        "MoviePy - Writing audio in C:\\Users\\koool\\Desktop\\subtitles\\audio_clips\\bw97.mp3\n"
                    ]
                },
                {
                    "output_type": "stream",
                    "name": "stderr",
                    "text": [
                        "chunk: 100%|██████████| 1/1 [17:12<00:00, 1032.51s/it, now=None]"
                    ]
                },
                {
                    "output_type": "stream",
                    "name": "stdout",
                    "text": [
                        "MoviePy - Done.\n"
                    ]
                },
                {
                    "output_type": "stream",
                    "name": "stderr",
                    "text": [
                        "chunk: 100%|██████████| 1/1 [17:20<00:00, 1040.63s/it, now=None]"
                    ]
                },
                {
                    "output_type": "stream",
                    "name": "stdout",
                    "text": [
                        "MoviePy - Writing audio in C:\\Users\\koool\\Desktop\\subtitles\\audio_clips\\bw98.mp3\n"
                    ]
                },
                {
                    "output_type": "stream",
                    "name": "stderr",
                    "text": [
                        "chunk: 100%|██████████| 1/1 [17:21<00:00, 1041.29s/it, now=None]"
                    ]
                },
                {
                    "output_type": "stream",
                    "name": "stdout",
                    "text": [
                        "MoviePy - Done.\n"
                    ]
                },
                {
                    "output_type": "stream",
                    "name": "stderr",
                    "text": [
                        "chunk: 100%|██████████| 1/1 [17:27<00:00, 1047.40s/it, now=None]"
                    ]
                },
                {
                    "output_type": "stream",
                    "name": "stdout",
                    "text": [
                        "MoviePy - Writing audio in C:\\Users\\koool\\Desktop\\subtitles\\audio_clips\\bw99.mp3\n"
                    ]
                },
                {
                    "output_type": "stream",
                    "name": "stderr",
                    "text": [
                        "chunk: 100%|██████████| 1/1 [17:28<00:00, 1048.01s/it, now=None]"
                    ]
                },
                {
                    "output_type": "stream",
                    "name": "stdout",
                    "text": [
                        "MoviePy - Done.\n"
                    ]
                },
                {
                    "output_type": "stream",
                    "name": "stderr",
                    "text": [
                        "chunk: 100%|██████████| 1/1 [17:32<00:00, 1052.07s/it, now=None]"
                    ]
                },
                {
                    "output_type": "stream",
                    "name": "stdout",
                    "text": [
                        "MoviePy - Writing audio in C:\\Users\\koool\\Desktop\\subtitles\\audio_clips\\bw100.mp3\n"
                    ]
                },
                {
                    "output_type": "stream",
                    "name": "stderr",
                    "text": [
                        "chunk: 100%|██████████| 1/1 [17:32<00:00, 1052.70s/it, now=None]"
                    ]
                },
                {
                    "output_type": "stream",
                    "name": "stdout",
                    "text": [
                        "MoviePy - Done.\n"
                    ]
                },
                {
                    "output_type": "stream",
                    "name": "stderr",
                    "text": [
                        "chunk: 100%|██████████| 1/1 [17:36<00:00, 1056.80s/it, now=None]"
                    ]
                },
                {
                    "output_type": "stream",
                    "name": "stdout",
                    "text": [
                        "MoviePy - Writing audio in C:\\Users\\koool\\Desktop\\subtitles\\audio_clips\\bw101.mp3\n"
                    ]
                },
                {
                    "output_type": "stream",
                    "name": "stderr",
                    "text": [
                        "chunk: 100%|██████████| 1/1 [17:37<00:00, 1057.42s/it, now=None]"
                    ]
                },
                {
                    "output_type": "stream",
                    "name": "stdout",
                    "text": [
                        "MoviePy - Done.\n"
                    ]
                },
                {
                    "output_type": "stream",
                    "name": "stderr",
                    "text": [
                        "chunk: 100%|██████████| 1/1 [17:41<00:00, 1061.06s/it, now=None]"
                    ]
                },
                {
                    "output_type": "stream",
                    "name": "stdout",
                    "text": [
                        "MoviePy - Writing audio in C:\\Users\\koool\\Desktop\\subtitles\\audio_clips\\bw102.mp3\n"
                    ]
                },
                {
                    "output_type": "stream",
                    "name": "stderr",
                    "text": [
                        "chunk: 100%|██████████| 1/1 [17:41<00:00, 1061.63s/it, now=None]"
                    ]
                },
                {
                    "output_type": "stream",
                    "name": "stdout",
                    "text": [
                        "MoviePy - Done.\n"
                    ]
                },
                {
                    "output_type": "stream",
                    "name": "stderr",
                    "text": [
                        "chunk: 100%|██████████| 1/1 [17:49<00:00, 1069.85s/it, now=None]"
                    ]
                },
                {
                    "output_type": "stream",
                    "name": "stdout",
                    "text": [
                        "MoviePy - Writing audio in C:\\Users\\koool\\Desktop\\subtitles\\audio_clips\\bw103.mp3\n"
                    ]
                },
                {
                    "output_type": "stream",
                    "name": "stderr",
                    "text": [
                        "chunk: 100%|██████████| 1/1 [17:50<00:00, 1070.43s/it, now=None]"
                    ]
                },
                {
                    "output_type": "stream",
                    "name": "stdout",
                    "text": [
                        "MoviePy - Done.\n"
                    ]
                },
                {
                    "output_type": "stream",
                    "name": "stderr",
                    "text": [
                        "chunk: 100%|██████████| 1/1 [17:54<00:00, 1074.16s/it, now=None]"
                    ]
                },
                {
                    "output_type": "stream",
                    "name": "stdout",
                    "text": [
                        "MoviePy - Writing audio in C:\\Users\\koool\\Desktop\\subtitles\\audio_clips\\bw104.mp3\n"
                    ]
                },
                {
                    "output_type": "stream",
                    "name": "stderr",
                    "text": [
                        "chunk: 100%|██████████| 1/1 [17:55<00:00, 1075.15s/it, now=None]"
                    ]
                },
                {
                    "output_type": "stream",
                    "name": "stdout",
                    "text": [
                        "MoviePy - Done.\n"
                    ]
                },
                {
                    "output_type": "stream",
                    "name": "stderr",
                    "text": [
                        "chunk: 100%|██████████| 1/1 [18:03<00:00, 1083.23s/it, now=None]"
                    ]
                },
                {
                    "output_type": "stream",
                    "name": "stdout",
                    "text": [
                        "MoviePy - Writing audio in C:\\Users\\koool\\Desktop\\subtitles\\audio_clips\\bw105.mp3\n"
                    ]
                },
                {
                    "output_type": "stream",
                    "name": "stderr",
                    "text": [
                        "chunk: 100%|██████████| 1/1 [18:03<00:00, 1083.85s/it, now=None]"
                    ]
                },
                {
                    "output_type": "stream",
                    "name": "stdout",
                    "text": [
                        "MoviePy - Done.\n"
                    ]
                },
                {
                    "output_type": "error",
                    "ename": "KeyboardInterrupt",
                    "evalue": "",
                    "traceback": [
                        "\u001b[1;31m---------------------------------------------------------------------------\u001b[0m",
                        "\u001b[1;31mKeyboardInterrupt\u001b[0m                         Traceback (most recent call last)",
                        "\u001b[1;32m~\\AppData\\Local\\Temp/ipykernel_17824/3699144378.py\u001b[0m in \u001b[0;36m<module>\u001b[1;34m\u001b[0m\n\u001b[0;32m      1\u001b[0m \u001b[1;32mfor\u001b[0m \u001b[0mi\u001b[0m\u001b[1;33m,\u001b[0m\u001b[0msub\u001b[0m \u001b[1;32min\u001b[0m \u001b[0menumerate\u001b[0m\u001b[1;33m(\u001b[0m\u001b[0msubs\u001b[0m\u001b[1;33m)\u001b[0m\u001b[1;33m:\u001b[0m\u001b[1;33m\u001b[0m\u001b[1;33m\u001b[0m\u001b[0m\n\u001b[1;32m----> 2\u001b[1;33m     \u001b[0mclip\u001b[0m \u001b[1;33m=\u001b[0m \u001b[0mmy_clip\u001b[0m\u001b[1;33m.\u001b[0m\u001b[0msubclip\u001b[0m\u001b[1;33m(\u001b[0m\u001b[0msub\u001b[0m\u001b[1;33m.\u001b[0m\u001b[0mstart\u001b[0m\u001b[1;33m.\u001b[0m\u001b[0mto_time\u001b[0m\u001b[1;33m(\u001b[0m\u001b[1;33m)\u001b[0m\u001b[1;33m.\u001b[0m\u001b[0mstrftime\u001b[0m\u001b[1;33m(\u001b[0m\u001b[1;34m\"%H:%M:%S\"\u001b[0m\u001b[1;33m)\u001b[0m\u001b[1;33m,\u001b[0m\u001b[0msub\u001b[0m\u001b[1;33m.\u001b[0m\u001b[0mend\u001b[0m\u001b[1;33m.\u001b[0m\u001b[0mto_time\u001b[0m\u001b[1;33m(\u001b[0m\u001b[1;33m)\u001b[0m\u001b[1;33m.\u001b[0m\u001b[0mstrftime\u001b[0m\u001b[1;33m(\u001b[0m\u001b[1;34m\"%H:%M:%S.%f\"\u001b[0m\u001b[1;33m)\u001b[0m\u001b[1;33m)\u001b[0m\u001b[1;33m\u001b[0m\u001b[1;33m\u001b[0m\u001b[0m\n\u001b[0m\u001b[0;32m      3\u001b[0m     \u001b[0mclip\u001b[0m\u001b[1;33m.\u001b[0m\u001b[0maudio\u001b[0m\u001b[1;33m.\u001b[0m\u001b[0mwrite_audiofile\u001b[0m\u001b[1;33m(\u001b[0m\u001b[1;34mr\"C:\\Users\\koool\\Desktop\\subtitles\\audio_clips\\bw\"\u001b[0m\u001b[1;33m+\u001b[0m\u001b[0mstr\u001b[0m\u001b[1;33m(\u001b[0m\u001b[0mi\u001b[0m\u001b[1;33m)\u001b[0m\u001b[1;33m+\u001b[0m\u001b[1;34m\".mp3\"\u001b[0m\u001b[1;33m)\u001b[0m\u001b[1;33m\u001b[0m\u001b[1;33m\u001b[0m\u001b[0m\n",
                        "\u001b[1;32m<decorator-gen-153>\u001b[0m in \u001b[0;36msubclip\u001b[1;34m(self, t_start, t_end)\u001b[0m\n",
                        "\u001b[1;32m~\\AppData\\Local\\Programs\\Python\\Python39\\lib\\site-packages\\moviepy\\decorators.py\u001b[0m in \u001b[0;36mwrapper\u001b[1;34m(f, *a, **kw)\u001b[0m\n\u001b[0;32m     87\u001b[0m         new_kw = {k: fun(v) if k in varnames else v\n\u001b[0;32m     88\u001b[0m                  for (k,v) in kw.items()}\n\u001b[1;32m---> 89\u001b[1;33m         \u001b[1;32mreturn\u001b[0m \u001b[0mf\u001b[0m\u001b[1;33m(\u001b[0m\u001b[1;33m*\u001b[0m\u001b[0mnew_a\u001b[0m\u001b[1;33m,\u001b[0m \u001b[1;33m**\u001b[0m\u001b[0mnew_kw\u001b[0m\u001b[1;33m)\u001b[0m\u001b[1;33m\u001b[0m\u001b[1;33m\u001b[0m\u001b[0m\n\u001b[0m\u001b[0;32m     90\u001b[0m     \u001b[1;32mreturn\u001b[0m \u001b[0mdecorator\u001b[0m\u001b[1;33m.\u001b[0m\u001b[0mdecorator\u001b[0m\u001b[1;33m(\u001b[0m\u001b[0mwrapper\u001b[0m\u001b[1;33m)\u001b[0m\u001b[1;33m\u001b[0m\u001b[1;33m\u001b[0m\u001b[0m\n\u001b[0;32m     91\u001b[0m \u001b[1;33m\u001b[0m\u001b[0m\n",
                        "\u001b[1;32m<decorator-gen-152>\u001b[0m in \u001b[0;36msubclip\u001b[1;34m(self, t_start, t_end)\u001b[0m\n",
                        "\u001b[1;32m~\\AppData\\Local\\Programs\\Python\\Python39\\lib\\site-packages\\moviepy\\decorators.py\u001b[0m in \u001b[0;36mapply_to_mask\u001b[1;34m(f, clip, *a, **k)\u001b[0m\n\u001b[0;32m     27\u001b[0m         the clip created with f \"\"\"\n\u001b[0;32m     28\u001b[0m \u001b[1;33m\u001b[0m\u001b[0m\n\u001b[1;32m---> 29\u001b[1;33m     \u001b[0mnewclip\u001b[0m \u001b[1;33m=\u001b[0m \u001b[0mf\u001b[0m\u001b[1;33m(\u001b[0m\u001b[0mclip\u001b[0m\u001b[1;33m,\u001b[0m \u001b[1;33m*\u001b[0m\u001b[0ma\u001b[0m\u001b[1;33m,\u001b[0m \u001b[1;33m**\u001b[0m\u001b[0mk\u001b[0m\u001b[1;33m)\u001b[0m\u001b[1;33m\u001b[0m\u001b[1;33m\u001b[0m\u001b[0m\n\u001b[0m\u001b[0;32m     30\u001b[0m     \u001b[1;32mif\u001b[0m \u001b[0mgetattr\u001b[0m\u001b[1;33m(\u001b[0m\u001b[0mnewclip\u001b[0m\u001b[1;33m,\u001b[0m \u001b[1;34m'mask'\u001b[0m\u001b[1;33m,\u001b[0m \u001b[1;32mNone\u001b[0m\u001b[1;33m)\u001b[0m\u001b[1;33m:\u001b[0m\u001b[1;33m\u001b[0m\u001b[1;33m\u001b[0m\u001b[0m\n\u001b[0;32m     31\u001b[0m         \u001b[0mnewclip\u001b[0m\u001b[1;33m.\u001b[0m\u001b[0mmask\u001b[0m \u001b[1;33m=\u001b[0m \u001b[0mf\u001b[0m\u001b[1;33m(\u001b[0m\u001b[0mnewclip\u001b[0m\u001b[1;33m.\u001b[0m\u001b[0mmask\u001b[0m\u001b[1;33m,\u001b[0m \u001b[1;33m*\u001b[0m\u001b[0ma\u001b[0m\u001b[1;33m,\u001b[0m \u001b[1;33m**\u001b[0m\u001b[0mk\u001b[0m\u001b[1;33m)\u001b[0m\u001b[1;33m\u001b[0m\u001b[1;33m\u001b[0m\u001b[0m\n",
                        "\u001b[1;32m<decorator-gen-151>\u001b[0m in \u001b[0;36msubclip\u001b[1;34m(self, t_start, t_end)\u001b[0m\n",
                        "\u001b[1;32m~\\AppData\\Local\\Programs\\Python\\Python39\\lib\\site-packages\\moviepy\\decorators.py\u001b[0m in \u001b[0;36mapply_to_audio\u001b[1;34m(f, clip, *a, **k)\u001b[0m\n\u001b[0;32m     39\u001b[0m         the clip created with f \"\"\"\n\u001b[0;32m     40\u001b[0m \u001b[1;33m\u001b[0m\u001b[0m\n\u001b[1;32m---> 41\u001b[1;33m     \u001b[0mnewclip\u001b[0m \u001b[1;33m=\u001b[0m \u001b[0mf\u001b[0m\u001b[1;33m(\u001b[0m\u001b[0mclip\u001b[0m\u001b[1;33m,\u001b[0m \u001b[1;33m*\u001b[0m\u001b[0ma\u001b[0m\u001b[1;33m,\u001b[0m \u001b[1;33m**\u001b[0m\u001b[0mk\u001b[0m\u001b[1;33m)\u001b[0m\u001b[1;33m\u001b[0m\u001b[1;33m\u001b[0m\u001b[0m\n\u001b[0m\u001b[0;32m     42\u001b[0m     \u001b[1;32mif\u001b[0m \u001b[0mgetattr\u001b[0m\u001b[1;33m(\u001b[0m\u001b[0mnewclip\u001b[0m\u001b[1;33m,\u001b[0m \u001b[1;34m'audio'\u001b[0m\u001b[1;33m,\u001b[0m \u001b[1;32mNone\u001b[0m\u001b[1;33m)\u001b[0m\u001b[1;33m:\u001b[0m\u001b[1;33m\u001b[0m\u001b[1;33m\u001b[0m\u001b[0m\n\u001b[0;32m     43\u001b[0m         \u001b[0mnewclip\u001b[0m\u001b[1;33m.\u001b[0m\u001b[0maudio\u001b[0m \u001b[1;33m=\u001b[0m \u001b[0mf\u001b[0m\u001b[1;33m(\u001b[0m\u001b[0mnewclip\u001b[0m\u001b[1;33m.\u001b[0m\u001b[0maudio\u001b[0m\u001b[1;33m,\u001b[0m \u001b[1;33m*\u001b[0m\u001b[0ma\u001b[0m\u001b[1;33m,\u001b[0m \u001b[1;33m**\u001b[0m\u001b[0mk\u001b[0m\u001b[1;33m)\u001b[0m\u001b[1;33m\u001b[0m\u001b[1;33m\u001b[0m\u001b[0m\n",
                        "\u001b[1;32m~\\AppData\\Local\\Programs\\Python\\Python39\\lib\\site-packages\\moviepy\\Clip.py\u001b[0m in \u001b[0;36msubclip\u001b[1;34m(self, t_start, t_end)\u001b[0m\n\u001b[0;32m    387\u001b[0m                              \"duration (%.02f).\" % self.duration)\n\u001b[0;32m    388\u001b[0m \u001b[1;33m\u001b[0m\u001b[0m\n\u001b[1;32m--> 389\u001b[1;33m         \u001b[0mnewclip\u001b[0m \u001b[1;33m=\u001b[0m \u001b[0mself\u001b[0m\u001b[1;33m.\u001b[0m\u001b[0mfl_time\u001b[0m\u001b[1;33m(\u001b[0m\u001b[1;32mlambda\u001b[0m \u001b[0mt\u001b[0m\u001b[1;33m:\u001b[0m \u001b[0mt\u001b[0m \u001b[1;33m+\u001b[0m \u001b[0mt_start\u001b[0m\u001b[1;33m,\u001b[0m \u001b[0mapply_to\u001b[0m\u001b[1;33m=\u001b[0m\u001b[1;33m[\u001b[0m\u001b[1;33m]\u001b[0m\u001b[1;33m)\u001b[0m\u001b[1;33m\u001b[0m\u001b[1;33m\u001b[0m\u001b[0m\n\u001b[0m\u001b[0;32m    390\u001b[0m \u001b[1;33m\u001b[0m\u001b[0m\n\u001b[0;32m    391\u001b[0m         \u001b[1;32mif\u001b[0m \u001b[1;33m(\u001b[0m\u001b[0mt_end\u001b[0m \u001b[1;32mis\u001b[0m \u001b[1;32mNone\u001b[0m\u001b[1;33m)\u001b[0m \u001b[1;32mand\u001b[0m \u001b[1;33m(\u001b[0m\u001b[0mself\u001b[0m\u001b[1;33m.\u001b[0m\u001b[0mduration\u001b[0m \u001b[1;32mis\u001b[0m \u001b[1;32mnot\u001b[0m \u001b[1;32mNone\u001b[0m\u001b[1;33m)\u001b[0m\u001b[1;33m:\u001b[0m\u001b[1;33m\u001b[0m\u001b[1;33m\u001b[0m\u001b[0m\n",
                        "\u001b[1;32m~\\AppData\\Local\\Programs\\Python\\Python39\\lib\\site-packages\\moviepy\\Clip.py\u001b[0m in \u001b[0;36mfl_time\u001b[1;34m(self, t_func, apply_to, keep_duration)\u001b[0m\n\u001b[0;32m    185\u001b[0m             \u001b[0mapply_to\u001b[0m \u001b[1;33m=\u001b[0m \u001b[1;33m[\u001b[0m\u001b[1;33m]\u001b[0m\u001b[1;33m\u001b[0m\u001b[1;33m\u001b[0m\u001b[0m\n\u001b[0;32m    186\u001b[0m \u001b[1;33m\u001b[0m\u001b[0m\n\u001b[1;32m--> 187\u001b[1;33m         return self.fl(lambda gf, t: gf(t_func(t)), apply_to,\n\u001b[0m\u001b[0;32m    188\u001b[0m                        keep_duration=keep_duration)\n\u001b[0;32m    189\u001b[0m \u001b[1;33m\u001b[0m\u001b[0m\n",
                        "\u001b[1;32m~\\AppData\\Local\\Programs\\Python\\Python39\\lib\\site-packages\\moviepy\\Clip.py\u001b[0m in \u001b[0;36mfl\u001b[1;34m(self, fun, apply_to, keep_duration)\u001b[0m\n\u001b[0;32m    134\u001b[0m \u001b[1;33m\u001b[0m\u001b[0m\n\u001b[0;32m    135\u001b[0m         \u001b[1;31m#mf = copy(self.make_frame)\u001b[0m\u001b[1;33m\u001b[0m\u001b[1;33m\u001b[0m\u001b[1;33m\u001b[0m\u001b[0m\n\u001b[1;32m--> 136\u001b[1;33m         \u001b[0mnewclip\u001b[0m \u001b[1;33m=\u001b[0m \u001b[0mself\u001b[0m\u001b[1;33m.\u001b[0m\u001b[0mset_make_frame\u001b[0m\u001b[1;33m(\u001b[0m\u001b[1;32mlambda\u001b[0m \u001b[0mt\u001b[0m\u001b[1;33m:\u001b[0m \u001b[0mfun\u001b[0m\u001b[1;33m(\u001b[0m\u001b[0mself\u001b[0m\u001b[1;33m.\u001b[0m\u001b[0mget_frame\u001b[0m\u001b[1;33m,\u001b[0m \u001b[0mt\u001b[0m\u001b[1;33m)\u001b[0m\u001b[1;33m)\u001b[0m\u001b[1;33m\u001b[0m\u001b[1;33m\u001b[0m\u001b[0m\n\u001b[0m\u001b[0;32m    137\u001b[0m \u001b[1;33m\u001b[0m\u001b[0m\n\u001b[0;32m    138\u001b[0m         \u001b[1;32mif\u001b[0m \u001b[1;32mnot\u001b[0m \u001b[0mkeep_duration\u001b[0m\u001b[1;33m:\u001b[0m\u001b[1;33m\u001b[0m\u001b[1;33m\u001b[0m\u001b[0m\n",
                        "\u001b[1;32m<decorator-gen-178>\u001b[0m in \u001b[0;36mset_make_frame\u001b[1;34m(self, mf)\u001b[0m\n",
                        "\u001b[1;32m~\\AppData\\Local\\Programs\\Python\\Python39\\lib\\site-packages\\moviepy\\decorators.py\u001b[0m in \u001b[0;36moutplace\u001b[1;34m(f, clip, *a, **k)\u001b[0m\n\u001b[0;32m     12\u001b[0m     \u001b[1;34m\"\"\" Applies f(clip.copy(), *a, **k) and returns clip.copy()\"\"\"\u001b[0m\u001b[1;33m\u001b[0m\u001b[1;33m\u001b[0m\u001b[0m\n\u001b[0;32m     13\u001b[0m     \u001b[0mnewclip\u001b[0m \u001b[1;33m=\u001b[0m \u001b[0mclip\u001b[0m\u001b[1;33m.\u001b[0m\u001b[0mcopy\u001b[0m\u001b[1;33m(\u001b[0m\u001b[1;33m)\u001b[0m\u001b[1;33m\u001b[0m\u001b[1;33m\u001b[0m\u001b[0m\n\u001b[1;32m---> 14\u001b[1;33m     \u001b[0mf\u001b[0m\u001b[1;33m(\u001b[0m\u001b[0mnewclip\u001b[0m\u001b[1;33m,\u001b[0m \u001b[1;33m*\u001b[0m\u001b[0ma\u001b[0m\u001b[1;33m,\u001b[0m \u001b[1;33m**\u001b[0m\u001b[0mk\u001b[0m\u001b[1;33m)\u001b[0m\u001b[1;33m\u001b[0m\u001b[1;33m\u001b[0m\u001b[0m\n\u001b[0m\u001b[0;32m     15\u001b[0m     \u001b[1;32mreturn\u001b[0m \u001b[0mnewclip\u001b[0m\u001b[1;33m\u001b[0m\u001b[1;33m\u001b[0m\u001b[0m\n\u001b[0;32m     16\u001b[0m \u001b[1;33m\u001b[0m\u001b[0m\n",
                        "\u001b[1;32m~\\AppData\\Local\\Programs\\Python\\Python39\\lib\\site-packages\\moviepy\\video\\VideoClip.py\u001b[0m in \u001b[0;36mset_make_frame\u001b[1;34m(self, mf)\u001b[0m\n\u001b[0;32m    642\u001b[0m         \"\"\"\n\u001b[0;32m    643\u001b[0m         \u001b[0mself\u001b[0m\u001b[1;33m.\u001b[0m\u001b[0mmake_frame\u001b[0m \u001b[1;33m=\u001b[0m \u001b[0mmf\u001b[0m\u001b[1;33m\u001b[0m\u001b[1;33m\u001b[0m\u001b[0m\n\u001b[1;32m--> 644\u001b[1;33m         \u001b[0mself\u001b[0m\u001b[1;33m.\u001b[0m\u001b[0msize\u001b[0m \u001b[1;33m=\u001b[0m \u001b[0mself\u001b[0m\u001b[1;33m.\u001b[0m\u001b[0mget_frame\u001b[0m\u001b[1;33m(\u001b[0m\u001b[1;36m0\u001b[0m\u001b[1;33m)\u001b[0m\u001b[1;33m.\u001b[0m\u001b[0mshape\u001b[0m\u001b[1;33m[\u001b[0m\u001b[1;33m:\u001b[0m\u001b[1;36m2\u001b[0m\u001b[1;33m]\u001b[0m\u001b[1;33m[\u001b[0m\u001b[1;33m:\u001b[0m\u001b[1;33m:\u001b[0m\u001b[1;33m-\u001b[0m\u001b[1;36m1\u001b[0m\u001b[1;33m]\u001b[0m\u001b[1;33m\u001b[0m\u001b[1;33m\u001b[0m\u001b[0m\n\u001b[0m\u001b[0;32m    645\u001b[0m \u001b[1;33m\u001b[0m\u001b[0m\n\u001b[0;32m    646\u001b[0m     \u001b[1;33m@\u001b[0m\u001b[0moutplace\u001b[0m\u001b[1;33m\u001b[0m\u001b[1;33m\u001b[0m\u001b[0m\n",
                        "\u001b[1;32m<decorator-gen-128>\u001b[0m in \u001b[0;36mget_frame\u001b[1;34m(self, t)\u001b[0m\n",
                        "\u001b[1;32m~\\AppData\\Local\\Programs\\Python\\Python39\\lib\\site-packages\\moviepy\\decorators.py\u001b[0m in \u001b[0;36mwrapper\u001b[1;34m(f, *a, **kw)\u001b[0m\n\u001b[0;32m     87\u001b[0m         new_kw = {k: fun(v) if k in varnames else v\n\u001b[0;32m     88\u001b[0m                  for (k,v) in kw.items()}\n\u001b[1;32m---> 89\u001b[1;33m         \u001b[1;32mreturn\u001b[0m \u001b[0mf\u001b[0m\u001b[1;33m(\u001b[0m\u001b[1;33m*\u001b[0m\u001b[0mnew_a\u001b[0m\u001b[1;33m,\u001b[0m \u001b[1;33m**\u001b[0m\u001b[0mnew_kw\u001b[0m\u001b[1;33m)\u001b[0m\u001b[1;33m\u001b[0m\u001b[1;33m\u001b[0m\u001b[0m\n\u001b[0m\u001b[0;32m     90\u001b[0m     \u001b[1;32mreturn\u001b[0m \u001b[0mdecorator\u001b[0m\u001b[1;33m.\u001b[0m\u001b[0mdecorator\u001b[0m\u001b[1;33m(\u001b[0m\u001b[0mwrapper\u001b[0m\u001b[1;33m)\u001b[0m\u001b[1;33m\u001b[0m\u001b[1;33m\u001b[0m\u001b[0m\n\u001b[0;32m     91\u001b[0m \u001b[1;33m\u001b[0m\u001b[0m\n",
                        "\u001b[1;32m~\\AppData\\Local\\Programs\\Python\\Python39\\lib\\site-packages\\moviepy\\Clip.py\u001b[0m in \u001b[0;36mget_frame\u001b[1;34m(self, t)\u001b[0m\n\u001b[0;32m     91\u001b[0m                 \u001b[1;32mreturn\u001b[0m \u001b[0mframe\u001b[0m\u001b[1;33m\u001b[0m\u001b[1;33m\u001b[0m\u001b[0m\n\u001b[0;32m     92\u001b[0m         \u001b[1;32melse\u001b[0m\u001b[1;33m:\u001b[0m\u001b[1;33m\u001b[0m\u001b[1;33m\u001b[0m\u001b[0m\n\u001b[1;32m---> 93\u001b[1;33m             \u001b[1;32mreturn\u001b[0m \u001b[0mself\u001b[0m\u001b[1;33m.\u001b[0m\u001b[0mmake_frame\u001b[0m\u001b[1;33m(\u001b[0m\u001b[0mt\u001b[0m\u001b[1;33m)\u001b[0m\u001b[1;33m\u001b[0m\u001b[1;33m\u001b[0m\u001b[0m\n\u001b[0m\u001b[0;32m     94\u001b[0m \u001b[1;33m\u001b[0m\u001b[0m\n\u001b[0;32m     95\u001b[0m     \u001b[1;32mdef\u001b[0m \u001b[0mfl\u001b[0m\u001b[1;33m(\u001b[0m\u001b[0mself\u001b[0m\u001b[1;33m,\u001b[0m \u001b[0mfun\u001b[0m\u001b[1;33m,\u001b[0m \u001b[0mapply_to\u001b[0m\u001b[1;33m=\u001b[0m\u001b[1;32mNone\u001b[0m\u001b[1;33m,\u001b[0m \u001b[0mkeep_duration\u001b[0m\u001b[1;33m=\u001b[0m\u001b[1;32mTrue\u001b[0m\u001b[1;33m)\u001b[0m\u001b[1;33m:\u001b[0m\u001b[1;33m\u001b[0m\u001b[1;33m\u001b[0m\u001b[0m\n",
                        "\u001b[1;32m~\\AppData\\Local\\Programs\\Python\\Python39\\lib\\site-packages\\moviepy\\Clip.py\u001b[0m in \u001b[0;36m<lambda>\u001b[1;34m(t)\u001b[0m\n\u001b[0;32m    134\u001b[0m \u001b[1;33m\u001b[0m\u001b[0m\n\u001b[0;32m    135\u001b[0m         \u001b[1;31m#mf = copy(self.make_frame)\u001b[0m\u001b[1;33m\u001b[0m\u001b[1;33m\u001b[0m\u001b[1;33m\u001b[0m\u001b[0m\n\u001b[1;32m--> 136\u001b[1;33m         \u001b[0mnewclip\u001b[0m \u001b[1;33m=\u001b[0m \u001b[0mself\u001b[0m\u001b[1;33m.\u001b[0m\u001b[0mset_make_frame\u001b[0m\u001b[1;33m(\u001b[0m\u001b[1;32mlambda\u001b[0m \u001b[0mt\u001b[0m\u001b[1;33m:\u001b[0m \u001b[0mfun\u001b[0m\u001b[1;33m(\u001b[0m\u001b[0mself\u001b[0m\u001b[1;33m.\u001b[0m\u001b[0mget_frame\u001b[0m\u001b[1;33m,\u001b[0m \u001b[0mt\u001b[0m\u001b[1;33m)\u001b[0m\u001b[1;33m)\u001b[0m\u001b[1;33m\u001b[0m\u001b[1;33m\u001b[0m\u001b[0m\n\u001b[0m\u001b[0;32m    137\u001b[0m \u001b[1;33m\u001b[0m\u001b[0m\n\u001b[0;32m    138\u001b[0m         \u001b[1;32mif\u001b[0m \u001b[1;32mnot\u001b[0m \u001b[0mkeep_duration\u001b[0m\u001b[1;33m:\u001b[0m\u001b[1;33m\u001b[0m\u001b[1;33m\u001b[0m\u001b[0m\n",
                        "\u001b[1;32m~\\AppData\\Local\\Programs\\Python\\Python39\\lib\\site-packages\\moviepy\\Clip.py\u001b[0m in \u001b[0;36m<lambda>\u001b[1;34m(gf, t)\u001b[0m\n\u001b[0;32m    185\u001b[0m             \u001b[0mapply_to\u001b[0m \u001b[1;33m=\u001b[0m \u001b[1;33m[\u001b[0m\u001b[1;33m]\u001b[0m\u001b[1;33m\u001b[0m\u001b[1;33m\u001b[0m\u001b[0m\n\u001b[0;32m    186\u001b[0m \u001b[1;33m\u001b[0m\u001b[0m\n\u001b[1;32m--> 187\u001b[1;33m         return self.fl(lambda gf, t: gf(t_func(t)), apply_to,\n\u001b[0m\u001b[0;32m    188\u001b[0m                        keep_duration=keep_duration)\n\u001b[0;32m    189\u001b[0m \u001b[1;33m\u001b[0m\u001b[0m\n",
                        "\u001b[1;32m<decorator-gen-128>\u001b[0m in \u001b[0;36mget_frame\u001b[1;34m(self, t)\u001b[0m\n",
                        "\u001b[1;32m~\\AppData\\Local\\Programs\\Python\\Python39\\lib\\site-packages\\moviepy\\decorators.py\u001b[0m in \u001b[0;36mwrapper\u001b[1;34m(f, *a, **kw)\u001b[0m\n\u001b[0;32m     87\u001b[0m         new_kw = {k: fun(v) if k in varnames else v\n\u001b[0;32m     88\u001b[0m                  for (k,v) in kw.items()}\n\u001b[1;32m---> 89\u001b[1;33m         \u001b[1;32mreturn\u001b[0m \u001b[0mf\u001b[0m\u001b[1;33m(\u001b[0m\u001b[1;33m*\u001b[0m\u001b[0mnew_a\u001b[0m\u001b[1;33m,\u001b[0m \u001b[1;33m**\u001b[0m\u001b[0mnew_kw\u001b[0m\u001b[1;33m)\u001b[0m\u001b[1;33m\u001b[0m\u001b[1;33m\u001b[0m\u001b[0m\n\u001b[0m\u001b[0;32m     90\u001b[0m     \u001b[1;32mreturn\u001b[0m \u001b[0mdecorator\u001b[0m\u001b[1;33m.\u001b[0m\u001b[0mdecorator\u001b[0m\u001b[1;33m(\u001b[0m\u001b[0mwrapper\u001b[0m\u001b[1;33m)\u001b[0m\u001b[1;33m\u001b[0m\u001b[1;33m\u001b[0m\u001b[0m\n\u001b[0;32m     91\u001b[0m \u001b[1;33m\u001b[0m\u001b[0m\n",
                        "\u001b[1;32m~\\AppData\\Local\\Programs\\Python\\Python39\\lib\\site-packages\\moviepy\\Clip.py\u001b[0m in \u001b[0;36mget_frame\u001b[1;34m(self, t)\u001b[0m\n\u001b[0;32m     91\u001b[0m                 \u001b[1;32mreturn\u001b[0m \u001b[0mframe\u001b[0m\u001b[1;33m\u001b[0m\u001b[1;33m\u001b[0m\u001b[0m\n\u001b[0;32m     92\u001b[0m         \u001b[1;32melse\u001b[0m\u001b[1;33m:\u001b[0m\u001b[1;33m\u001b[0m\u001b[1;33m\u001b[0m\u001b[0m\n\u001b[1;32m---> 93\u001b[1;33m             \u001b[1;32mreturn\u001b[0m \u001b[0mself\u001b[0m\u001b[1;33m.\u001b[0m\u001b[0mmake_frame\u001b[0m\u001b[1;33m(\u001b[0m\u001b[0mt\u001b[0m\u001b[1;33m)\u001b[0m\u001b[1;33m\u001b[0m\u001b[1;33m\u001b[0m\u001b[0m\n\u001b[0m\u001b[0;32m     94\u001b[0m \u001b[1;33m\u001b[0m\u001b[0m\n\u001b[0;32m     95\u001b[0m     \u001b[1;32mdef\u001b[0m \u001b[0mfl\u001b[0m\u001b[1;33m(\u001b[0m\u001b[0mself\u001b[0m\u001b[1;33m,\u001b[0m \u001b[0mfun\u001b[0m\u001b[1;33m,\u001b[0m \u001b[0mapply_to\u001b[0m\u001b[1;33m=\u001b[0m\u001b[1;32mNone\u001b[0m\u001b[1;33m,\u001b[0m \u001b[0mkeep_duration\u001b[0m\u001b[1;33m=\u001b[0m\u001b[1;32mTrue\u001b[0m\u001b[1;33m)\u001b[0m\u001b[1;33m:\u001b[0m\u001b[1;33m\u001b[0m\u001b[1;33m\u001b[0m\u001b[0m\n",
                        "\u001b[1;32m~\\AppData\\Local\\Programs\\Python\\Python39\\lib\\site-packages\\moviepy\\video\\io\\VideoFileClip.py\u001b[0m in \u001b[0;36m<lambda>\u001b[1;34m(t)\u001b[0m\n\u001b[0;32m    111\u001b[0m         \u001b[1;32melse\u001b[0m\u001b[1;33m:\u001b[0m\u001b[1;33m\u001b[0m\u001b[1;33m\u001b[0m\u001b[0m\n\u001b[0;32m    112\u001b[0m \u001b[1;33m\u001b[0m\u001b[0m\n\u001b[1;32m--> 113\u001b[1;33m             \u001b[0mself\u001b[0m\u001b[1;33m.\u001b[0m\u001b[0mmake_frame\u001b[0m \u001b[1;33m=\u001b[0m \u001b[1;32mlambda\u001b[0m \u001b[0mt\u001b[0m\u001b[1;33m:\u001b[0m \u001b[0mself\u001b[0m\u001b[1;33m.\u001b[0m\u001b[0mreader\u001b[0m\u001b[1;33m.\u001b[0m\u001b[0mget_frame\u001b[0m\u001b[1;33m(\u001b[0m\u001b[0mt\u001b[0m\u001b[1;33m)\u001b[0m\u001b[1;33m\u001b[0m\u001b[1;33m\u001b[0m\u001b[0m\n\u001b[0m\u001b[0;32m    114\u001b[0m \u001b[1;33m\u001b[0m\u001b[0m\n\u001b[0;32m    115\u001b[0m         \u001b[1;31m# Make a reader for the audio, if any.\u001b[0m\u001b[1;33m\u001b[0m\u001b[1;33m\u001b[0m\u001b[1;33m\u001b[0m\u001b[0m\n",
                        "\u001b[1;32m~\\AppData\\Local\\Programs\\Python\\Python39\\lib\\site-packages\\moviepy\\video\\io\\ffmpeg_reader.py\u001b[0m in \u001b[0;36mget_frame\u001b[1;34m(self, t)\u001b[0m\n\u001b[0;32m    181\u001b[0m             \u001b[0mself\u001b[0m\u001b[1;33m.\u001b[0m\u001b[0mpos\u001b[0m \u001b[1;33m=\u001b[0m \u001b[0mpos\u001b[0m\u001b[1;33m\u001b[0m\u001b[1;33m\u001b[0m\u001b[0m\n\u001b[0;32m    182\u001b[0m         \u001b[1;32melse\u001b[0m\u001b[1;33m:\u001b[0m\u001b[1;33m\u001b[0m\u001b[1;33m\u001b[0m\u001b[0m\n\u001b[1;32m--> 183\u001b[1;33m             \u001b[0mself\u001b[0m\u001b[1;33m.\u001b[0m\u001b[0mskip_frames\u001b[0m\u001b[1;33m(\u001b[0m\u001b[0mpos\u001b[0m\u001b[1;33m-\u001b[0m\u001b[0mself\u001b[0m\u001b[1;33m.\u001b[0m\u001b[0mpos\u001b[0m\u001b[1;33m-\u001b[0m\u001b[1;36m1\u001b[0m\u001b[1;33m)\u001b[0m\u001b[1;33m\u001b[0m\u001b[1;33m\u001b[0m\u001b[0m\n\u001b[0m\u001b[0;32m    184\u001b[0m         \u001b[0mresult\u001b[0m \u001b[1;33m=\u001b[0m \u001b[0mself\u001b[0m\u001b[1;33m.\u001b[0m\u001b[0mread_frame\u001b[0m\u001b[1;33m(\u001b[0m\u001b[1;33m)\u001b[0m\u001b[1;33m\u001b[0m\u001b[1;33m\u001b[0m\u001b[0m\n\u001b[0;32m    185\u001b[0m         \u001b[0mself\u001b[0m\u001b[1;33m.\u001b[0m\u001b[0mpos\u001b[0m \u001b[1;33m=\u001b[0m \u001b[0mpos\u001b[0m\u001b[1;33m\u001b[0m\u001b[1;33m\u001b[0m\u001b[0m\n",
                        "\u001b[1;32m~\\AppData\\Local\\Programs\\Python\\Python39\\lib\\site-packages\\moviepy\\video\\io\\ffmpeg_reader.py\u001b[0m in \u001b[0;36mskip_frames\u001b[1;34m(self, n)\u001b[0m\n\u001b[0;32m    109\u001b[0m         \u001b[0mw\u001b[0m\u001b[1;33m,\u001b[0m \u001b[0mh\u001b[0m \u001b[1;33m=\u001b[0m \u001b[0mself\u001b[0m\u001b[1;33m.\u001b[0m\u001b[0msize\u001b[0m\u001b[1;33m\u001b[0m\u001b[1;33m\u001b[0m\u001b[0m\n\u001b[0;32m    110\u001b[0m         \u001b[1;32mfor\u001b[0m \u001b[0mi\u001b[0m \u001b[1;32min\u001b[0m \u001b[0mrange\u001b[0m\u001b[1;33m(\u001b[0m\u001b[0mn\u001b[0m\u001b[1;33m)\u001b[0m\u001b[1;33m:\u001b[0m\u001b[1;33m\u001b[0m\u001b[1;33m\u001b[0m\u001b[0m\n\u001b[1;32m--> 111\u001b[1;33m             \u001b[0mself\u001b[0m\u001b[1;33m.\u001b[0m\u001b[0mproc\u001b[0m\u001b[1;33m.\u001b[0m\u001b[0mstdout\u001b[0m\u001b[1;33m.\u001b[0m\u001b[0mread\u001b[0m\u001b[1;33m(\u001b[0m\u001b[0mself\u001b[0m\u001b[1;33m.\u001b[0m\u001b[0mdepth\u001b[0m\u001b[1;33m*\u001b[0m\u001b[0mw\u001b[0m\u001b[1;33m*\u001b[0m\u001b[0mh\u001b[0m\u001b[1;33m)\u001b[0m\u001b[1;33m\u001b[0m\u001b[1;33m\u001b[0m\u001b[0m\n\u001b[0m\u001b[0;32m    112\u001b[0m             \u001b[1;31m#self.proc.stdout.flush()\u001b[0m\u001b[1;33m\u001b[0m\u001b[1;33m\u001b[0m\u001b[1;33m\u001b[0m\u001b[0m\n\u001b[0;32m    113\u001b[0m         \u001b[0mself\u001b[0m\u001b[1;33m.\u001b[0m\u001b[0mpos\u001b[0m \u001b[1;33m+=\u001b[0m \u001b[0mn\u001b[0m\u001b[1;33m\u001b[0m\u001b[1;33m\u001b[0m\u001b[0m\n",
                        "\u001b[1;31mKeyboardInterrupt\u001b[0m: "
                    ]
                }
            ],
            "metadata": {}
        }
    ],
    "metadata": {
        "orig_nbformat": 4,
        "language_info": {
            "name": "python",
            "version": "3.9.6",
            "mimetype": "text/x-python",
            "codemirror_mode": {
                "name": "ipython",
                "version": 3
            },
            "pygments_lexer": "ipython3",
            "nbconvert_exporter": "python",
            "file_extension": ".py"
        },
        "kernelspec": {
            "name": "python3",
            "display_name": "Python 3.9.6 64-bit"
        },
        "interpreter": {
            "hash": "6964edc1e3482d1b27b6dc7e7a24c0dafb20203c4f1f42e5c7f21e1f51fabd5a"
        }
    },
    "nbformat": 4,
    "nbformat_minor": 2
}
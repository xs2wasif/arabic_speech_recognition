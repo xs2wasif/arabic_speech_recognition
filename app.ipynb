{
 "cells": [
  {
   "cell_type": "code",
   "execution_count": 1,
   "source": [
    "import pandas as pd\r\n",
    "import xlsxwriter\r\n",
    "import os "
   ],
   "outputs": [],
   "metadata": {}
  },
  {
   "cell_type": "code",
   "execution_count": 2,
   "source": [
    "os.chdir(path=r\"D:/batch_sample_2/\")\r\n",
    "\r\n",
    "for f in sorted(os.listdir(os.getcwd())):\r\n",
    "    dialect = f[:-9]\r\n",
    "    \r\n",
    "    in_path_segment = r\"D:/batch_sample_2/{}_segments/{}_segments.csv\".format(dialect,dialect)\r\n",
    "    in_path_details = r\"D:/batch_sample_2/{}_segments/{}_details.csv\".format(dialect,dialect)\r\n",
    "    out_file = r\"D:/batch_sample_2/{}_segments/{}_segments.xlsx\".format(dialect,dialect)\r\n",
    "\r\n",
    "    df_segment = pd.read_csv(in_path_segment)\r\n",
    "    df_details = pd.read_csv(in_path_details)\r\n",
    "\r\n",
    "    writer = pd.ExcelWriter(out_file, engine='xlsxwriter')\r\n",
    "    df_segment.to_excel(writer, sheet_name='segments', index=False)\r\n",
    "    df_details.to_excel(writer, sheet_name='details', index=False)\r\n",
    "    writer.save()\r\n",
    "\r\n",
    "    os.remove(in_path_segment)\r\n",
    "    os.remove(in_path_details)\r\n",
    "    "
   ],
   "outputs": [],
   "metadata": {}
  },
  {
   "cell_type": "code",
   "execution_count": null,
   "source": [
    "\r\n"
   ],
   "outputs": [],
   "metadata": {}
  }
 ],
 "metadata": {
  "orig_nbformat": 4,
  "language_info": {
   "name": "python",
   "version": "3.9.6",
   "mimetype": "text/x-python",
   "codemirror_mode": {
    "name": "ipython",
    "version": 3
   },
   "pygments_lexer": "ipython3",
   "nbconvert_exporter": "python",
   "file_extension": ".py"
  },
  "kernelspec": {
   "name": "python3",
   "display_name": "Python 3.9.6 64-bit"
  },
  "interpreter": {
   "hash": "6964edc1e3482d1b27b6dc7e7a24c0dafb20203c4f1f42e5c7f21e1f51fabd5a"
  }
 },
 "nbformat": 4,
 "nbformat_minor": 2
}
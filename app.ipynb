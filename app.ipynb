{
 "cells": [
  {
   "cell_type": "code",
   "execution_count": 77,
   "source": [
    "import pandas as pd\r\n",
    "\r\n",
    "os.chdir(path=r\"D:/batch_sp_2/\")\r\n",
    "print(\"Current Working Directory \" , os.getcwd())"
   ],
   "outputs": [
    {
     "output_type": "stream",
     "name": "stdout",
     "text": [
      "Current Working Directory  D:\\batch_sp_2\n"
     ]
    }
   ],
   "metadata": {}
  },
  {
   "cell_type": "code",
   "execution_count": 79,
   "source": [
    "dialect = '37_degrees_series_segments'\r\n",
    "dataset_path = r\"D:/batch_sp_2/{}_segments/\".format(dialect)\r\n",
    "df = pd.read_csv(dataset_path)\r\n",
    "df.head(3)"
   ],
   "outputs": [
    {
     "output_type": "execute_result",
     "data": {
      "text/plain": [
       "                                        segment path  \\\n",
       "0  D:/batch_sample_2/37_degrees_series_segments//...   \n",
       "1  D:/batch_sample_2/37_degrees_series_segments//...   \n",
       "2  D:/batch_sample_2/37_degrees_series_segments//...   \n",
       "\n",
       "                                          transcript  \n",
       "0  ااا نظرية اا عبدالله النسبية بعد أسبوع الجزء ا...  \n",
       "1  قلمي ماخذة قلمي يا نوف قلمي اللي جاني هدية تاخ...  \n",
       "2                  طب أنا ما ما قد خيطت جرح قبل كدا.  "
      ],
      "text/html": [
       "<div>\n",
       "<style scoped>\n",
       "    .dataframe tbody tr th:only-of-type {\n",
       "        vertical-align: middle;\n",
       "    }\n",
       "\n",
       "    .dataframe tbody tr th {\n",
       "        vertical-align: top;\n",
       "    }\n",
       "\n",
       "    .dataframe thead th {\n",
       "        text-align: right;\n",
       "    }\n",
       "</style>\n",
       "<table border=\"1\" class=\"dataframe\">\n",
       "  <thead>\n",
       "    <tr style=\"text-align: right;\">\n",
       "      <th></th>\n",
       "      <th>segment path</th>\n",
       "      <th>transcript</th>\n",
       "    </tr>\n",
       "  </thead>\n",
       "  <tbody>\n",
       "    <tr>\n",
       "      <th>0</th>\n",
       "      <td>D:/batch_sample_2/37_degrees_series_segments//...</td>\n",
       "      <td>ااا نظرية اا عبدالله النسبية بعد أسبوع الجزء ا...</td>\n",
       "    </tr>\n",
       "    <tr>\n",
       "      <th>1</th>\n",
       "      <td>D:/batch_sample_2/37_degrees_series_segments//...</td>\n",
       "      <td>قلمي ماخذة قلمي يا نوف قلمي اللي جاني هدية تاخ...</td>\n",
       "    </tr>\n",
       "    <tr>\n",
       "      <th>2</th>\n",
       "      <td>D:/batch_sample_2/37_degrees_series_segments//...</td>\n",
       "      <td>طب أنا ما ما قد خيطت جرح قبل كدا.</td>\n",
       "    </tr>\n",
       "  </tbody>\n",
       "</table>\n",
       "</div>"
      ]
     },
     "metadata": {},
     "execution_count": 79
    }
   ],
   "metadata": {}
  }
 ],
 "metadata": {
  "orig_nbformat": 4,
  "language_info": {
   "name": "python",
   "version": "3.9.6",
   "mimetype": "text/x-python",
   "codemirror_mode": {
    "name": "ipython",
    "version": 3
   },
   "pygments_lexer": "ipython3",
   "nbconvert_exporter": "python",
   "file_extension": ".py"
  },
  "kernelspec": {
   "name": "python3",
   "display_name": "Python 3.9.6 64-bit"
  },
  "interpreter": {
   "hash": "6964edc1e3482d1b27b6dc7e7a24c0dafb20203c4f1f42e5c7f21e1f51fabd5a"
  }
 },
 "nbformat": 4,
 "nbformat_minor": 2
}
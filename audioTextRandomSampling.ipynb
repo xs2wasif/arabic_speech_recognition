{
    "cells": [
        {
            "cell_type": "code",
            "execution_count": 6,
            "source": [
                "import os, shutil\r\n",
                "import fileinput as fi\r\n",
                "import glob\r\n",
                "import moviepy.editor as mp\r\n",
                "import pandas as pd\r\n",
                "import random\r\n",
                "import time\r\n",
                "\r\n",
                "from pydub import AudioSegment\r\n",
                "\r\n",
                "from multiprocessing import Pool\r\n",
                "from multiprocessing.dummy import Pool as ThreadPool\r\n",
                "from itertools import product\r\n",
                "\r\n",
                "\r\n",
                "os.chdir(path=r\"D:\\02_batch_2\")\r\n",
                "print(\"Current Working Directory \" , os.getcwd())\r\n",
                "\r\n",
                "df_dirname = []\r\n",
                "for folder in sorted(os.listdir(os.getcwd())):\r\n",
                "    df_dirname.append((folder))\r\n",
                "\r\n",
                "df_dirname = pd.DataFrame(df_dirname, columns=['Folder'])\r\n",
                "df_dirname.sort_values(by='Folder',inplace=True)"
            ],
            "outputs": [
                {
                    "output_type": "stream",
                    "name": "stdout",
                    "text": [
                        "Current Working Directory  D:\\02_batch_2\n"
                    ]
                }
            ],
            "metadata": {}
        },
        {
            "cell_type": "markdown",
            "source": [
                "### Arabic Annotation collection"
            ],
            "metadata": {}
        },
        {
            "cell_type": "code",
            "execution_count": 2,
            "source": [
                "li = []\r\n",
                "path = r'D:/02_batch_2/'\r\n",
                "\r\n",
                "for i,dname in enumerate(df_dirname['Folder']):\r\n",
                "\r\n",
                "    files = glob.glob(path + dname + '/*.txt')\r\n",
                "    #print(f'Successfully created dataframe for {dname}')\r\n",
                "    for i,f in enumerate(files):\r\n",
                "\r\n",
                "        parse_error = False\r\n",
                "        file_not_found = False\r\n",
                "\r\n",
                "        stock = os.path.basename(f)            \r\n",
                "        temp_df = pd.read_csv(f, delimiter=\"\\t\", error_bad_lines=False)\r\n",
                "        temp_df['filePath'] = path + dname + '/'\r\n",
                "        temp_df['textFileName'] = stock     \r\n",
                "        temp_df['audioFileName'] = temp_df['textFileName'].replace('.txt', '.wav', regex=True)\r\n",
                "        temp_df['duration'] = temp_df.stop-temp_df.start\r\n",
                "        li.append(temp_df)\r\n",
                "      #  print(f'Successfully created dataframe for {stock} with shape {temp_df.shape}')\r\n",
                "\r\n",
                "df = pd.concat(li, axis=0)\r\n",
                "print(df.shape)\r\n",
                "df.head(2)"
            ],
            "outputs": [
                {
                    "output_type": "stream",
                    "name": "stderr",
                    "text": [
                        "b'Skipping line 18: expected 5 fields, saw 7\\n'\n",
                        "b'Skipping line 12: expected 5 fields, saw 6\\n'\n",
                        "b'Skipping line 5: expected 5 fields, saw 8\\n'\n"
                    ]
                },
                {
                    "output_type": "stream",
                    "name": "stdout",
                    "text": [
                        "(507921, 9)\n"
                    ]
                },
                {
                    "output_type": "execute_result",
                    "data": {
                        "text/plain": [
                            "   speaker gender      start       stop  \\\n",
                            "0  speakeA      M   8.998978  23.522329   \n",
                            "1  speakeA      M  23.522329  25.772074   \n",
                            "\n",
                            "                                          transcript  \\\n",
                            "0  الحقوني الحقوني بطني بطني بموت  ما أقدر الحقون...   \n",
                            "1                             أضحك عليكو بس أختبركو.   \n",
                            "\n",
                            "                           filePath               textFileName  \\\n",
                            "0  D:/02_batch_2/37_degrees_series/  37_degrees_series_0-0.txt   \n",
                            "1  D:/02_batch_2/37_degrees_series/  37_degrees_series_0-0.txt   \n",
                            "\n",
                            "               audioFileName   duration  \n",
                            "0  37_degrees_series_0-0.wav  14.523351  \n",
                            "1  37_degrees_series_0-0.wav   2.249745  "
                        ],
                        "text/html": [
                            "<div>\n",
                            "<style scoped>\n",
                            "    .dataframe tbody tr th:only-of-type {\n",
                            "        vertical-align: middle;\n",
                            "    }\n",
                            "\n",
                            "    .dataframe tbody tr th {\n",
                            "        vertical-align: top;\n",
                            "    }\n",
                            "\n",
                            "    .dataframe thead th {\n",
                            "        text-align: right;\n",
                            "    }\n",
                            "</style>\n",
                            "<table border=\"1\" class=\"dataframe\">\n",
                            "  <thead>\n",
                            "    <tr style=\"text-align: right;\">\n",
                            "      <th></th>\n",
                            "      <th>speaker</th>\n",
                            "      <th>gender</th>\n",
                            "      <th>start</th>\n",
                            "      <th>stop</th>\n",
                            "      <th>transcript</th>\n",
                            "      <th>filePath</th>\n",
                            "      <th>textFileName</th>\n",
                            "      <th>audioFileName</th>\n",
                            "      <th>duration</th>\n",
                            "    </tr>\n",
                            "  </thead>\n",
                            "  <tbody>\n",
                            "    <tr>\n",
                            "      <th>0</th>\n",
                            "      <td>speakeA</td>\n",
                            "      <td>M</td>\n",
                            "      <td>8.998978</td>\n",
                            "      <td>23.522329</td>\n",
                            "      <td>الحقوني الحقوني بطني بطني بموت  ما أقدر الحقون...</td>\n",
                            "      <td>D:/02_batch_2/37_degrees_series/</td>\n",
                            "      <td>37_degrees_series_0-0.txt</td>\n",
                            "      <td>37_degrees_series_0-0.wav</td>\n",
                            "      <td>14.523351</td>\n",
                            "    </tr>\n",
                            "    <tr>\n",
                            "      <th>1</th>\n",
                            "      <td>speakeA</td>\n",
                            "      <td>M</td>\n",
                            "      <td>23.522329</td>\n",
                            "      <td>25.772074</td>\n",
                            "      <td>أضحك عليكو بس أختبركو.</td>\n",
                            "      <td>D:/02_batch_2/37_degrees_series/</td>\n",
                            "      <td>37_degrees_series_0-0.txt</td>\n",
                            "      <td>37_degrees_series_0-0.wav</td>\n",
                            "      <td>2.249745</td>\n",
                            "    </tr>\n",
                            "  </tbody>\n",
                            "</table>\n",
                            "</div>"
                        ]
                    },
                    "metadata": {},
                    "execution_count": 2
                }
            ],
            "metadata": {}
        },
        {
            "cell_type": "code",
            "execution_count": null,
            "source": [
                "files = []\r\n",
                "sumDuration = 0.0\r\n",
                "n = random.randint(0,len(df)-1)\r\n",
                "\r\n",
                "fname = str(df.iloc[n,5] + df.iloc[n,7])\r\n",
                "sumDuration = sumDuration + df.iloc[n,8].astype('float32')\r\n",
                "\r\n",
                "split_audio(fname,df.iloc[n,2],df.iloc[n,3],)\r\n",
                "\r\n",
                "print(fname)"
            ],
            "outputs": [],
            "metadata": {}
        },
        {
            "cell_type": "markdown",
            "source": [
                "# AUXILLIARY CODE"
            ],
            "metadata": {}
        },
        {
            "cell_type": "markdown",
            "source": [
                "### Video Clipping"
            ],
            "metadata": {}
        },
        {
            "cell_type": "code",
            "execution_count": null,
            "source": [
                "hours = 180000;\r\n",
                "duration_sum = 0;\r\n",
                "x=0;\r\n",
                "dest_filepath = r'D:/nf/audio/'\r\n",
                "\r\n",
                "df_selection = pd.DataFrame(\r\n",
                "    columns=['row_no','src_filepath','src_filepath_txt','src_filepath_wav','dest_filepath','dest_filepath_txt','dest_filepath_wav','duration','start','end']\r\n",
                "    )\r\n",
                "\r\n",
                "while (hours>=duration_sum):\r\n",
                "    \r\n",
                "    n = random.randint(0,len(df))\r\n",
                "    fname = str(df.iloc[n,5] + df.iloc[n,7])\r\n",
                "    duration_sum = duration_sum + df.iloc[n,8].astype('float32')\r\n",
                "\r\n",
                "    df_selection[x,0] = n\r\n",
                "    df_selection[x,1] = str(df.iloc[n,5])\r\n",
                "    df_selection[x,2] = str(df.iloc[n,6])\r\n",
                "    df_selection[x,3] = str(df.iloc[n,7])\r\n",
                "    df_selection[x,4] = dest_filepath\r\n",
                "    df_selection[x,5] = str(x) + \"_\" + str(df.iloc[n,6])\r\n",
                "    df_selection[x,6] = str(x) + \"_\" + str(df.iloc[n,7])\r\n",
                "    df_selection[x,7] = df.iloc[n,8].astype('float32')\r\n",
                "    df_selection[x,8] = df.iloc[n,2].astype('float32')\r\n",
                "    df_selection[x,9] = df.iloc[n,3].astype('float32')\r\n",
                "\r\n",
                "    x=x+1  \r\n",
                "    start = time.time()\r\n",
                "    my_clip = AudioSegment.from_wav(fname)  \r\n",
                "    my_clip = new_audio[df.iloc[n,2]:df.iloc[n,3]]    \r\n",
                "    my_clip\r\n",
                "    \r\n",
                "    #clip = my_clip.subclip(df.iloc[n,2],df.iloc[n,3])\r\n",
                "    clip.write_audiofile(dest_filepath + str(x) + \"_\"+ str(df.iloc[n,7]) +\".mp3\")\r\n",
                "    #time.sleep(1)\r\n",
                "    end = time.time()    \r\n",
                "\r\n",
                "    print(duration_sum)\r\n",
                "    print(f\"Runtime of the program is {end - start}\")\r\n",
                "    # clip.write_audiofile(dest_filepath + df_selection[x,6])\r\n",
                "\r\n",
                "\r\n",
                "df_selection.head(4) "
            ],
            "outputs": [],
            "metadata": {}
        },
        {
            "cell_type": "code",
            "execution_count": 7,
            "source": [
                "def random_selection(outPath,hours):\r\n",
                "    \r\n",
                "    x = 0\r\n",
                "    duration_sum = 0\r\n",
                "\r\n",
                "\r\n",
                "    df_selection = pd.DataFrame(\r\n",
                "        columns=['row_no','src_filepath','src_filepath_txt','src_filepath_wav','dest_filepath','dest_filepath_txt','dest_filepath_wav','duration','start','end']\r\n",
                "    )\r\n",
                "\r\n",
                "    while (hours>=duration_sum):\r\n",
                "        \r\n",
                "        n = random.randint(0,len(df))\r\n",
                "        fname = str(df.iloc[n,5] + df.iloc[n,7])\r\n",
                "        duration_sum = duration_sum + df.iloc[n,8].astype('float32')\r\n",
                "\r\n",
                "        df_selection[x,0] = n\r\n",
                "        df_selection[x,1] = str(df.iloc[n,5])\r\n",
                "        df_selection[x,2] = str(df.iloc[n,6])\r\n",
                "        df_selection[x,3] = str(df.iloc[n,7])\r\n",
                "        df_selection[x,4] = outPath\r\n",
                "        df_selection[x,5] = str(x) + \"_\" + str(df.iloc[n,6])\r\n",
                "        df_selection[x,6] = str(x) + \"_\" + str(df.iloc[n,7])\r\n",
                "        df_selection[x,7] = df.iloc[n,8].astype('float32')\r\n",
                "        df_selection[x,8] = df.iloc[n,2].astype('float32')\r\n",
                "        df_selection[x,9] = df.iloc[n,3].astype('float32')\r\n",
                "\r\n",
                "        x=x+1  \r\n",
                "        start = time.time()\r\n",
                "        my_clip = mp.AudioFileClip(fname)    \r\n",
                "        \r\n",
                "        clip = my_clip.subclip(df.iloc[n,2],df.iloc[n,3])\r\n",
                "        clip.write_audiofile(outPath + str(x) + \"_\"+ str(df.iloc[n,7]) +\".mp3\")\r\n",
                "        #time.sleep(1)\r\n",
                "        end = time.time()\r\n",
                "        \r\n",
                "\r\n",
                "        print(duration_sum)\r\n",
                "        print(f\"Runtime of the program is {end - start}\")\r\n",
                "        # clip.write_audiofile(dest_filepath + df_selection[x,6])\r\n",
                "\r\n",
                "    return df_selection\r\n",
                "\r\n",
                "\r\n"
            ],
            "outputs": [],
            "metadata": {}
        },
        {
            "cell_type": "code",
            "execution_count": null,
            "source": [
                "df_selection = random_selection(r'D:/nf/audio/',180000.00)"
            ],
            "outputs": [],
            "metadata": {}
        },
        {
            "cell_type": "markdown",
            "source": [
                "### Directory Structure"
            ],
            "metadata": {}
        },
        {
            "cell_type": "code",
            "execution_count": null,
            "source": [
                "def list_files(startpath):\r\n",
                "    for root, dirs, files in os.walk(startpath):\r\n",
                "        level = root.replace(startpath, '').count(os.sep)\r\n",
                "        indent = ' ' * 4 * (level)\r\n",
                "        print('{}{}/'.format(indent, os.path.basename(root)))\r\n",
                "        subindent = ' ' * 4 * (level + 1)\r\n",
                "        for f in files:\r\n",
                "            print('{}{}'.format(subindent, f))\r\n",
                "\r\n"
            ],
            "outputs": [],
            "metadata": {}
        },
        {
            "cell_type": "code",
            "execution_count": null,
            "source": [
                "list_files(r\"D:\\02_batch_2\")"
            ],
            "outputs": [],
            "metadata": {}
        }
    ],
    "metadata": {
        "orig_nbformat": 4,
        "language_info": {
            "name": "python",
            "version": "3.9.6",
            "mimetype": "text/x-python",
            "codemirror_mode": {
                "name": "ipython",
                "version": 3
            },
            "pygments_lexer": "ipython3",
            "nbconvert_exporter": "python",
            "file_extension": ".py"
        },
        "kernelspec": {
            "name": "python3",
            "display_name": "Python 3.9.6 64-bit"
        },
        "interpreter": {
            "hash": "6964edc1e3482d1b27b6dc7e7a24c0dafb20203c4f1f42e5c7f21e1f51fabd5a"
        }
    },
    "nbformat": 4,
    "nbformat_minor": 2
}
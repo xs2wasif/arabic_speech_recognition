{
    "cells": [
        {
            "cell_type": "code",
            "execution_count": 70,
            "source": [
                "import os\r\n",
                "import fileinput as fi\r\n",
                "import glob\r\n",
                "import moviepy.editor as mp\r\n",
                "\r\n",
                "os.chdir(path=r\"D:\\02_batch_2\")\r\n",
                "print(\"Current Working Directory \" , os.getcwd())\r\n"
            ],
            "outputs": [
                {
                    "output_type": "stream",
                    "name": "stdout",
                    "text": [
                        "Current Working Directory  D:\\02_batch_2\n"
                    ]
                }
            ],
            "metadata": {}
        },
        {
            "cell_type": "markdown",
            "source": [
                "### Arabic Annotation collection"
            ],
            "metadata": {}
        },
        {
            "cell_type": "code",
            "execution_count": 63,
            "source": [
                "import pandas as pd\r\n",
                "import glob\r\n",
                "\r\n",
                "# set search path and glob for files\r\n",
                "# here we want to look for csv files in the input directory\r\n",
                "path = r'D:\\02_batch_2\\37_degrees_series'\r\n",
                "files = glob.glob(path + '/*.txt')\r\n",
                "\r\n",
                "# create empty list to store dataframes\r\n",
                "li = []\r\n",
                "\r\n",
                "# loop through list of files and read each one into a dataframe and append to list\r\n",
                "for i,f in enumerate(files):\r\n",
                "    # get filename\r\n",
                "    stock = os.path.basename(f)\r\n",
                "    # read in csv\r\n",
                "    temp_df = pd.read_csv(f, delimiter=\"\\t\")\r\n",
                "    # create new column with filename\r\n",
                "    temp_df['ticker'] = stock\r\n",
                "    # data cleaning to remove the .csv\r\n",
                "    temp_df['ticker'] = temp_df['ticker'].replace('.txt', '.wav', regex=True)\r\n",
                "    # append df to list\r\n",
                "    li.append(temp_df)\r\n",
                "    #print(f'Successfully created dataframe for {stock} with shape {temp_df.shape}')\r\n",
                "\r\n",
                "print(i)\r\n",
                "# concatenate our list of dataframes into one!\r\n",
                "df = pd.concat(li, axis=0)\r\n",
                "print(df.shape)\r\n",
                "df.head()"
            ],
            "outputs": [
                {
                    "output_type": "stream",
                    "name": "stdout",
                    "text": [
                        "160\n",
                        "(7881, 6)\n"
                    ]
                },
                {
                    "output_type": "execute_result",
                    "data": {
                        "text/plain": [
                            "   speaker gender       start        stop  \\\n",
                            "0  speakeA      M    8.998978   23.522329   \n",
                            "1  speakeA      M   23.522329   25.772074   \n",
                            "2  speakeB      M   33.546191   38.020683   \n",
                            "3  speakeC      M   44.969894   47.319628   \n",
                            "4  speakeD      F  130.785151  142.733795   \n",
                            "\n",
                            "                                          transcript  \\\n",
                            "0  الحقوني الحقوني بطني بطني بموت  ما أقدر الحقون...   \n",
                            "1                             أضحك عليكو بس أختبركو.   \n",
                            "2                 اختبار ها تمزح معي ها تمزح معي ها.   \n",
                            "3                    استغفر الله العظيم إيش فيه هنا؟   \n",
                            "4  أعزائي المشاهدين هالطبق اللي بدنا نسويه ااا مش...   \n",
                            "\n",
                            "                      ticker  \n",
                            "0  37_degrees_series_0-0.wav  \n",
                            "1  37_degrees_series_0-0.wav  \n",
                            "2  37_degrees_series_0-0.wav  \n",
                            "3  37_degrees_series_0-0.wav  \n",
                            "4  37_degrees_series_0-0.wav  "
                        ],
                        "text/html": [
                            "<div>\n",
                            "<style scoped>\n",
                            "    .dataframe tbody tr th:only-of-type {\n",
                            "        vertical-align: middle;\n",
                            "    }\n",
                            "\n",
                            "    .dataframe tbody tr th {\n",
                            "        vertical-align: top;\n",
                            "    }\n",
                            "\n",
                            "    .dataframe thead th {\n",
                            "        text-align: right;\n",
                            "    }\n",
                            "</style>\n",
                            "<table border=\"1\" class=\"dataframe\">\n",
                            "  <thead>\n",
                            "    <tr style=\"text-align: right;\">\n",
                            "      <th></th>\n",
                            "      <th>speaker</th>\n",
                            "      <th>gender</th>\n",
                            "      <th>start</th>\n",
                            "      <th>stop</th>\n",
                            "      <th>transcript</th>\n",
                            "      <th>ticker</th>\n",
                            "    </tr>\n",
                            "  </thead>\n",
                            "  <tbody>\n",
                            "    <tr>\n",
                            "      <th>0</th>\n",
                            "      <td>speakeA</td>\n",
                            "      <td>M</td>\n",
                            "      <td>8.998978</td>\n",
                            "      <td>23.522329</td>\n",
                            "      <td>الحقوني الحقوني بطني بطني بموت  ما أقدر الحقون...</td>\n",
                            "      <td>37_degrees_series_0-0.wav</td>\n",
                            "    </tr>\n",
                            "    <tr>\n",
                            "      <th>1</th>\n",
                            "      <td>speakeA</td>\n",
                            "      <td>M</td>\n",
                            "      <td>23.522329</td>\n",
                            "      <td>25.772074</td>\n",
                            "      <td>أضحك عليكو بس أختبركو.</td>\n",
                            "      <td>37_degrees_series_0-0.wav</td>\n",
                            "    </tr>\n",
                            "    <tr>\n",
                            "      <th>2</th>\n",
                            "      <td>speakeB</td>\n",
                            "      <td>M</td>\n",
                            "      <td>33.546191</td>\n",
                            "      <td>38.020683</td>\n",
                            "      <td>اختبار ها تمزح معي ها تمزح معي ها.</td>\n",
                            "      <td>37_degrees_series_0-0.wav</td>\n",
                            "    </tr>\n",
                            "    <tr>\n",
                            "      <th>3</th>\n",
                            "      <td>speakeC</td>\n",
                            "      <td>M</td>\n",
                            "      <td>44.969894</td>\n",
                            "      <td>47.319628</td>\n",
                            "      <td>استغفر الله العظيم إيش فيه هنا؟</td>\n",
                            "      <td>37_degrees_series_0-0.wav</td>\n",
                            "    </tr>\n",
                            "    <tr>\n",
                            "      <th>4</th>\n",
                            "      <td>speakeD</td>\n",
                            "      <td>F</td>\n",
                            "      <td>130.785151</td>\n",
                            "      <td>142.733795</td>\n",
                            "      <td>أعزائي المشاهدين هالطبق اللي بدنا نسويه ااا مش...</td>\n",
                            "      <td>37_degrees_series_0-0.wav</td>\n",
                            "    </tr>\n",
                            "  </tbody>\n",
                            "</table>\n",
                            "</div>"
                        ]
                    },
                    "metadata": {},
                    "execution_count": 63
                }
            ],
            "metadata": {}
        },
        {
            "cell_type": "markdown",
            "source": [
                "### Video Clipping"
            ],
            "metadata": {}
        },
        {
            "cell_type": "code",
            "execution_count": 78,
            "source": [
                "temp = df.iloc[0,5]\r\n",
                "my_clip = mp.AudioFileClip(os.path.join(path, temp))\r\n",
                "clip = my_clip.subclip(df.iloc[0,2],df.iloc[0,3])\r\n",
                "clip.write_audiofile(r\"D:\\nf\\audio\\temp.mp3\")\r\n",
                "\r\n"
            ],
            "outputs": [
                {
                    "output_type": "stream",
                    "name": "stdout",
                    "text": [
                        "MoviePy - Writing audio in D:\\nf\\audio\\temp.mp3\n"
                    ]
                },
                {
                    "output_type": "stream",
                    "name": "stderr",
                    "text": [
                        "                                                                   "
                    ]
                },
                {
                    "output_type": "stream",
                    "name": "stdout",
                    "text": [
                        "MoviePy - Done.\n"
                    ]
                },
                {
                    "output_type": "stream",
                    "name": "stderr",
                    "text": []
                }
            ],
            "metadata": {}
        },
        {
            "cell_type": "code",
            "execution_count": null,
            "source": [],
            "outputs": [],
            "metadata": {}
        },
        {
            "cell_type": "code",
            "execution_count": null,
            "source": [],
            "outputs": [],
            "metadata": {}
        },
        {
            "cell_type": "code",
            "execution_count": null,
            "source": [],
            "outputs": [],
            "metadata": {}
        },
        {
            "cell_type": "markdown",
            "source": [
                "#### Directory Structure"
            ],
            "metadata": {}
        },
        {
            "cell_type": "code",
            "execution_count": null,
            "source": [
                "def list_files(startpath):\r\n",
                "    for root, dirs, files in os.walk(startpath):\r\n",
                "        level = root.replace(startpath, '').count(os.sep)\r\n",
                "        indent = ' ' * 4 * (level)\r\n",
                "        print('{}{}/'.format(indent, os.path.basename(root)))\r\n",
                "        subindent = ' ' * 4 * (level + 1)\r\n",
                "        for f in files:\r\n",
                "            print('{}{}'.format(subindent, f))\r\n",
                "\r\n"
            ],
            "outputs": [],
            "metadata": {}
        },
        {
            "cell_type": "code",
            "execution_count": null,
            "source": [
                "list_files(r\"D:\\02_batch_2\")"
            ],
            "outputs": [],
            "metadata": {}
        }
    ],
    "metadata": {
        "orig_nbformat": 4,
        "language_info": {
            "name": "python",
            "version": "3.9.6",
            "mimetype": "text/x-python",
            "codemirror_mode": {
                "name": "ipython",
                "version": 3
            },
            "pygments_lexer": "ipython3",
            "nbconvert_exporter": "python",
            "file_extension": ".py"
        },
        "kernelspec": {
            "name": "python3",
            "display_name": "Python 3.9.6 64-bit"
        },
        "interpreter": {
            "hash": "6964edc1e3482d1b27b6dc7e7a24c0dafb20203c4f1f42e5c7f21e1f51fabd5a"
        }
    },
    "nbformat": 4,
    "nbformat_minor": 2
}
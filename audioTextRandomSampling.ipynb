{
    "cells": [
        {
            "cell_type": "code",
            "execution_count": 1,
            "source": [
                "import os\r\n",
                "import fileinput as fi\r\n",
                "import glob\r\n",
                "import moviepy.editor as mp\r\n",
                "import pandas as pd\r\n",
                "import random\r\n",
                "import time\r\n",
                "\r\n",
                "\r\n",
                "os.chdir(path=r\"D:\\02_batch_2\")\r\n",
                "print(\"Current Working Directory \" , os.getcwd())\r\n"
            ],
            "outputs": [
                {
                    "output_type": "stream",
                    "name": "stdout",
                    "text": [
                        "Current Working Directory  D:\\02_batch_2\n"
                    ]
                }
            ],
            "metadata": {}
        },
        {
            "cell_type": "markdown",
            "source": [
                "### Arabic Annotation collection"
            ],
            "metadata": {}
        },
        {
            "cell_type": "code",
            "execution_count": 2,
            "source": [
                "df_dirname = []\r\n",
                "for folder in sorted(os.listdir(os.getcwd())):\r\n",
                "    df_dirname.append((folder))\r\n",
                "\r\n",
                "df_dirname = pd.DataFrame(df_dirname, columns=['Folder'])\r\n",
                "df_dirname.sort_values(by='Folder',inplace=True)"
            ],
            "outputs": [],
            "metadata": {}
        },
        {
            "cell_type": "markdown",
            "source": [
                "li = []\r\n",
                "\r\n",
                "try:\r\n",
                "\r\n",
                "    for i,dname in enumerate(df_dirname['Folder']):\r\n",
                "        path = r'D:/02_batch_2/'\r\n",
                "        files = glob.glob(path + dname + '/*.txt')\r\n",
                "        print(f'Successfully created dataframe for {dname}')\r\n",
                "        for i,f in enumerate(files):\r\n",
                "\r\n",
                "            parse_error = False\r\n",
                "            file_not_found = False\r\n",
                "\r\n",
                "            stock = os.path.basename(f)            \r\n",
                "            temp_df = pd.read_csv(f, delimiter=\"\\t\", error_bad_lines=False)\r\n",
                "            temp_df['filePath'] = path + dname + '/'\r\n",
                "            temp_df['textFileName'] = stock     \r\n",
                "            temp_df['audioFileName'] = temp_df['textFileName'].replace('.txt', '.wav', regex=True)\r\n",
                "            temp_df['duration'] = temp_df.stop-temp_df.start\r\n",
                "            li.append(temp_df)\r\n",
                "            print(f'Successfully created dataframe for {stock} with shape {temp_df.shape}')\r\n",
                "\r\n",
                "except pd.errors.ParserError:\r\n",
                "    parse_error = True\r\n",
                "    temp_df = pd.read_csv(f, delimiter=\"\\t\",skiprows=4)\r\n",
                "    li.append(temp_df)\r\n",
                "    print(f'Error for {dname} {stock} with shape {temp_df.shape}')\r\n",
                "\r\n",
                "else:\r\n",
                "    li.append(temp_df)\r\n",
                "\r\n",
                "\r\n",
                "df = pd.concat(li, axis=0)\r\n",
                "print(df.shape)\r\n",
                "df.head(3)"
            ],
            "metadata": {}
        },
        {
            "cell_type": "code",
            "execution_count": 3,
            "source": [
                "li = []\r\n",
                "path = r'D:/02_batch_2/'\r\n",
                "\r\n",
                "for i,dname in enumerate(df_dirname['Folder']):\r\n",
                "\r\n",
                "    files = glob.glob(path + dname + '/*.txt')\r\n",
                "    #print(f'Successfully created dataframe for {dname}')\r\n",
                "    for i,f in enumerate(files):\r\n",
                "\r\n",
                "        parse_error = False\r\n",
                "        file_not_found = False\r\n",
                "\r\n",
                "        stock = os.path.basename(f)            \r\n",
                "        temp_df = pd.read_csv(f, delimiter=\"\\t\", error_bad_lines=False)\r\n",
                "        temp_df['filePath'] = path + dname + '/'\r\n",
                "        temp_df['textFileName'] = stock     \r\n",
                "        temp_df['audioFileName'] = temp_df['textFileName'].replace('.txt', '.wav', regex=True)\r\n",
                "        temp_df['duration'] = temp_df.stop-temp_df.start\r\n",
                "        li.append(temp_df)\r\n",
                "      #  print(f'Successfully created dataframe for {stock} with shape {temp_df.shape}')\r\n",
                "\r\n",
                "df = pd.concat(li, axis=0)\r\n",
                "print(df.shape)\r\n",
                "df.head(2)"
            ],
            "outputs": [
                {
                    "output_type": "stream",
                    "name": "stderr",
                    "text": [
                        "b'Skipping line 18: expected 5 fields, saw 7\\n'\n",
                        "b'Skipping line 12: expected 5 fields, saw 6\\n'\n",
                        "b'Skipping line 5: expected 5 fields, saw 8\\n'\n"
                    ]
                },
                {
                    "output_type": "stream",
                    "name": "stdout",
                    "text": [
                        "(507921, 9)\n"
                    ]
                },
                {
                    "output_type": "execute_result",
                    "data": {
                        "text/plain": [
                            "   speaker gender      start       stop  \\\n",
                            "0  speakeA      M   8.998978  23.522329   \n",
                            "1  speakeA      M  23.522329  25.772074   \n",
                            "\n",
                            "                                          transcript  \\\n",
                            "0  الحقوني الحقوني بطني بطني بموت  ما أقدر الحقون...   \n",
                            "1                             أضحك عليكو بس أختبركو.   \n",
                            "\n",
                            "                           filePath               textFileName  \\\n",
                            "0  D:/02_batch_2/37_degrees_series/  37_degrees_series_0-0.txt   \n",
                            "1  D:/02_batch_2/37_degrees_series/  37_degrees_series_0-0.txt   \n",
                            "\n",
                            "               audioFileName   duration  \n",
                            "0  37_degrees_series_0-0.wav  14.523351  \n",
                            "1  37_degrees_series_0-0.wav   2.249745  "
                        ],
                        "text/html": [
                            "<div>\n",
                            "<style scoped>\n",
                            "    .dataframe tbody tr th:only-of-type {\n",
                            "        vertical-align: middle;\n",
                            "    }\n",
                            "\n",
                            "    .dataframe tbody tr th {\n",
                            "        vertical-align: top;\n",
                            "    }\n",
                            "\n",
                            "    .dataframe thead th {\n",
                            "        text-align: right;\n",
                            "    }\n",
                            "</style>\n",
                            "<table border=\"1\" class=\"dataframe\">\n",
                            "  <thead>\n",
                            "    <tr style=\"text-align: right;\">\n",
                            "      <th></th>\n",
                            "      <th>speaker</th>\n",
                            "      <th>gender</th>\n",
                            "      <th>start</th>\n",
                            "      <th>stop</th>\n",
                            "      <th>transcript</th>\n",
                            "      <th>filePath</th>\n",
                            "      <th>textFileName</th>\n",
                            "      <th>audioFileName</th>\n",
                            "      <th>duration</th>\n",
                            "    </tr>\n",
                            "  </thead>\n",
                            "  <tbody>\n",
                            "    <tr>\n",
                            "      <th>0</th>\n",
                            "      <td>speakeA</td>\n",
                            "      <td>M</td>\n",
                            "      <td>8.998978</td>\n",
                            "      <td>23.522329</td>\n",
                            "      <td>الحقوني الحقوني بطني بطني بموت  ما أقدر الحقون...</td>\n",
                            "      <td>D:/02_batch_2/37_degrees_series/</td>\n",
                            "      <td>37_degrees_series_0-0.txt</td>\n",
                            "      <td>37_degrees_series_0-0.wav</td>\n",
                            "      <td>14.523351</td>\n",
                            "    </tr>\n",
                            "    <tr>\n",
                            "      <th>1</th>\n",
                            "      <td>speakeA</td>\n",
                            "      <td>M</td>\n",
                            "      <td>23.522329</td>\n",
                            "      <td>25.772074</td>\n",
                            "      <td>أضحك عليكو بس أختبركو.</td>\n",
                            "      <td>D:/02_batch_2/37_degrees_series/</td>\n",
                            "      <td>37_degrees_series_0-0.txt</td>\n",
                            "      <td>37_degrees_series_0-0.wav</td>\n",
                            "      <td>2.249745</td>\n",
                            "    </tr>\n",
                            "  </tbody>\n",
                            "</table>\n",
                            "</div>"
                        ]
                    },
                    "metadata": {},
                    "execution_count": 3
                }
            ],
            "metadata": {}
        },
        {
            "cell_type": "code",
            "execution_count": 5,
            "source": [
                "df.duration.sum()/3600"
            ],
            "outputs": [
                {
                    "output_type": "execute_result",
                    "data": {
                        "text/plain": [
                            "1161.3279405906094"
                        ]
                    },
                    "metadata": {},
                    "execution_count": 5
                }
            ],
            "metadata": {}
        },
        {
            "cell_type": "code",
            "execution_count": 17,
            "source": [
                "df_percent = df.groupby(['filePath','textFileName']).agg({'duration':['sum']}).reset_index()\r\n",
                "df_percent=df_percent.droplevel(axis=1,level=1)\r\n",
                "df_percent.rename(columns={'duration':'duration_sum'},inplace=True)\r\n",
                "\r\n",
                "def as_perc(value, total):\r\n",
                "    return value/float(total)\r\n",
                "\r\n",
                "res = pd.DataFrame(df_percent.duration_sum.apply(as_perc, total=df_percent.duration_sum.sum()))\r\n",
                "df_percent['percent'] = res\r\n",
                "\r\n",
                "df_percent['req_duration'] = round(df_percent['percent']*180000)\r\n",
                "df_percent.head(5)"
            ],
            "outputs": [
                {
                    "output_type": "execute_result",
                    "data": {
                        "text/plain": [
                            "                           filePath               textFileName  duration_sum  \\\n",
                            "0  D:/02_batch_2/37_degrees_series/  37_degrees_series_0-0.txt    161.231694   \n",
                            "1  D:/02_batch_2/37_degrees_series/  37_degrees_series_0-1.txt    227.017000   \n",
                            "2  D:/02_batch_2/37_degrees_series/  37_degrees_series_0-2.txt    100.843458   \n",
                            "3  D:/02_batch_2/37_degrees_series/  37_degrees_series_0-3.txt    112.098840   \n",
                            "4  D:/02_batch_2/37_degrees_series/  37_degrees_series_0-4.txt    138.146208   \n",
                            "\n",
                            "    percent  req_duration  \n",
                            "0  0.000039           7.0  \n",
                            "1  0.000054          10.0  \n",
                            "2  0.000024           4.0  \n",
                            "3  0.000027           5.0  \n",
                            "4  0.000033           6.0  "
                        ],
                        "text/html": [
                            "<div>\n",
                            "<style scoped>\n",
                            "    .dataframe tbody tr th:only-of-type {\n",
                            "        vertical-align: middle;\n",
                            "    }\n",
                            "\n",
                            "    .dataframe tbody tr th {\n",
                            "        vertical-align: top;\n",
                            "    }\n",
                            "\n",
                            "    .dataframe thead th {\n",
                            "        text-align: right;\n",
                            "    }\n",
                            "</style>\n",
                            "<table border=\"1\" class=\"dataframe\">\n",
                            "  <thead>\n",
                            "    <tr style=\"text-align: right;\">\n",
                            "      <th></th>\n",
                            "      <th>filePath</th>\n",
                            "      <th>textFileName</th>\n",
                            "      <th>duration_sum</th>\n",
                            "      <th>percent</th>\n",
                            "      <th>req_duration</th>\n",
                            "    </tr>\n",
                            "  </thead>\n",
                            "  <tbody>\n",
                            "    <tr>\n",
                            "      <th>0</th>\n",
                            "      <td>D:/02_batch_2/37_degrees_series/</td>\n",
                            "      <td>37_degrees_series_0-0.txt</td>\n",
                            "      <td>161.231694</td>\n",
                            "      <td>0.000039</td>\n",
                            "      <td>7.0</td>\n",
                            "    </tr>\n",
                            "    <tr>\n",
                            "      <th>1</th>\n",
                            "      <td>D:/02_batch_2/37_degrees_series/</td>\n",
                            "      <td>37_degrees_series_0-1.txt</td>\n",
                            "      <td>227.017000</td>\n",
                            "      <td>0.000054</td>\n",
                            "      <td>10.0</td>\n",
                            "    </tr>\n",
                            "    <tr>\n",
                            "      <th>2</th>\n",
                            "      <td>D:/02_batch_2/37_degrees_series/</td>\n",
                            "      <td>37_degrees_series_0-2.txt</td>\n",
                            "      <td>100.843458</td>\n",
                            "      <td>0.000024</td>\n",
                            "      <td>4.0</td>\n",
                            "    </tr>\n",
                            "    <tr>\n",
                            "      <th>3</th>\n",
                            "      <td>D:/02_batch_2/37_degrees_series/</td>\n",
                            "      <td>37_degrees_series_0-3.txt</td>\n",
                            "      <td>112.098840</td>\n",
                            "      <td>0.000027</td>\n",
                            "      <td>5.0</td>\n",
                            "    </tr>\n",
                            "    <tr>\n",
                            "      <th>4</th>\n",
                            "      <td>D:/02_batch_2/37_degrees_series/</td>\n",
                            "      <td>37_degrees_series_0-4.txt</td>\n",
                            "      <td>138.146208</td>\n",
                            "      <td>0.000033</td>\n",
                            "      <td>6.0</td>\n",
                            "    </tr>\n",
                            "  </tbody>\n",
                            "</table>\n",
                            "</div>"
                        ]
                    },
                    "metadata": {},
                    "execution_count": 17
                }
            ],
            "metadata": {}
        },
        {
            "cell_type": "code",
            "execution_count": 45,
            "source": [
                "df_req_percent = df_percent.groupby('filePath').agg({'req_duration':'sum','percent':'sum'}).reset_index()\r\n",
                "df_req_percent.head(3)"
            ],
            "outputs": [
                {
                    "output_type": "execute_result",
                    "data": {
                        "text/plain": [
                            "                                filePath  req_duration   percent\n",
                            "0       D:/02_batch_2/37_degrees_series/        1119.0  0.006219\n",
                            "1             D:/02_batch_2/Almajd_kids/        4495.0  0.024986\n",
                            "2  D:/02_batch_2/Ba3d_altes3een_Podcast/        2741.0  0.015221"
                        ],
                        "text/html": [
                            "<div>\n",
                            "<style scoped>\n",
                            "    .dataframe tbody tr th:only-of-type {\n",
                            "        vertical-align: middle;\n",
                            "    }\n",
                            "\n",
                            "    .dataframe tbody tr th {\n",
                            "        vertical-align: top;\n",
                            "    }\n",
                            "\n",
                            "    .dataframe thead th {\n",
                            "        text-align: right;\n",
                            "    }\n",
                            "</style>\n",
                            "<table border=\"1\" class=\"dataframe\">\n",
                            "  <thead>\n",
                            "    <tr style=\"text-align: right;\">\n",
                            "      <th></th>\n",
                            "      <th>filePath</th>\n",
                            "      <th>req_duration</th>\n",
                            "      <th>percent</th>\n",
                            "    </tr>\n",
                            "  </thead>\n",
                            "  <tbody>\n",
                            "    <tr>\n",
                            "      <th>0</th>\n",
                            "      <td>D:/02_batch_2/37_degrees_series/</td>\n",
                            "      <td>1119.0</td>\n",
                            "      <td>0.006219</td>\n",
                            "    </tr>\n",
                            "    <tr>\n",
                            "      <th>1</th>\n",
                            "      <td>D:/02_batch_2/Almajd_kids/</td>\n",
                            "      <td>4495.0</td>\n",
                            "      <td>0.024986</td>\n",
                            "    </tr>\n",
                            "    <tr>\n",
                            "      <th>2</th>\n",
                            "      <td>D:/02_batch_2/Ba3d_altes3een_Podcast/</td>\n",
                            "      <td>2741.0</td>\n",
                            "      <td>0.015221</td>\n",
                            "    </tr>\n",
                            "  </tbody>\n",
                            "</table>\n",
                            "</div>"
                        ]
                    },
                    "metadata": {},
                    "execution_count": 45
                }
            ],
            "metadata": {}
        },
        {
            "cell_type": "code",
            "execution_count": null,
            "source": [
                "i=0;\r\n",
                "for i,fpath in enumerate(df_req_percent['filePath']):\r\n",
                "    print(i,\" \",fpath)"
            ],
            "outputs": [],
            "metadata": {}
        },
        {
            "cell_type": "code",
            "execution_count": 61,
            "source": [
                "i = 0\r\n",
                "\r\n",
                "df_selection = pd.DataFrame(\r\n",
                "    columns=['row_no','src_filepath','src_filepath_txt','duration']\r\n",
                "    )\r\n",
                "\r\n",
                "for i,fpath in enumerate(df_req_percent['filePath']):\r\n",
                "    sum_duration = 0.0\r\n",
                "    j = 0\r\n",
                "    req_duration = df_req_percent.loc[i,'req_duration']\r\n",
                "    filter_fpath = df_percent[df_percent['filePath'] == fpath]    \r\n",
                " #   print(fpath,req_duration)\r\n",
                "\r\n",
                "    while (req_duration>=sum_duration):\r\n",
                "        n = random.randint(0,len(filter_fpath))\r\n",
                "\r\n",
                "        path = filter_fpath.iloc[n,0]\r\n",
                "        file = filter_fpath.iloc[n,1]\r\n",
                "        duration = filter_fpath.iloc[n,2]\r\n",
                "\r\n",
                "    #    print(n,str(filter_fpath.iloc[n,0]),str(filter_fpath.iloc[n,1]),filter_fpath.iloc[n,2].astype('float32'))\r\n",
                "\r\n",
                "    #    temp_df[j,0] = n\r\n",
                "    #    temp_df[j,1] = str(filter_fpath.iloc[n,0])\r\n",
                "    #    temp_df[j,2] = str(filter_fpath.iloc[n,1])\r\n",
                "    #    temp_df[j,3] = filter_fpath.iloc[n,2].astype('float32')\r\n",
                "\r\n",
                "        sum_duration = sum_duration + filter_fpath.iloc[n,2].astype('float32')\r\n",
                "    \r\n",
                "  #  df_selection.append(temp_df)\r\n",
                "\r\n",
                "df_selection\r\n",
                "        \r\n"
            ],
            "outputs": [
                {
                    "output_type": "error",
                    "ename": "IndexError",
                    "evalue": "single positional indexer is out-of-bounds",
                    "traceback": [
                        "\u001b[1;31m---------------------------------------------------------------------------\u001b[0m",
                        "\u001b[1;31mIndexError\u001b[0m                                Traceback (most recent call last)",
                        "\u001b[1;32m~\\AppData\\Local\\Temp/ipykernel_17016/2347406929.py\u001b[0m in \u001b[0;36m<module>\u001b[1;34m\u001b[0m\n\u001b[0;32m     18\u001b[0m         \u001b[0mn\u001b[0m \u001b[1;33m=\u001b[0m \u001b[0mrandom\u001b[0m\u001b[1;33m.\u001b[0m\u001b[0mrandint\u001b[0m\u001b[1;33m(\u001b[0m\u001b[1;36m0\u001b[0m\u001b[1;33m,\u001b[0m\u001b[0mlen\u001b[0m\u001b[1;33m(\u001b[0m\u001b[0mfilter_fpath\u001b[0m\u001b[1;33m)\u001b[0m\u001b[1;33m)\u001b[0m\u001b[1;33m\u001b[0m\u001b[1;33m\u001b[0m\u001b[0m\n\u001b[0;32m     19\u001b[0m \u001b[1;33m\u001b[0m\u001b[0m\n\u001b[1;32m---> 20\u001b[1;33m         \u001b[0mpath\u001b[0m \u001b[1;33m=\u001b[0m \u001b[0mfilter_fpath\u001b[0m\u001b[1;33m.\u001b[0m\u001b[0miloc\u001b[0m\u001b[1;33m[\u001b[0m\u001b[0mn\u001b[0m\u001b[1;33m,\u001b[0m\u001b[1;36m0\u001b[0m\u001b[1;33m]\u001b[0m\u001b[1;33m\u001b[0m\u001b[1;33m\u001b[0m\u001b[0m\n\u001b[0m\u001b[0;32m     21\u001b[0m         \u001b[0mfile\u001b[0m \u001b[1;33m=\u001b[0m \u001b[0mfilter_fpath\u001b[0m\u001b[1;33m.\u001b[0m\u001b[0miloc\u001b[0m\u001b[1;33m[\u001b[0m\u001b[0mn\u001b[0m\u001b[1;33m,\u001b[0m\u001b[1;36m1\u001b[0m\u001b[1;33m]\u001b[0m\u001b[1;33m\u001b[0m\u001b[1;33m\u001b[0m\u001b[0m\n\u001b[0;32m     22\u001b[0m         \u001b[0mduration\u001b[0m \u001b[1;33m=\u001b[0m \u001b[0mfilter_fpath\u001b[0m\u001b[1;33m.\u001b[0m\u001b[0miloc\u001b[0m\u001b[1;33m[\u001b[0m\u001b[0mn\u001b[0m\u001b[1;33m,\u001b[0m\u001b[1;36m2\u001b[0m\u001b[1;33m]\u001b[0m\u001b[1;33m\u001b[0m\u001b[1;33m\u001b[0m\u001b[0m\n",
                        "\u001b[1;32m~\\AppData\\Local\\Programs\\Python\\Python39\\lib\\site-packages\\pandas\\core\\indexing.py\u001b[0m in \u001b[0;36m__getitem__\u001b[1;34m(self, key)\u001b[0m\n\u001b[0;32m    923\u001b[0m                 \u001b[1;32mwith\u001b[0m \u001b[0msuppress\u001b[0m\u001b[1;33m(\u001b[0m\u001b[0mKeyError\u001b[0m\u001b[1;33m,\u001b[0m \u001b[0mIndexError\u001b[0m\u001b[1;33m)\u001b[0m\u001b[1;33m:\u001b[0m\u001b[1;33m\u001b[0m\u001b[1;33m\u001b[0m\u001b[0m\n\u001b[0;32m    924\u001b[0m                     \u001b[1;32mreturn\u001b[0m \u001b[0mself\u001b[0m\u001b[1;33m.\u001b[0m\u001b[0mobj\u001b[0m\u001b[1;33m.\u001b[0m\u001b[0m_get_value\u001b[0m\u001b[1;33m(\u001b[0m\u001b[1;33m*\u001b[0m\u001b[0mkey\u001b[0m\u001b[1;33m,\u001b[0m \u001b[0mtakeable\u001b[0m\u001b[1;33m=\u001b[0m\u001b[0mself\u001b[0m\u001b[1;33m.\u001b[0m\u001b[0m_takeable\u001b[0m\u001b[1;33m)\u001b[0m\u001b[1;33m\u001b[0m\u001b[1;33m\u001b[0m\u001b[0m\n\u001b[1;32m--> 925\u001b[1;33m             \u001b[1;32mreturn\u001b[0m \u001b[0mself\u001b[0m\u001b[1;33m.\u001b[0m\u001b[0m_getitem_tuple\u001b[0m\u001b[1;33m(\u001b[0m\u001b[0mkey\u001b[0m\u001b[1;33m)\u001b[0m\u001b[1;33m\u001b[0m\u001b[1;33m\u001b[0m\u001b[0m\n\u001b[0m\u001b[0;32m    926\u001b[0m         \u001b[1;32melse\u001b[0m\u001b[1;33m:\u001b[0m\u001b[1;33m\u001b[0m\u001b[1;33m\u001b[0m\u001b[0m\n\u001b[0;32m    927\u001b[0m             \u001b[1;31m# we by definition only have the 0th axis\u001b[0m\u001b[1;33m\u001b[0m\u001b[1;33m\u001b[0m\u001b[1;33m\u001b[0m\u001b[0m\n",
                        "\u001b[1;32m~\\AppData\\Local\\Programs\\Python\\Python39\\lib\\site-packages\\pandas\\core\\indexing.py\u001b[0m in \u001b[0;36m_getitem_tuple\u001b[1;34m(self, tup)\u001b[0m\n\u001b[0;32m   1504\u001b[0m     \u001b[1;32mdef\u001b[0m \u001b[0m_getitem_tuple\u001b[0m\u001b[1;33m(\u001b[0m\u001b[0mself\u001b[0m\u001b[1;33m,\u001b[0m \u001b[0mtup\u001b[0m\u001b[1;33m:\u001b[0m \u001b[0mtuple\u001b[0m\u001b[1;33m)\u001b[0m\u001b[1;33m:\u001b[0m\u001b[1;33m\u001b[0m\u001b[1;33m\u001b[0m\u001b[0m\n\u001b[0;32m   1505\u001b[0m \u001b[1;33m\u001b[0m\u001b[0m\n\u001b[1;32m-> 1506\u001b[1;33m         \u001b[0mself\u001b[0m\u001b[1;33m.\u001b[0m\u001b[0m_has_valid_tuple\u001b[0m\u001b[1;33m(\u001b[0m\u001b[0mtup\u001b[0m\u001b[1;33m)\u001b[0m\u001b[1;33m\u001b[0m\u001b[1;33m\u001b[0m\u001b[0m\n\u001b[0m\u001b[0;32m   1507\u001b[0m         \u001b[1;32mwith\u001b[0m \u001b[0msuppress\u001b[0m\u001b[1;33m(\u001b[0m\u001b[0mIndexingError\u001b[0m\u001b[1;33m)\u001b[0m\u001b[1;33m:\u001b[0m\u001b[1;33m\u001b[0m\u001b[1;33m\u001b[0m\u001b[0m\n\u001b[0;32m   1508\u001b[0m             \u001b[1;32mreturn\u001b[0m \u001b[0mself\u001b[0m\u001b[1;33m.\u001b[0m\u001b[0m_getitem_lowerdim\u001b[0m\u001b[1;33m(\u001b[0m\u001b[0mtup\u001b[0m\u001b[1;33m)\u001b[0m\u001b[1;33m\u001b[0m\u001b[1;33m\u001b[0m\u001b[0m\n",
                        "\u001b[1;32m~\\AppData\\Local\\Programs\\Python\\Python39\\lib\\site-packages\\pandas\\core\\indexing.py\u001b[0m in \u001b[0;36m_has_valid_tuple\u001b[1;34m(self, key)\u001b[0m\n\u001b[0;32m    752\u001b[0m         \u001b[1;32mfor\u001b[0m \u001b[0mi\u001b[0m\u001b[1;33m,\u001b[0m \u001b[0mk\u001b[0m \u001b[1;32min\u001b[0m \u001b[0menumerate\u001b[0m\u001b[1;33m(\u001b[0m\u001b[0mkey\u001b[0m\u001b[1;33m)\u001b[0m\u001b[1;33m:\u001b[0m\u001b[1;33m\u001b[0m\u001b[1;33m\u001b[0m\u001b[0m\n\u001b[0;32m    753\u001b[0m             \u001b[1;32mtry\u001b[0m\u001b[1;33m:\u001b[0m\u001b[1;33m\u001b[0m\u001b[1;33m\u001b[0m\u001b[0m\n\u001b[1;32m--> 754\u001b[1;33m                 \u001b[0mself\u001b[0m\u001b[1;33m.\u001b[0m\u001b[0m_validate_key\u001b[0m\u001b[1;33m(\u001b[0m\u001b[0mk\u001b[0m\u001b[1;33m,\u001b[0m \u001b[0mi\u001b[0m\u001b[1;33m)\u001b[0m\u001b[1;33m\u001b[0m\u001b[1;33m\u001b[0m\u001b[0m\n\u001b[0m\u001b[0;32m    755\u001b[0m             \u001b[1;32mexcept\u001b[0m \u001b[0mValueError\u001b[0m \u001b[1;32mas\u001b[0m \u001b[0merr\u001b[0m\u001b[1;33m:\u001b[0m\u001b[1;33m\u001b[0m\u001b[1;33m\u001b[0m\u001b[0m\n\u001b[0;32m    756\u001b[0m                 raise ValueError(\n",
                        "\u001b[1;32m~\\AppData\\Local\\Programs\\Python\\Python39\\lib\\site-packages\\pandas\\core\\indexing.py\u001b[0m in \u001b[0;36m_validate_key\u001b[1;34m(self, key, axis)\u001b[0m\n\u001b[0;32m   1407\u001b[0m             \u001b[1;32mreturn\u001b[0m\u001b[1;33m\u001b[0m\u001b[1;33m\u001b[0m\u001b[0m\n\u001b[0;32m   1408\u001b[0m         \u001b[1;32melif\u001b[0m \u001b[0mis_integer\u001b[0m\u001b[1;33m(\u001b[0m\u001b[0mkey\u001b[0m\u001b[1;33m)\u001b[0m\u001b[1;33m:\u001b[0m\u001b[1;33m\u001b[0m\u001b[1;33m\u001b[0m\u001b[0m\n\u001b[1;32m-> 1409\u001b[1;33m             \u001b[0mself\u001b[0m\u001b[1;33m.\u001b[0m\u001b[0m_validate_integer\u001b[0m\u001b[1;33m(\u001b[0m\u001b[0mkey\u001b[0m\u001b[1;33m,\u001b[0m \u001b[0maxis\u001b[0m\u001b[1;33m)\u001b[0m\u001b[1;33m\u001b[0m\u001b[1;33m\u001b[0m\u001b[0m\n\u001b[0m\u001b[0;32m   1410\u001b[0m         \u001b[1;32melif\u001b[0m \u001b[0misinstance\u001b[0m\u001b[1;33m(\u001b[0m\u001b[0mkey\u001b[0m\u001b[1;33m,\u001b[0m \u001b[0mtuple\u001b[0m\u001b[1;33m)\u001b[0m\u001b[1;33m:\u001b[0m\u001b[1;33m\u001b[0m\u001b[1;33m\u001b[0m\u001b[0m\n\u001b[0;32m   1411\u001b[0m             \u001b[1;31m# a tuple should already have been caught by this point\u001b[0m\u001b[1;33m\u001b[0m\u001b[1;33m\u001b[0m\u001b[1;33m\u001b[0m\u001b[0m\n",
                        "\u001b[1;32m~\\AppData\\Local\\Programs\\Python\\Python39\\lib\\site-packages\\pandas\\core\\indexing.py\u001b[0m in \u001b[0;36m_validate_integer\u001b[1;34m(self, key, axis)\u001b[0m\n\u001b[0;32m   1498\u001b[0m         \u001b[0mlen_axis\u001b[0m \u001b[1;33m=\u001b[0m \u001b[0mlen\u001b[0m\u001b[1;33m(\u001b[0m\u001b[0mself\u001b[0m\u001b[1;33m.\u001b[0m\u001b[0mobj\u001b[0m\u001b[1;33m.\u001b[0m\u001b[0m_get_axis\u001b[0m\u001b[1;33m(\u001b[0m\u001b[0maxis\u001b[0m\u001b[1;33m)\u001b[0m\u001b[1;33m)\u001b[0m\u001b[1;33m\u001b[0m\u001b[1;33m\u001b[0m\u001b[0m\n\u001b[0;32m   1499\u001b[0m         \u001b[1;32mif\u001b[0m \u001b[0mkey\u001b[0m \u001b[1;33m>=\u001b[0m \u001b[0mlen_axis\u001b[0m \u001b[1;32mor\u001b[0m \u001b[0mkey\u001b[0m \u001b[1;33m<\u001b[0m \u001b[1;33m-\u001b[0m\u001b[0mlen_axis\u001b[0m\u001b[1;33m:\u001b[0m\u001b[1;33m\u001b[0m\u001b[1;33m\u001b[0m\u001b[0m\n\u001b[1;32m-> 1500\u001b[1;33m             \u001b[1;32mraise\u001b[0m \u001b[0mIndexError\u001b[0m\u001b[1;33m(\u001b[0m\u001b[1;34m\"single positional indexer is out-of-bounds\"\u001b[0m\u001b[1;33m)\u001b[0m\u001b[1;33m\u001b[0m\u001b[1;33m\u001b[0m\u001b[0m\n\u001b[0m\u001b[0;32m   1501\u001b[0m \u001b[1;33m\u001b[0m\u001b[0m\n\u001b[0;32m   1502\u001b[0m     \u001b[1;31m# -------------------------------------------------------------------\u001b[0m\u001b[1;33m\u001b[0m\u001b[1;33m\u001b[0m\u001b[1;33m\u001b[0m\u001b[0m\n",
                        "\u001b[1;31mIndexError\u001b[0m: single positional indexer is out-of-bounds"
                    ]
                }
            ],
            "metadata": {}
        },
        {
            "cell_type": "code",
            "execution_count": null,
            "source": [
                "df_percent.groupby('filePath').agg({'duration_sum':'sum','percent':'sum'})"
            ],
            "outputs": [],
            "metadata": {}
        },
        {
            "cell_type": "markdown",
            "source": [
                "### Video Clipping"
            ],
            "metadata": {}
        },
        {
            "cell_type": "code",
            "execution_count": null,
            "source": [
                "hours = 180000;\r\n",
                "duration_sum = 0;\r\n",
                "x=0;\r\n",
                "dest_filepath = r'D:/nf/audio/'\r\n",
                "\r\n",
                "df_selection = pd.DataFrame(\r\n",
                "    columns=['row_no','src_filepath','src_filepath_txt','src_filepath_wav','dest_filepath','dest_filepath_txt','dest_filepath_wav','duration','start','end']\r\n",
                "    )\r\n",
                "\r\n",
                "while (hours>=duration_sum):\r\n",
                "    \r\n",
                "    n = random.randint(0,len(df))\r\n",
                "    fname = str(df.iloc[n,5] + df.iloc[n,7])\r\n",
                "    duration_sum = duration_sum + df.iloc[n,8].astype('float32')\r\n",
                "\r\n",
                "    df_selection[x,0] = n\r\n",
                "    df_selection[x,1] = str(df.iloc[n,5])\r\n",
                "    df_selection[x,2] = str(df.iloc[n,6])\r\n",
                "    df_selection[x,3] = str(df.iloc[n,7])\r\n",
                "    df_selection[x,4] = dest_filepath\r\n",
                "    df_selection[x,5] = str(x) + \"_\" + str(df.iloc[n,6])\r\n",
                "    df_selection[x,6] = str(x) + \"_\" + str(df.iloc[n,7])\r\n",
                "    df_selection[x,7] = df.iloc[n,8].astype('float32')\r\n",
                "    df_selection[x,8] = df.iloc[n,2].astype('float32')\r\n",
                "    df_selection[x,9] = df.iloc[n,3].astype('float32')\r\n",
                "\r\n",
                "    x=x+1  \r\n",
                "    start = time.time()\r\n",
                "    my_clip = mp.AudioFileClip(fname)    \r\n",
                "    \r\n",
                "    clip = my_clip.subclip(df.iloc[n,2],df.iloc[n,3])\r\n",
                "    clip.write_audiofile(dest_filepath + str(x) + \"_\"+ str(df.iloc[n,7]) +\".mp3\")\r\n",
                "    #time.sleep(1)\r\n",
                "    end = time.time()\r\n",
                "    \r\n",
                "\r\n",
                "    print(duration_sum)\r\n",
                "    print(f\"Runtime of the program is {end - start}\")\r\n",
                "    # clip.write_audiofile(dest_filepath + df_selection[x,6])\r\n",
                "\r\n",
                "\r\n",
                "df_selection.head(4) "
            ],
            "outputs": [],
            "metadata": {}
        },
        {
            "cell_type": "code",
            "execution_count": null,
            "source": [
                "fp = df.iloc[1,5]\r\n",
                "fn = df.iloc[1,7]\r\n",
                "fname = str(fp+fn)\r\n",
                "\r\n",
                "my_clip = mp.AudioFileClip(fname)\r\n",
                "clip = my_clip.subclip(df.iloc[1,2],df.iloc[1,3])\r\n",
                "\r\n",
                "clip.write_audiofile(r\"D:\\nf\\audio\\1_\"+str(fn)+\".mp3\")"
            ],
            "outputs": [],
            "metadata": {}
        },
        {
            "cell_type": "code",
            "execution_count": null,
            "source": [],
            "outputs": [],
            "metadata": {}
        },
        {
            "cell_type": "code",
            "execution_count": null,
            "source": [],
            "outputs": [],
            "metadata": {}
        },
        {
            "cell_type": "code",
            "execution_count": null,
            "source": [],
            "outputs": [],
            "metadata": {}
        },
        {
            "cell_type": "markdown",
            "source": [
                "#### Directory Structure"
            ],
            "metadata": {}
        },
        {
            "cell_type": "code",
            "execution_count": null,
            "source": [
                "def list_files(startpath):\r\n",
                "    for root, dirs, files in os.walk(startpath):\r\n",
                "        level = root.replace(startpath, '').count(os.sep)\r\n",
                "        indent = ' ' * 4 * (level)\r\n",
                "        print('{}{}/'.format(indent, os.path.basename(root)))\r\n",
                "        subindent = ' ' * 4 * (level + 1)\r\n",
                "        for f in files:\r\n",
                "            print('{}{}'.format(subindent, f))\r\n",
                "\r\n"
            ],
            "outputs": [],
            "metadata": {}
        },
        {
            "cell_type": "code",
            "execution_count": null,
            "source": [
                "list_files(r\"D:\\02_batch_2\")"
            ],
            "outputs": [],
            "metadata": {}
        }
    ],
    "metadata": {
        "orig_nbformat": 4,
        "language_info": {
            "name": "python",
            "version": "3.9.6",
            "mimetype": "text/x-python",
            "codemirror_mode": {
                "name": "ipython",
                "version": 3
            },
            "pygments_lexer": "ipython3",
            "nbconvert_exporter": "python",
            "file_extension": ".py"
        },
        "kernelspec": {
            "name": "python3",
            "display_name": "Python 3.9.6 64-bit"
        },
        "interpreter": {
            "hash": "6964edc1e3482d1b27b6dc7e7a24c0dafb20203c4f1f42e5c7f21e1f51fabd5a"
        }
    },
    "nbformat": 4,
    "nbformat_minor": 2
}
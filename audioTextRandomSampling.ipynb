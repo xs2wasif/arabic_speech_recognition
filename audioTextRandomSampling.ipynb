{
    "cells": [
        {
            "cell_type": "code",
            "execution_count": 1,
            "source": [
                "import os\r\n",
                "import fileinput as fi\r\n",
                "import glob\r\n",
                "import moviepy.editor as mp\r\n",
                "import pandas as pd\r\n",
                "import random\r\n",
                "\r\n",
                "\r\n",
                "os.chdir(path=r\"D:\\02_batch_2\")\r\n",
                "print(\"Current Working Directory \" , os.getcwd())\r\n"
            ],
            "outputs": [
                {
                    "output_type": "stream",
                    "name": "stdout",
                    "text": [
                        "Current Working Directory  D:\\02_batch_2\n"
                    ]
                }
            ],
            "metadata": {}
        },
        {
            "cell_type": "markdown",
            "source": [
                "### Arabic Annotation collection"
            ],
            "metadata": {}
        },
        {
            "cell_type": "code",
            "execution_count": 2,
            "source": [
                "df_dirname = []\r\n",
                "for folder in sorted(os.listdir(os.getcwd())):\r\n",
                "    df_dirname.append((folder))\r\n",
                "\r\n",
                "df_dirname = pd.DataFrame(df_dirname, columns=['Folder'])\r\n",
                "df_dirname.sort_values(by='Folder',inplace=True)"
            ],
            "outputs": [],
            "metadata": {}
        },
        {
            "cell_type": "markdown",
            "source": [
                "li = []\r\n",
                "\r\n",
                "try:\r\n",
                "\r\n",
                "    for i,dname in enumerate(df_dirname['Folder']):\r\n",
                "        path = r'D:/02_batch_2/'\r\n",
                "        files = glob.glob(path + dname + '/*.txt')\r\n",
                "        print(f'Successfully created dataframe for {dname}')\r\n",
                "        for i,f in enumerate(files):\r\n",
                "\r\n",
                "            parse_error = False\r\n",
                "            file_not_found = False\r\n",
                "\r\n",
                "            stock = os.path.basename(f)            \r\n",
                "            temp_df = pd.read_csv(f, delimiter=\"\\t\", error_bad_lines=False)\r\n",
                "            temp_df['filePath'] = path + dname + '/'\r\n",
                "            temp_df['textFileName'] = stock     \r\n",
                "            temp_df['audioFileName'] = temp_df['textFileName'].replace('.txt', '.wav', regex=True)\r\n",
                "            temp_df['duration'] = temp_df.stop-temp_df.start\r\n",
                "            li.append(temp_df)\r\n",
                "            print(f'Successfully created dataframe for {stock} with shape {temp_df.shape}')\r\n",
                "\r\n",
                "except pd.errors.ParserError:\r\n",
                "    parse_error = True\r\n",
                "    temp_df = pd.read_csv(f, delimiter=\"\\t\",skiprows=4)\r\n",
                "    li.append(temp_df)\r\n",
                "    print(f'Error for {dname} {stock} with shape {temp_df.shape}')\r\n",
                "\r\n",
                "else:\r\n",
                "    li.append(temp_df)\r\n",
                "\r\n",
                "\r\n",
                "df = pd.concat(li, axis=0)\r\n",
                "print(df.shape)\r\n",
                "df.head(3)"
            ],
            "metadata": {}
        },
        {
            "cell_type": "code",
            "execution_count": 3,
            "source": [
                "li = []\r\n",
                "path = r'D:/02_batch_2/'\r\n",
                "\r\n",
                "for i,dname in enumerate(df_dirname['Folder']):\r\n",
                "\r\n",
                "    files = glob.glob(path + dname + '/*.txt')\r\n",
                "    #print(f'Successfully created dataframe for {dname}')\r\n",
                "    for i,f in enumerate(files):\r\n",
                "\r\n",
                "        parse_error = False\r\n",
                "        file_not_found = False\r\n",
                "\r\n",
                "        stock = os.path.basename(f)            \r\n",
                "        temp_df = pd.read_csv(f, delimiter=\"\\t\", error_bad_lines=False)\r\n",
                "        temp_df['filePath'] = path + dname + '/'\r\n",
                "        temp_df['textFileName'] = stock     \r\n",
                "        temp_df['audioFileName'] = temp_df['textFileName'].replace('.txt', '.wav', regex=True)\r\n",
                "        temp_df['duration'] = temp_df.stop-temp_df.start\r\n",
                "        li.append(temp_df)\r\n",
                "      #  print(f'Successfully created dataframe for {stock} with shape {temp_df.shape}')\r\n",
                "\r\n",
                "df = pd.concat(li, axis=0)\r\n",
                "print(df.shape)\r\n",
                "df.head(2)"
            ],
            "outputs": [],
            "metadata": {}
        },
        {
            "cell_type": "code",
            "execution_count": null,
            "source": [
                "df.duration.sum()/3600"
            ],
            "outputs": [
                {
                    "output_type": "execute_result",
                    "data": {
                        "text/plain": [
                            "1161.3279405906094"
                        ]
                    },
                    "metadata": {},
                    "execution_count": 6
                }
            ],
            "metadata": {}
        },
        {
            "cell_type": "markdown",
            "source": [
                "### Video Clipping"
            ],
            "metadata": {}
        },
        {
            "cell_type": "code",
            "execution_count": null,
            "source": [
                "hours = 180000;\r\n",
                "duration_sum = 0;\r\n",
                "x=0;\r\n",
                "dest_filepath = r'D:/nf/audio/'\r\n",
                "\r\n",
                "df_selection = pd.DataFrame(\r\n",
                "    columns=['row_no','src_filepath','src_filepath_txt','src_filepath_wav','dest_filepath','dest_filepath_txt','dest_filepath_wav','duration','start','end']\r\n",
                "    )\r\n",
                "\r\n",
                "while (hours>=duration_sum):\r\n",
                "    n = random.randint(0,len(df))\r\n",
                "    fname = str(df.iloc[n,5] + df.iloc[n,7])\r\n",
                "    duration_sum = duration_sum + df.iloc[n,8].astype('float32')\r\n",
                "\r\n",
                "    df_selection[x,0] = n\r\n",
                "    df_selection[x,1] = str(df.iloc[n,5])\r\n",
                "    df_selection[x,2] = str(df.iloc[n,6])\r\n",
                "    df_selection[x,3] = str(df.iloc[n,7])\r\n",
                "    df_selection[x,4] = dest_filepath\r\n",
                "    df_selection[x,5] = str(x) + \"_\" + str(df.iloc[n,6])\r\n",
                "    df_selection[x,6] = str(x) + \"_\" + str(df.iloc[n,7])\r\n",
                "    df_selection[x,7] = df.iloc[n,8].astype('float32')\r\n",
                "    df_selection[x,8] = df.iloc[n,2].astype('float32')\r\n",
                "    df_selection[x,9] = df.iloc[n,3].astype('float32')\r\n",
                "\r\n",
                "    x=x+1\r\n",
                "\r\n",
                "    print(duration_sum)\r\n",
                "\r\n",
                "    my_clip = mp.AudioFileClip(fname)\r\n",
                "    clip = my_clip.subclip(df.iloc[n,2],df.iloc[n,3])\r\n",
                "    # clip.write_audiofile(dest_filepath + df_selection[x,6])\r\n",
                "\r\n",
                "    clip.write_audiofile(dest_filepath + str(x) + \"_\"+ str(df.iloc[n,7]) +\".mp3\")\r\n",
                "\r\n",
                "\r\n",
                "df_selection.head(4) "
            ],
            "outputs": [],
            "metadata": {}
        },
        {
            "cell_type": "code",
            "execution_count": null,
            "source": [
                "fp = df.iloc[1,5]\r\n",
                "fn = df.iloc[1,7]\r\n",
                "fname = str(fp+fn)\r\n",
                "\r\n",
                "my_clip = mp.AudioFileClip(fname)\r\n",
                "clip = my_clip.subclip(df.iloc[1,2],df.iloc[1,3])\r\n",
                "\r\n",
                "clip.write_audiofile(r\"D:\\nf\\audio\\1_\"+str(fn)+\".mp3\")"
            ],
            "outputs": [],
            "metadata": {}
        },
        {
            "cell_type": "code",
            "execution_count": null,
            "source": [],
            "outputs": [],
            "metadata": {}
        },
        {
            "cell_type": "code",
            "execution_count": null,
            "source": [],
            "outputs": [],
            "metadata": {}
        },
        {
            "cell_type": "code",
            "execution_count": null,
            "source": [],
            "outputs": [],
            "metadata": {}
        },
        {
            "cell_type": "markdown",
            "source": [
                "#### Directory Structure"
            ],
            "metadata": {}
        },
        {
            "cell_type": "code",
            "execution_count": null,
            "source": [
                "def list_files(startpath):\r\n",
                "    for root, dirs, files in os.walk(startpath):\r\n",
                "        level = root.replace(startpath, '').count(os.sep)\r\n",
                "        indent = ' ' * 4 * (level)\r\n",
                "        print('{}{}/'.format(indent, os.path.basename(root)))\r\n",
                "        subindent = ' ' * 4 * (level + 1)\r\n",
                "        for f in files:\r\n",
                "            print('{}{}'.format(subindent, f))\r\n",
                "\r\n"
            ],
            "outputs": [],
            "metadata": {}
        },
        {
            "cell_type": "code",
            "execution_count": null,
            "source": [
                "list_files(r\"D:\\02_batch_2\")"
            ],
            "outputs": [],
            "metadata": {}
        }
    ],
    "metadata": {
        "orig_nbformat": 4,
        "language_info": {
            "name": "python",
            "version": "3.9.6",
            "mimetype": "text/x-python",
            "codemirror_mode": {
                "name": "ipython",
                "version": 3
            },
            "pygments_lexer": "ipython3",
            "nbconvert_exporter": "python",
            "file_extension": ".py"
        },
        "kernelspec": {
            "name": "python3",
            "display_name": "Python 3.9.6 64-bit"
        },
        "interpreter": {
            "hash": "6964edc1e3482d1b27b6dc7e7a24c0dafb20203c4f1f42e5c7f21e1f51fabd5a"
        }
    },
    "nbformat": 4,
    "nbformat_minor": 2
}
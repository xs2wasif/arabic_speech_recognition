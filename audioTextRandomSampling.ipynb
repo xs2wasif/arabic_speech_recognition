{
    "cells": [
        {
            "cell_type": "code",
            "execution_count": 120,
            "source": [
                "import os\r\n",
                "import fileinput as fi\r\n",
                "import glob\r\n",
                "import moviepy.editor as mp\r\n",
                "import pandas as pd\r\n",
                "\r\n",
                "\r\n",
                "os.chdir(path=r\"D:\\02_batch_2\")\r\n",
                "print(\"Current Working Directory \" , os.getcwd())\r\n"
            ],
            "outputs": [
                {
                    "output_type": "stream",
                    "name": "stdout",
                    "text": [
                        "Current Working Directory  D:\\02_batch_2\n"
                    ]
                }
            ],
            "metadata": {}
        },
        {
            "cell_type": "markdown",
            "source": [
                "### Arabic Annotation collection"
            ],
            "metadata": {}
        },
        {
            "cell_type": "code",
            "execution_count": 89,
            "source": [
                "df_dirname = []\r\n",
                "for folder in sorted(os.listdir(os.getcwd())):\r\n",
                "    df_dirname.append((folder))\r\n",
                "\r\n",
                "df_dirname = pd.DataFrame(df_dirname, columns=['Folder'])\r\n",
                "df_dirname.sort_values(by='Folder',inplace=True)"
            ],
            "outputs": [],
            "metadata": {}
        },
        {
            "cell_type": "markdown",
            "source": [
                "li = []\r\n",
                "\r\n",
                "try:\r\n",
                "\r\n",
                "    for i,dname in enumerate(df_dirname['Folder']):\r\n",
                "        path = r'D:/02_batch_2/'\r\n",
                "        files = glob.glob(path + dname + '/*.txt')\r\n",
                "        print(f'Successfully created dataframe for {dname}')\r\n",
                "        for i,f in enumerate(files):\r\n",
                "\r\n",
                "            parse_error = False\r\n",
                "            file_not_found = False\r\n",
                "\r\n",
                "            stock = os.path.basename(f)            \r\n",
                "            temp_df = pd.read_csv(f, delimiter=\"\\t\", error_bad_lines=False)\r\n",
                "            temp_df['filePath'] = path + dname + '/'\r\n",
                "            temp_df['textFileName'] = stock     \r\n",
                "            temp_df['audioFileName'] = temp_df['textFileName'].replace('.txt', '.wav', regex=True)\r\n",
                "            temp_df['duration'] = temp_df.stop-temp_df.start\r\n",
                "            li.append(temp_df)\r\n",
                "            print(f'Successfully created dataframe for {stock} with shape {temp_df.shape}')\r\n",
                "\r\n",
                "except pd.errors.ParserError:\r\n",
                "    parse_error = True\r\n",
                "    temp_df = pd.read_csv(f, delimiter=\"\\t\",skiprows=4)\r\n",
                "    li.append(temp_df)\r\n",
                "    print(f'Error for {dname} {stock} with shape {temp_df.shape}')\r\n",
                "\r\n",
                "else:\r\n",
                "    li.append(temp_df)\r\n",
                "\r\n",
                "\r\n",
                "df = pd.concat(li, axis=0)\r\n",
                "print(df.shape)\r\n",
                "df.head(3)"
            ],
            "metadata": {}
        },
        {
            "cell_type": "code",
            "execution_count": 121,
            "source": [
                "li = []\r\n",
                "path = r'D:/02_batch_2/'\r\n",
                "\r\n",
                "for i,dname in enumerate(df_dirname['Folder']):\r\n",
                "\r\n",
                "    files = glob.glob(path + dname + '/*.txt')\r\n",
                "    #print(f'Successfully created dataframe for {dname}')\r\n",
                "    for i,f in enumerate(files):\r\n",
                "\r\n",
                "        parse_error = False\r\n",
                "        file_not_found = False\r\n",
                "\r\n",
                "        stock = os.path.basename(f)            \r\n",
                "        temp_df = pd.read_csv(f, delimiter=\"\\t\", error_bad_lines=False)\r\n",
                "        temp_df['filePath'] = path + dname + '/'\r\n",
                "        temp_df['textFileName'] = stock     \r\n",
                "        temp_df['audioFileName'] = temp_df['textFileName'].replace('.txt', '.wav', regex=True)\r\n",
                "        temp_df['duration'] = temp_df.stop-temp_df.start\r\n",
                "        li.append(temp_df)\r\n",
                "      #  print(f'Successfully created dataframe for {stock} with shape {temp_df.shape}')\r\n",
                "\r\n",
                "df = pd.concat(li, axis=0)\r\n",
                "print(df.shape)\r\n",
                "df.head(3)"
            ],
            "outputs": [
                {
                    "output_type": "stream",
                    "name": "stderr",
                    "text": [
                        "b'Skipping line 18: expected 5 fields, saw 7\\n'\n",
                        "b'Skipping line 12: expected 5 fields, saw 6\\n'\n",
                        "b'Skipping line 5: expected 5 fields, saw 8\\n'\n"
                    ]
                },
                {
                    "output_type": "stream",
                    "name": "stdout",
                    "text": [
                        "(507921, 9)\n"
                    ]
                },
                {
                    "output_type": "execute_result",
                    "data": {
                        "text/plain": [
                            "   speaker gender      start       stop  \\\n",
                            "0  speakeA      M   8.998978  23.522329   \n",
                            "1  speakeA      M  23.522329  25.772074   \n",
                            "2  speakeB      M  33.546191  38.020683   \n",
                            "\n",
                            "                                          transcript  \\\n",
                            "0  الحقوني الحقوني بطني بطني بموت  ما أقدر الحقون...   \n",
                            "1                             أضحك عليكو بس أختبركو.   \n",
                            "2                 اختبار ها تمزح معي ها تمزح معي ها.   \n",
                            "\n",
                            "                           filePath               textFileName  \\\n",
                            "0  D:/02_batch_2/37_degrees_series/  37_degrees_series_0-0.txt   \n",
                            "1  D:/02_batch_2/37_degrees_series/  37_degrees_series_0-0.txt   \n",
                            "2  D:/02_batch_2/37_degrees_series/  37_degrees_series_0-0.txt   \n",
                            "\n",
                            "               audioFileName   duration  \n",
                            "0  37_degrees_series_0-0.wav  14.523351  \n",
                            "1  37_degrees_series_0-0.wav   2.249745  \n",
                            "2  37_degrees_series_0-0.wav   4.474492  "
                        ],
                        "text/html": [
                            "<div>\n",
                            "<style scoped>\n",
                            "    .dataframe tbody tr th:only-of-type {\n",
                            "        vertical-align: middle;\n",
                            "    }\n",
                            "\n",
                            "    .dataframe tbody tr th {\n",
                            "        vertical-align: top;\n",
                            "    }\n",
                            "\n",
                            "    .dataframe thead th {\n",
                            "        text-align: right;\n",
                            "    }\n",
                            "</style>\n",
                            "<table border=\"1\" class=\"dataframe\">\n",
                            "  <thead>\n",
                            "    <tr style=\"text-align: right;\">\n",
                            "      <th></th>\n",
                            "      <th>speaker</th>\n",
                            "      <th>gender</th>\n",
                            "      <th>start</th>\n",
                            "      <th>stop</th>\n",
                            "      <th>transcript</th>\n",
                            "      <th>filePath</th>\n",
                            "      <th>textFileName</th>\n",
                            "      <th>audioFileName</th>\n",
                            "      <th>duration</th>\n",
                            "    </tr>\n",
                            "  </thead>\n",
                            "  <tbody>\n",
                            "    <tr>\n",
                            "      <th>0</th>\n",
                            "      <td>speakeA</td>\n",
                            "      <td>M</td>\n",
                            "      <td>8.998978</td>\n",
                            "      <td>23.522329</td>\n",
                            "      <td>الحقوني الحقوني بطني بطني بموت  ما أقدر الحقون...</td>\n",
                            "      <td>D:/02_batch_2/37_degrees_series/</td>\n",
                            "      <td>37_degrees_series_0-0.txt</td>\n",
                            "      <td>37_degrees_series_0-0.wav</td>\n",
                            "      <td>14.523351</td>\n",
                            "    </tr>\n",
                            "    <tr>\n",
                            "      <th>1</th>\n",
                            "      <td>speakeA</td>\n",
                            "      <td>M</td>\n",
                            "      <td>23.522329</td>\n",
                            "      <td>25.772074</td>\n",
                            "      <td>أضحك عليكو بس أختبركو.</td>\n",
                            "      <td>D:/02_batch_2/37_degrees_series/</td>\n",
                            "      <td>37_degrees_series_0-0.txt</td>\n",
                            "      <td>37_degrees_series_0-0.wav</td>\n",
                            "      <td>2.249745</td>\n",
                            "    </tr>\n",
                            "    <tr>\n",
                            "      <th>2</th>\n",
                            "      <td>speakeB</td>\n",
                            "      <td>M</td>\n",
                            "      <td>33.546191</td>\n",
                            "      <td>38.020683</td>\n",
                            "      <td>اختبار ها تمزح معي ها تمزح معي ها.</td>\n",
                            "      <td>D:/02_batch_2/37_degrees_series/</td>\n",
                            "      <td>37_degrees_series_0-0.txt</td>\n",
                            "      <td>37_degrees_series_0-0.wav</td>\n",
                            "      <td>4.474492</td>\n",
                            "    </tr>\n",
                            "  </tbody>\n",
                            "</table>\n",
                            "</div>"
                        ]
                    },
                    "metadata": {},
                    "execution_count": 121
                }
            ],
            "metadata": {}
        },
        {
            "cell_type": "code",
            "execution_count": 125,
            "source": [
                "df.duration.sum()/3600"
            ],
            "outputs": [
                {
                    "output_type": "execute_result",
                    "data": {
                        "text/plain": [
                            "1161.3279405906094"
                        ]
                    },
                    "metadata": {},
                    "execution_count": 125
                }
            ],
            "metadata": {}
        },
        {
            "cell_type": "markdown",
            "source": [
                "### Video Clipping"
            ],
            "metadata": {}
        },
        {
            "cell_type": "code",
            "execution_count": null,
            "source": [
                "fp = df.iloc[1,5]\r\n",
                "fn = df.iloc[1,7]\r\n",
                "fname = str(fp+fn)\r\n",
                "\r\n",
                "my_clip = mp.AudioFileClip(fname)\r\n",
                "clip = my_clip.subclip(df.iloc[1,2],df.iloc[1,3])\r\n",
                "\r\n",
                "clip.write_audiofile(r\"D:\\nf\\audio\\1_\"+str(fn)+\".mp3\")"
            ],
            "outputs": [],
            "metadata": {}
        },
        {
            "cell_type": "code",
            "execution_count": null,
            "source": [],
            "outputs": [],
            "metadata": {}
        },
        {
            "cell_type": "code",
            "execution_count": null,
            "source": [],
            "outputs": [],
            "metadata": {}
        },
        {
            "cell_type": "code",
            "execution_count": null,
            "source": [],
            "outputs": [],
            "metadata": {}
        },
        {
            "cell_type": "markdown",
            "source": [
                "#### Directory Structure"
            ],
            "metadata": {}
        },
        {
            "cell_type": "code",
            "execution_count": null,
            "source": [
                "def list_files(startpath):\r\n",
                "    for root, dirs, files in os.walk(startpath):\r\n",
                "        level = root.replace(startpath, '').count(os.sep)\r\n",
                "        indent = ' ' * 4 * (level)\r\n",
                "        print('{}{}/'.format(indent, os.path.basename(root)))\r\n",
                "        subindent = ' ' * 4 * (level + 1)\r\n",
                "        for f in files:\r\n",
                "            print('{}{}'.format(subindent, f))\r\n",
                "\r\n"
            ],
            "outputs": [],
            "metadata": {}
        },
        {
            "cell_type": "code",
            "execution_count": null,
            "source": [
                "list_files(r\"D:\\02_batch_2\")"
            ],
            "outputs": [],
            "metadata": {}
        }
    ],
    "metadata": {
        "orig_nbformat": 4,
        "language_info": {
            "name": "python",
            "version": "3.9.6",
            "mimetype": "text/x-python",
            "codemirror_mode": {
                "name": "ipython",
                "version": 3
            },
            "pygments_lexer": "ipython3",
            "nbconvert_exporter": "python",
            "file_extension": ".py"
        },
        "kernelspec": {
            "name": "python3",
            "display_name": "Python 3.9.6 64-bit"
        },
        "interpreter": {
            "hash": "6964edc1e3482d1b27b6dc7e7a24c0dafb20203c4f1f42e5c7f21e1f51fabd5a"
        }
    },
    "nbformat": 4,
    "nbformat_minor": 2
}
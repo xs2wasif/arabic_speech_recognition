{
    "cells": [
        {
            "cell_type": "code",
            "execution_count": null,
            "source": [
                "import os, shutil\r\n",
                "import fileinput as fi\r\n",
                "import glob\r\n",
                "import moviepy.editor as mp\r\n",
                "import pandas as pd\r\n",
                "import random\r\n",
                "import time\r\n",
                "\r\n",
                "os.chdir(path=r\"D:\\02_batch_2\")\r\n",
                "print(\"Current Working Directory \" , os.getcwd())\r\n",
                "\r\n",
                "df_dirname = []\r\n",
                "for folder in sorted(os.listdir(os.getcwd())):\r\n",
                "    df_dirname.append((folder))\r\n",
                "\r\n",
                "df_dirname = pd.DataFrame(df_dirname, columns=['Folder'])\r\n",
                "df_dirname.sort_values(by='Folder',inplace=True)\r\n",
                "df_dirname"
            ],
            "outputs": [],
            "metadata": {}
        },
        {
            "cell_type": "code",
            "execution_count": 20,
            "source": [
                "def as_perc(value, total):\r\n",
                "    return value/float(total)\r\n",
                "\r\n",
                "def aggregate_base(inPath,outPath):\r\n",
                "    i = 0\r\n",
                "    x = 0\r\n",
                "\r\n",
                "    li = []\r\n",
                "    path = inPath\r\n",
                "\r\n",
                "    for i,dname in enumerate(df_dirname['Folder']):\r\n",
                "\r\n",
                "        files = glob.glob(path + dname + '/*.txt')\r\n",
                "        #print(f'Successfully created dataframe for {dname}')\r\n",
                "        for i,f in enumerate(files):\r\n",
                "\r\n",
                "            parse_error = False\r\n",
                "            file_not_found = False\r\n",
                "\r\n",
                "            stock = os.path.basename(f)            \r\n",
                "            temp_df = pd.read_csv(f, delimiter=\"\\t\", error_bad_lines=False)\r\n",
                "            temp_df['filePath'] = path + dname + '/'\r\n",
                "            temp_df['textFileName'] = stock     \r\n",
                "            temp_df['audioFileName'] = temp_df['textFileName'].replace('.txt', '.wav', regex=True)\r\n",
                "            temp_df['duration'] = temp_df.stop-temp_df.start\r\n",
                "            li.append(temp_df)    \r\n",
                "    df = pd.concat(li, axis=0)\r\n",
                "\r\n",
                "    df_percent = df.groupby(['filePath','textFileName']).agg({'duration':['sum']}).reset_index()\r\n",
                "    df_percent=df_percent.droplevel(axis=1,level=1)\r\n",
                "    df_percent.rename(columns={'duration':'duration_sum'},inplace=True)\r\n",
                "    res = pd.DataFrame(df_percent.duration_sum.apply(as_perc, total=df_percent.duration_sum.sum()))\r\n",
                "    df_percent['req_duration'] = round(res*180000)\r\n",
                "    df_req_percent = df_percent.groupby('filePath').agg({'req_duration':'sum'}).reset_index()\r\n",
                "\r\n",
                "    df_selection = pd.DataFrame(columns=['src_filepath','src_filepath_wav','duration']) \r\n",
                "\r\n",
                "    for i,fpath in enumerate(df_req_percent['filePath']):\r\n",
                "        sum_duration = 0.0\r\n",
                "        req_duration = df_req_percent.loc[i,'req_duration']\r\n",
                "        filter_fpath = df_percent[df_percent['filePath'] == fpath]    \r\n",
                "\r\n",
                "        for ifpath in filter_fpath['textFileName']:\r\n",
                "            if (req_duration >= sum_duration):\r\n",
                "                n = random.randint(0,len(filter_fpath)-1)                        \r\n",
                "                df_selection.loc[x,'src_filepath'] = str(filter_fpath.iloc[n,0]) + str(filter_fpath.iloc[n,1])\r\n",
                "                df_selection.loc[x,'src_filepath_wav'] = df_selection.loc[x,'src_filepath'].replace('.txt', '.wav')\r\n",
                "                df_selection.loc[x,'duration'] = filter_fpath.iloc[n,2].astype('float32')\r\n",
                "                sum_duration = sum_duration + filter_fpath.iloc[n,2].astype('float32')\r\n",
                "                shutil.copy(df_selection.loc[x,'src_filepath'], outPath)\r\n",
                "                shutil.copy(df_selection.loc[x,'src_filepath_wav'], outPath)\r\n",
                "                x+=1  \r\n",
                "\r\n",
                "    return df_selection\r\n",
                "\r\n",
                "\r\n",
                "    "
            ],
            "outputs": [],
            "metadata": {}
        },
        {
            "cell_type": "code",
            "execution_count": 21,
            "source": [
                "df_selection = aggregate_base (r'D:/02_batch_2/',r'D:/nf/audio/')\r\n",
                "df_selection.head(3)"
            ],
            "outputs": [
                {
                    "output_type": "stream",
                    "name": "stderr",
                    "text": [
                        "b'Skipping line 18: expected 5 fields, saw 7\\n'\n",
                        "b'Skipping line 12: expected 5 fields, saw 6\\n'\n",
                        "b'Skipping line 5: expected 5 fields, saw 8\\n'\n"
                    ]
                },
                {
                    "output_type": "execute_result",
                    "data": {
                        "text/plain": [
                            "                                        src_filepath  \\\n",
                            "0  D:/02_batch_2/37_degrees_series/37_degrees_ser...   \n",
                            "1  D:/02_batch_2/37_degrees_series/37_degrees_ser...   \n",
                            "2  D:/02_batch_2/37_degrees_series/37_degrees_ser...   \n",
                            "\n",
                            "                                    src_filepath_wav    duration  \n",
                            "0  D:/02_batch_2/37_degrees_series/37_degrees_ser...  184.290176  \n",
                            "1  D:/02_batch_2/37_degrees_series/37_degrees_ser...  105.642891  \n",
                            "2  D:/02_batch_2/37_degrees_series/37_degrees_ser...  147.067932  "
                        ],
                        "text/html": [
                            "<div>\n",
                            "<style scoped>\n",
                            "    .dataframe tbody tr th:only-of-type {\n",
                            "        vertical-align: middle;\n",
                            "    }\n",
                            "\n",
                            "    .dataframe tbody tr th {\n",
                            "        vertical-align: top;\n",
                            "    }\n",
                            "\n",
                            "    .dataframe thead th {\n",
                            "        text-align: right;\n",
                            "    }\n",
                            "</style>\n",
                            "<table border=\"1\" class=\"dataframe\">\n",
                            "  <thead>\n",
                            "    <tr style=\"text-align: right;\">\n",
                            "      <th></th>\n",
                            "      <th>src_filepath</th>\n",
                            "      <th>src_filepath_wav</th>\n",
                            "      <th>duration</th>\n",
                            "    </tr>\n",
                            "  </thead>\n",
                            "  <tbody>\n",
                            "    <tr>\n",
                            "      <th>0</th>\n",
                            "      <td>D:/02_batch_2/37_degrees_series/37_degrees_ser...</td>\n",
                            "      <td>D:/02_batch_2/37_degrees_series/37_degrees_ser...</td>\n",
                            "      <td>184.290176</td>\n",
                            "    </tr>\n",
                            "    <tr>\n",
                            "      <th>1</th>\n",
                            "      <td>D:/02_batch_2/37_degrees_series/37_degrees_ser...</td>\n",
                            "      <td>D:/02_batch_2/37_degrees_series/37_degrees_ser...</td>\n",
                            "      <td>105.642891</td>\n",
                            "    </tr>\n",
                            "    <tr>\n",
                            "      <th>2</th>\n",
                            "      <td>D:/02_batch_2/37_degrees_series/37_degrees_ser...</td>\n",
                            "      <td>D:/02_batch_2/37_degrees_series/37_degrees_ser...</td>\n",
                            "      <td>147.067932</td>\n",
                            "    </tr>\n",
                            "  </tbody>\n",
                            "</table>\n",
                            "</div>"
                        ]
                    },
                    "metadata": {},
                    "execution_count": 21
                }
            ],
            "metadata": {}
        }
    ],
    "metadata": {
        "orig_nbformat": 4,
        "language_info": {
            "name": "python",
            "version": "3.9.6",
            "mimetype": "text/x-python",
            "codemirror_mode": {
                "name": "ipython",
                "version": 3
            },
            "pygments_lexer": "ipython3",
            "nbconvert_exporter": "python",
            "file_extension": ".py"
        },
        "kernelspec": {
            "name": "python3",
            "display_name": "Python 3.9.6 64-bit"
        },
        "interpreter": {
            "hash": "6964edc1e3482d1b27b6dc7e7a24c0dafb20203c4f1f42e5c7f21e1f51fabd5a"
        }
    },
    "nbformat": 4,
    "nbformat_minor": 2
}